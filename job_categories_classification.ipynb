{
 "cells": [
  {
   "cell_type": "code",
   "execution_count": 1,
   "metadata": {},
   "outputs": [
    {
     "name": "stderr",
     "output_type": "stream",
     "text": [
      "C:\\Users\\ngche\\AppData\\Local\\Packages\\PythonSoftwareFoundation.Python.3.11_qbz5n2kfra8p0\\LocalCache\\local-packages\\Python311\\site-packages\\tqdm\\auto.py:21: TqdmWarning: IProgress not found. Please update jupyter and ipywidgets. See https://ipywidgets.readthedocs.io/en/stable/user_install.html\n",
      "  from .autonotebook import tqdm as notebook_tqdm\n"
     ]
    }
   ],
   "source": [
    "from transformers import pipeline\n",
    "import pandas as pd\n"
   ]
  },
  {
   "cell_type": "code",
   "execution_count": null,
   "metadata": {},
   "outputs": [],
   "source": [
    "X = pd.read_csv(r\"C:\\Users\\ngche\\Downloads\\X.csv\")\n",
    "y = pd.read_csv(r\"C:\\Users\\ngche\\Downloads\\y.csv\")"
   ]
  },
  {
   "cell_type": "code",
   "execution_count": null,
   "metadata": {},
   "outputs": [],
   "source": [
    "# Load a text classification model pipeline\n",
    "pipe = pipeline(\"text-classification\", model=\"serbog/distilbert-jobCategory_410k\")\n",
    "\n",
    "job_categories = []\n",
    "\n",
    "# Process each input using the reusable pipeline\n",
    "for text in X['job']:\n",
    "    result = pipe(\n",
    "        text\n",
    "    )\n",
    "    job_categories.append(result[0]['label'])"
   ]
  },
  {
   "cell_type": "code",
   "execution_count": null,
   "metadata": {},
   "outputs": [],
   "source": [
    "X.to_csv('../X_job_categories.csv', index=False)"
   ]
  },
  {
   "cell_type": "code",
   "execution_count": 2,
   "metadata": {},
   "outputs": [],
   "source": [
    "X = pd.read_csv(r\"../X_job_categories.csv\")"
   ]
  },
  {
   "cell_type": "code",
   "execution_count": 6,
   "metadata": {},
   "outputs": [
    {
     "data": {
      "text/html": [
       "<div>\n",
       "<style scoped>\n",
       "    .dataframe tbody tr th:only-of-type {\n",
       "        vertical-align: middle;\n",
       "    }\n",
       "\n",
       "    .dataframe tbody tr th {\n",
       "        vertical-align: top;\n",
       "    }\n",
       "\n",
       "    .dataframe thead th {\n",
       "        text-align: right;\n",
       "    }\n",
       "</style>\n",
       "<table border=\"1\" class=\"dataframe\">\n",
       "  <thead>\n",
       "    <tr style=\"text-align: right;\">\n",
       "      <th></th>\n",
       "      <th>job_categories</th>\n",
       "      <th>top_jobs</th>\n",
       "    </tr>\n",
       "  </thead>\n",
       "  <tbody>\n",
       "    <tr>\n",
       "      <th>0</th>\n",
       "      <td>C1</td>\n",
       "      <td>[Energy manager, Sales professional, IT, Call centre manager, Drilling engineer, Chief Strategy Officer, Art gallery manager, Chief Financial Officer, Chief Executive Officer, Emergency planning/management officer, TEFL teacher]</td>\n",
       "    </tr>\n",
       "    <tr>\n",
       "      <th>1</th>\n",
       "      <td>C2</td>\n",
       "      <td>[Designer, ceramics/pottery, Counselling psychologist, Archivist, Toxicologist, Financial adviser, Scientist, biomedical, Physicist, medical, Writer, Editor, film/video, Comptroller]</td>\n",
       "    </tr>\n",
       "    <tr>\n",
       "      <th>2</th>\n",
       "      <td>C3</td>\n",
       "      <td>[Theatre manager, Administrator, Production manager, Field trials officer, Television production assistant, Water engineer, Probation officer, Agricultural consultant, Accounting technician, Tourist information centre manager]</td>\n",
       "    </tr>\n",
       "    <tr>\n",
       "      <th>3</th>\n",
       "      <td>C4</td>\n",
       "      <td>[Travel agency manager, Futures trader, Exhibitions officer, museum/gallery, Bookseller, Retail buyer, Chartered loss adjuster, Race relations officer, Magazine features editor, Technical brewer, Public relations account executive]</td>\n",
       "    </tr>\n",
       "    <tr>\n",
       "      <th>4</th>\n",
       "      <td>C5</td>\n",
       "      <td>[Sub, Barrister's clerk, Health physicist, Prison officer, Equities trader, Barrister, Public house manager, Mental health nurse, Make, Museum/gallery conservator]</td>\n",
       "    </tr>\n",
       "    <tr>\n",
       "      <th>5</th>\n",
       "      <td>C6</td>\n",
       "      <td>[Land, Horticulturist, commercial, Commercial horticulturist, Arboriculturist, Amenity horticulturist, Nature conservation officer, Forest/woodland manager]</td>\n",
       "    </tr>\n",
       "    <tr>\n",
       "      <th>6</th>\n",
       "      <td>C7</td>\n",
       "      <td>[Warden/ranger, Glass blower/designer, Mudlogger, Conservator, furniture, Furniture conservator/restorer, Television camera operator]</td>\n",
       "    </tr>\n",
       "    <tr>\n",
       "      <th>7</th>\n",
       "      <td>C8</td>\n",
       "      <td>[Clothing/textile technologist, Camera operator, Air cabin crew, Garment/textile technologist, Cabin crew, Dancer]</td>\n",
       "    </tr>\n",
       "    <tr>\n",
       "      <th>8</th>\n",
       "      <td>C9</td>\n",
       "      <td>[Press sub, Fisheries officer, Aid worker, Gaffer]</td>\n",
       "    </tr>\n",
       "  </tbody>\n",
       "</table>\n",
       "</div>"
      ],
      "text/plain": [
       "  job_categories   \n",
       "0             C1  \\\n",
       "1             C2   \n",
       "2             C3   \n",
       "3             C4   \n",
       "4             C5   \n",
       "5             C6   \n",
       "6             C7   \n",
       "7             C8   \n",
       "8             C9   \n",
       "\n",
       "                                                                                                                                                                                                                                  top_jobs  \n",
       "0     [Energy manager, Sales professional, IT, Call centre manager, Drilling engineer, Chief Strategy Officer, Art gallery manager, Chief Financial Officer, Chief Executive Officer, Emergency planning/management officer, TEFL teacher]  \n",
       "1                                                   [Designer, ceramics/pottery, Counselling psychologist, Archivist, Toxicologist, Financial adviser, Scientist, biomedical, Physicist, medical, Writer, Editor, film/video, Comptroller]  \n",
       "2       [Theatre manager, Administrator, Production manager, Field trials officer, Television production assistant, Water engineer, Probation officer, Agricultural consultant, Accounting technician, Tourist information centre manager]  \n",
       "3  [Travel agency manager, Futures trader, Exhibitions officer, museum/gallery, Bookseller, Retail buyer, Chartered loss adjuster, Race relations officer, Magazine features editor, Technical brewer, Public relations account executive]  \n",
       "4                                                                      [Sub, Barrister's clerk, Health physicist, Prison officer, Equities trader, Barrister, Public house manager, Mental health nurse, Make, Museum/gallery conservator]  \n",
       "5                                                                             [Land, Horticulturist, commercial, Commercial horticulturist, Arboriculturist, Amenity horticulturist, Nature conservation officer, Forest/woodland manager]  \n",
       "6                                                                                                    [Warden/ranger, Glass blower/designer, Mudlogger, Conservator, furniture, Furniture conservator/restorer, Television camera operator]  \n",
       "7                                                                                                                       [Clothing/textile technologist, Camera operator, Air cabin crew, Garment/textile technologist, Cabin crew, Dancer]  \n",
       "8                                                                                                                                                                                       [Press sub, Fisheries officer, Aid worker, Gaffer]  "
      ]
     },
     "metadata": {},
     "output_type": "display_data"
    }
   ],
   "source": [
    "df_sorted = X.sort_values('job_categories')\n",
    "\n",
    "unique_jobs_per_category = df_sorted.groupby('job_categories')['job'].unique()\n",
    "\n",
    "# create a new DataFrame to hold the first 10 unique jobs for each category\n",
    "top_jobs_per_category = pd.DataFrame({\n",
    "    'job_categories': unique_jobs_per_category.index,\n",
    "    'top_jobs': [jobs[:10] for jobs in unique_jobs_per_category.values]\n",
    "})\n",
    "\n",
    "# Reset index to make it look neat\n",
    "top_jobs_per_category.reset_index(drop=True, inplace=True)\n",
    "\n",
    "# Display the DataFrame\n",
    "from IPython.display import display\n",
    "pd.set_option('display.max_rows', None)  \n",
    "pd.set_option('display.width', None) \n",
    "pd.set_option('display.max_colwidth', None)\n",
    "\n",
    "display(top_jobs_per_category)"
   ]
  },
  {
   "cell_type": "markdown",
   "metadata": {},
   "source": [
    "C1\n",
    "Include high-level managerial and executive positions across various industries\n",
    "\n",
    "C2\n",
    "Jobs appear related to the arts, culture, and advisory services, including psychology, writing, editing, and financial advising.\n",
    "\n",
    "C3\n",
    "Administrative and managerial roles in the arts, agriculture, and public information services.\n",
    "\n",
    "C4\n",
    "Commercial services, trade, and public relations, including roles in management, trading, and editing\n",
    "\n",
    "C5\n",
    "Legal professions, health-related roles, and management positions in hospitality\n",
    "\n",
    "C6\n",
    "Horticulture, conservation, and land management, a focus on outdoor, environmental, and conservation work.\n",
    "\n",
    "C7\n",
    "Specialized technical jobs related to conservation, media production, and geological services.\n",
    "\n",
    "C8\n",
    "Jobs related to technical craftsmanship, customer service in travel, and entertainment.\n",
    "\n",
    "C9\n",
    "Diverse roles for specialised service and support roles.\n",
    "\n"
   ]
  },
  {
   "cell_type": "markdown",
   "metadata": {},
   "source": []
  }
 ],
 "metadata": {
  "kernelspec": {
   "display_name": "Python 3",
   "language": "python",
   "name": "python3"
  },
  "language_info": {
   "codemirror_mode": {
    "name": "ipython",
    "version": 3
   },
   "file_extension": ".py",
   "mimetype": "text/x-python",
   "name": "python",
   "nbconvert_exporter": "python",
   "pygments_lexer": "ipython3",
   "version": "3.11.6"
  },
  "orig_nbformat": 4
 },
 "nbformat": 4,
 "nbformat_minor": 2
}
