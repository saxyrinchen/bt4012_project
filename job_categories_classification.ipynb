{
 "cells": [
  {
   "cell_type": "markdown",
   "metadata": {},
   "source": [
    "## Information of This Notebook\n",
    "> **This section of the notebook is dedicated to classifying job titles into distinct categories and then grouping similar job titles under these categories.**\n",
    "\n",
    "The process involves the following steps:\n",
    "1. Text Classification Pipeline\n",
    "2. Job Title Classification\n",
    "3. Aggregation of Job Titles\n",
    "4. Results Presentation"
   ]
  },
  {
   "cell_type": "markdown",
   "metadata": {},
   "source": [
    "## Importing Necessary Libraries"
   ]
  },
  {
   "cell_type": "code",
   "execution_count": 20,
   "metadata": {},
   "outputs": [],
   "source": [
    "from transformers import pipeline\n",
    "import pandas as pd\n",
    "from IPython.display import display\n",
    "\n",
    "pd.set_option('display.max_rows', None)  \n",
    "pd.set_option('display.max_columns', None)\n",
    "pd.set_option('display.width', None) \n",
    "pd.set_option('display.max_colwidth', None)"
   ]
  },
  {
   "cell_type": "markdown",
   "metadata": {},
   "source": [
    "Load `fraudDataset.csv`"
   ]
  },
  {
   "cell_type": "code",
   "execution_count": null,
   "metadata": {},
   "outputs": [],
   "source": [
    "df = pd.read_csv('../fraudDataset.csv').iloc[:,1:]\n",
    "df.head()"
   ]
  },
  {
   "cell_type": "markdown",
   "metadata": {},
   "source": [
    "## 1. Text Classification Pipeline\n",
    "We utilize the Hugging Face transformers library to set up a text classification pipeline. This pipeline employs the \"serbog/distilbert-jobCategory_410k\" model, which is a DistilBERT-based model specifically trained for categorizing job titles."
   ]
  },
  {
   "cell_type": "code",
   "execution_count": 22,
   "metadata": {},
   "outputs": [],
   "source": [
    "pipe = pipeline(\"text-classification\", model=\"serbog/distilbert-jobCategory_410k\") # initialize"
   ]
  },
  {
   "cell_type": "markdown",
   "metadata": {},
   "source": [
    "## 2. Job Title Classification \n",
    "Each job title in the dataframe's 'job' column is processed through the pipeline. The model predicts the category of each job title based on its text content."
   ]
  },
  {
   "cell_type": "code",
   "execution_count": 23,
   "metadata": {},
   "outputs": [],
   "source": [
    "def classify_job(curr_job_title):\n",
    "    result = pipe(curr_job_title)\n",
    "    return result[0]['label']"
   ]
  },
  {
   "cell_type": "code",
   "execution_count": null,
   "metadata": {},
   "outputs": [],
   "source": [
    "df['job_category'] = df['job'].apply(classify_job)"
   ]
  },
  {
   "cell_type": "markdown",
   "metadata": {},
   "source": [
    "## 3. Aggregation of Job Titles\n",
    "After classification, job titles are grouped by their predicted categories. This grouping allows us to aggregate similar jobs under a unified category, making it easier to understand and analyze the distribution of job types in our dataset."
   ]
  },
  {
   "cell_type": "code",
   "execution_count": 25,
   "metadata": {},
   "outputs": [],
   "source": [
    "df_sorted = df.sort_values('job_category')\n",
    "\n",
    "unique_jobs_per_category = df_sorted.groupby('job_category')['job'].unique()\n",
    "\n",
    "# create a new DataFrame to hold the first 10 unique jobs for each category\n",
    "top_jobs_per_category = pd.DataFrame({\n",
    "    'job_category': unique_jobs_per_category.index,\n",
    "    'top_jobs': [jobs[:10] for jobs in unique_jobs_per_category.values]\n",
    "})\n",
    "\n",
    "# Reset index to make it look neat\n",
    "top_jobs_per_category.reset_index(drop=True, inplace=True)"
   ]
  },
  {
   "cell_type": "markdown",
   "metadata": {},
   "source": [
    "## 4. Result Presentation\n",
    "Each row represents a unique job category, accompanied by a list of job titles that fall under that category. This structured format provides a clear overview of how job titles are distributed across different categories, as determined by the model."
   ]
  },
  {
   "cell_type": "code",
   "execution_count": 6,
   "metadata": {},
   "outputs": [
    {
     "data": {
      "text/html": [
       "<div>\n",
       "<style scoped>\n",
       "    .dataframe tbody tr th:only-of-type {\n",
       "        vertical-align: middle;\n",
       "    }\n",
       "\n",
       "    .dataframe tbody tr th {\n",
       "        vertical-align: top;\n",
       "    }\n",
       "\n",
       "    .dataframe thead th {\n",
       "        text-align: right;\n",
       "    }\n",
       "</style>\n",
       "<table border=\"1\" class=\"dataframe\">\n",
       "  <thead>\n",
       "    <tr style=\"text-align: right;\">\n",
       "      <th></th>\n",
       "      <th>job_categories</th>\n",
       "      <th>top_jobs</th>\n",
       "    </tr>\n",
       "  </thead>\n",
       "  <tbody>\n",
       "    <tr>\n",
       "      <th>0</th>\n",
       "      <td>C1</td>\n",
       "      <td>[Energy manager, Sales professional, IT, Call centre manager, Drilling engineer, Chief Strategy Officer, Art gallery manager, Chief Financial Officer, Chief Executive Officer, Emergency planning/management officer, TEFL teacher]</td>\n",
       "    </tr>\n",
       "    <tr>\n",
       "      <th>1</th>\n",
       "      <td>C2</td>\n",
       "      <td>[Designer, ceramics/pottery, Counselling psychologist, Archivist, Toxicologist, Financial adviser, Scientist, biomedical, Physicist, medical, Writer, Editor, film/video, Comptroller]</td>\n",
       "    </tr>\n",
       "    <tr>\n",
       "      <th>2</th>\n",
       "      <td>C3</td>\n",
       "      <td>[Theatre manager, Administrator, Production manager, Field trials officer, Television production assistant, Water engineer, Probation officer, Agricultural consultant, Accounting technician, Tourist information centre manager]</td>\n",
       "    </tr>\n",
       "    <tr>\n",
       "      <th>3</th>\n",
       "      <td>C4</td>\n",
       "      <td>[Travel agency manager, Futures trader, Exhibitions officer, museum/gallery, Bookseller, Retail buyer, Chartered loss adjuster, Race relations officer, Magazine features editor, Technical brewer, Public relations account executive]</td>\n",
       "    </tr>\n",
       "    <tr>\n",
       "      <th>4</th>\n",
       "      <td>C5</td>\n",
       "      <td>[Sub, Barrister's clerk, Health physicist, Prison officer, Equities trader, Barrister, Public house manager, Mental health nurse, Make, Museum/gallery conservator]</td>\n",
       "    </tr>\n",
       "    <tr>\n",
       "      <th>5</th>\n",
       "      <td>C6</td>\n",
       "      <td>[Land, Horticulturist, commercial, Commercial horticulturist, Arboriculturist, Amenity horticulturist, Nature conservation officer, Forest/woodland manager]</td>\n",
       "    </tr>\n",
       "    <tr>\n",
       "      <th>6</th>\n",
       "      <td>C7</td>\n",
       "      <td>[Warden/ranger, Glass blower/designer, Mudlogger, Conservator, furniture, Furniture conservator/restorer, Television camera operator]</td>\n",
       "    </tr>\n",
       "    <tr>\n",
       "      <th>7</th>\n",
       "      <td>C8</td>\n",
       "      <td>[Clothing/textile technologist, Camera operator, Air cabin crew, Garment/textile technologist, Cabin crew, Dancer]</td>\n",
       "    </tr>\n",
       "    <tr>\n",
       "      <th>8</th>\n",
       "      <td>C9</td>\n",
       "      <td>[Press sub, Fisheries officer, Aid worker, Gaffer]</td>\n",
       "    </tr>\n",
       "  </tbody>\n",
       "</table>\n",
       "</div>"
      ],
      "text/plain": [
       "  job_categories   \n",
       "0             C1  \\\n",
       "1             C2   \n",
       "2             C3   \n",
       "3             C4   \n",
       "4             C5   \n",
       "5             C6   \n",
       "6             C7   \n",
       "7             C8   \n",
       "8             C9   \n",
       "\n",
       "                                                                                                                                                                                                                                  top_jobs  \n",
       "0     [Energy manager, Sales professional, IT, Call centre manager, Drilling engineer, Chief Strategy Officer, Art gallery manager, Chief Financial Officer, Chief Executive Officer, Emergency planning/management officer, TEFL teacher]  \n",
       "1                                                   [Designer, ceramics/pottery, Counselling psychologist, Archivist, Toxicologist, Financial adviser, Scientist, biomedical, Physicist, medical, Writer, Editor, film/video, Comptroller]  \n",
       "2       [Theatre manager, Administrator, Production manager, Field trials officer, Television production assistant, Water engineer, Probation officer, Agricultural consultant, Accounting technician, Tourist information centre manager]  \n",
       "3  [Travel agency manager, Futures trader, Exhibitions officer, museum/gallery, Bookseller, Retail buyer, Chartered loss adjuster, Race relations officer, Magazine features editor, Technical brewer, Public relations account executive]  \n",
       "4                                                                      [Sub, Barrister's clerk, Health physicist, Prison officer, Equities trader, Barrister, Public house manager, Mental health nurse, Make, Museum/gallery conservator]  \n",
       "5                                                                             [Land, Horticulturist, commercial, Commercial horticulturist, Arboriculturist, Amenity horticulturist, Nature conservation officer, Forest/woodland manager]  \n",
       "6                                                                                                    [Warden/ranger, Glass blower/designer, Mudlogger, Conservator, furniture, Furniture conservator/restorer, Television camera operator]  \n",
       "7                                                                                                                       [Clothing/textile technologist, Camera operator, Air cabin crew, Garment/textile technologist, Cabin crew, Dancer]  \n",
       "8                                                                                                                                                                                       [Press sub, Fisheries officer, Aid worker, Gaffer]  "
      ]
     },
     "metadata": {},
     "output_type": "display_data"
    }
   ],
   "source": [
    "display(top_jobs_per_category)"
   ]
  },
  {
   "cell_type": "markdown",
   "metadata": {},
   "source": [
    "C1: This category seems to include high-level managerial and executive positions across various industries, including energy, sales, finance, and emergency management.\n",
    "\n",
    "C2: These jobs appear to be related to the arts, culture, and advisory services, including psychology, writing, editing, and financial advising.\n",
    "\n",
    "C3: This category might focus on administrative and managerial roles in the arts, agriculture, and public information services.\n",
    "\n",
    "C4: These jobs seem to be related to commercial services, trade, and public relations, including roles in management, trading, and editing.\n",
    "\n",
    "C5: This category includes legal professions, health-related roles, and management positions in hospitality and mental health care.\n",
    "\n",
    "C6: The jobs listed under this category are related to horticulture, conservation, and land management, indicating a focus on outdoor, environmental, and conservation work.\n",
    "\n",
    "C7: These roles seem to be specialized artisanal or technical jobs related to conservation, media production, and geological services.\n",
    "\n",
    "C8: This category includes jobs related to textiles, aviation, and performing arts, suggesting a focus on technical craftsmanship, customer service in travel, and entertainment.\n",
    "\n",
    "C9: The roles here are diverse, ranging from media and journalism (press sub) to environmental and humanitarian work (fisheries officer, aid worker), indicating a category for specialized service and support roles."
   ]
  },
  {
   "cell_type": "markdown",
   "metadata": {},
   "source": [
    "## 5. Exporting Dataset with Classified Jobs\n",
    "For further use in `data_preprocessing.ipynb`"
   ]
  },
  {
   "cell_type": "code",
   "execution_count": null,
   "metadata": {},
   "outputs": [],
   "source": [
    "df.to_csv('../fraudDataset_jobs_classified.csv', index=False)"
   ]
  }
 ],
 "metadata": {
  "kernelspec": {
   "display_name": "Python 3",
   "language": "python",
   "name": "python3"
  },
  "language_info": {
   "codemirror_mode": {
    "name": "ipython",
    "version": 3
   },
   "file_extension": ".py",
   "mimetype": "text/x-python",
   "name": "python",
   "nbconvert_exporter": "python",
   "pygments_lexer": "ipython3",
   "version": "3.8.9"
  },
  "orig_nbformat": 4
 },
 "nbformat": 4,
 "nbformat_minor": 2
}
