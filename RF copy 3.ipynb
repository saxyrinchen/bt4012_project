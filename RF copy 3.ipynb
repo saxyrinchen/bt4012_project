{
 "cells": [
  {
   "cell_type": "code",
   "execution_count": 150,
   "metadata": {},
   "outputs": [],
   "source": [
    "import warnings\n",
    "warnings.filterwarnings(\"ignore\")\n",
    "\n",
    "import pandas as pd\n",
    "import numpy as np\n",
    "import matplotlib.pyplot as plt\n",
    "import matplotlib.cm as cm\n",
    "from random import seed,sample\n",
    "import datetime as dt\n",
    "from datetime import datetime\n",
    "import seaborn as sns\n",
    "from imblearn.under_sampling import RandomUnderSampler # Undersampling for Unbalanced Data\n",
    "from imblearn.over_sampling import SMOTE # Oversampling for Unbalanced Data\n",
    "from sklearn.preprocessing import OneHotEncoder, MinMaxScaler # Data Encoders\n",
    "from sklearn.model_selection import train_test_split\n",
    "import scipy.stats as stats\n",
    "from sklearn.ensemble import RandomForestClassifier\n",
    "from sklearn.model_selection import StratifiedKFold\n",
    "from sklearn.model_selection import cross_val_score\n",
    "\n",
    "\n",
    "pd.set_option('display.max_columns', 500)\n",
    "\n",
    "from sklearn.preprocessing import StandardScaler, OneHotEncoder\n",
    "from sklearn.linear_model import LogisticRegression\n",
    "from sklearn.metrics import accuracy_score, precision_score, recall_score, f1_score, roc_curve, auc, confusion_matrix\n",
    "from imblearn.over_sampling import SMOTE\n",
    "%matplotlib inline"
   ]
  },
  {
   "cell_type": "code",
   "execution_count": 151,
   "metadata": {},
   "outputs": [],
   "source": [
    "X_train = pd.read_csv('../X_train.csv')\n",
    "X_val = pd.read_csv('../X_val.csv')\n",
    "y_train = pd.read_csv('../y_train.csv')\n",
    "y_val = pd.read_csv('../y_val.csv')\n",
    "\n",
    "# test set only for one-time assessment of final model\n",
    "X_test = pd.read_csv('../X_test.csv')\n",
    "y_test = pd.read_csv('../y_test.csv')"
   ]
  },
  {
   "cell_type": "markdown",
   "metadata": {},
   "source": [
    "Scale the features below only, we don't scale the hour_of_day since the values are already within a similar range and have a clear numerical interpretation (hours of the day)"
   ]
  },
  {
   "cell_type": "code",
   "execution_count": 152,
   "metadata": {},
   "outputs": [],
   "source": [
    "from sklearn.preprocessing import StandardScaler\n",
    "\n",
    "features_to_scale = ['hour_of_day', 'distance', 'amount(usd)']\n",
    "\n",
    "# Initialize the StandardScaler and fit/transform on numerical features\n",
    "scaler = StandardScaler()\n",
    "\n",
    "# Fit and transform the scaler on the selected features in your training data\n",
    "X_train_scaled = X_train.copy()\n",
    "X_train_scaled[features_to_scale] = scaler.fit_transform(X_train[features_to_scale])\n",
    "\n",
    "# Transform the same selected features in validation data using the same scaler\n",
    "X_val_scaled = X_val.copy()\n",
    "X_val_scaled[features_to_scale] = scaler.transform(X_val[features_to_scale])\n",
    "\n",
    "# Transform the same selected features in test data using the same scaler\n",
    "X_test_scaled = X_test.copy()\n",
    "X_test_scaled[features_to_scale] = scaler.transform(X_test[features_to_scale])"
   ]
  },
  {
   "cell_type": "code",
   "execution_count": 153,
   "metadata": {},
   "outputs": [
    {
     "data": {
      "text/html": [
       "<div>\n",
       "<style scoped>\n",
       "    .dataframe tbody tr th:only-of-type {\n",
       "        vertical-align: middle;\n",
       "    }\n",
       "\n",
       "    .dataframe tbody tr th {\n",
       "        vertical-align: top;\n",
       "    }\n",
       "\n",
       "    .dataframe thead th {\n",
       "        text-align: right;\n",
       "    }\n",
       "</style>\n",
       "<table border=\"1\" class=\"dataframe\">\n",
       "  <thead>\n",
       "    <tr style=\"text-align: right;\">\n",
       "      <th></th>\n",
       "      <th>hour_of_day</th>\n",
       "      <th>day_of_week</th>\n",
       "      <th>category</th>\n",
       "      <th>gender</th>\n",
       "      <th>age_group</th>\n",
       "      <th>state</th>\n",
       "      <th>job_category</th>\n",
       "      <th>distance</th>\n",
       "      <th>amount(usd)</th>\n",
       "    </tr>\n",
       "  </thead>\n",
       "  <tbody>\n",
       "    <tr>\n",
       "      <th>0</th>\n",
       "      <td>-0.705493</td>\n",
       "      <td>Tuesday</td>\n",
       "      <td>shopping_pos</td>\n",
       "      <td>F</td>\n",
       "      <td>61-80</td>\n",
       "      <td>NY</td>\n",
       "      <td>C2</td>\n",
       "      <td>-0.701223</td>\n",
       "      <td>-0.437322</td>\n",
       "    </tr>\n",
       "    <tr>\n",
       "      <th>1</th>\n",
       "      <td>0.761922</td>\n",
       "      <td>Tuesday</td>\n",
       "      <td>shopping_pos</td>\n",
       "      <td>F</td>\n",
       "      <td>21-40</td>\n",
       "      <td>MO</td>\n",
       "      <td>C3</td>\n",
       "      <td>1.941211</td>\n",
       "      <td>-0.436237</td>\n",
       "    </tr>\n",
       "    <tr>\n",
       "      <th>2</th>\n",
       "      <td>0.174956</td>\n",
       "      <td>Friday</td>\n",
       "      <td>food_dining</td>\n",
       "      <td>F</td>\n",
       "      <td>21-40</td>\n",
       "      <td>TX</td>\n",
       "      <td>C2</td>\n",
       "      <td>1.709572</td>\n",
       "      <td>-0.394625</td>\n",
       "    </tr>\n",
       "    <tr>\n",
       "      <th>3</th>\n",
       "      <td>0.174956</td>\n",
       "      <td>Tuesday</td>\n",
       "      <td>shopping_pos</td>\n",
       "      <td>M</td>\n",
       "      <td>21-40</td>\n",
       "      <td>MS</td>\n",
       "      <td>C3</td>\n",
       "      <td>-0.041440</td>\n",
       "      <td>-0.383903</td>\n",
       "    </tr>\n",
       "    <tr>\n",
       "      <th>4</th>\n",
       "      <td>-0.412010</td>\n",
       "      <td>Tuesday</td>\n",
       "      <td>entertainment</td>\n",
       "      <td>M</td>\n",
       "      <td>61-80</td>\n",
       "      <td>CA</td>\n",
       "      <td>C1</td>\n",
       "      <td>0.545014</td>\n",
       "      <td>-0.433110</td>\n",
       "    </tr>\n",
       "  </tbody>\n",
       "</table>\n",
       "</div>"
      ],
      "text/plain": [
       "   hour_of_day day_of_week       category gender age_group state job_category  \\\n",
       "0    -0.705493     Tuesday   shopping_pos      F     61-80    NY           C2   \n",
       "1     0.761922     Tuesday   shopping_pos      F     21-40    MO           C3   \n",
       "2     0.174956      Friday    food_dining      F     21-40    TX           C2   \n",
       "3     0.174956     Tuesday   shopping_pos      M     21-40    MS           C3   \n",
       "4    -0.412010     Tuesday  entertainment      M     61-80    CA           C1   \n",
       "\n",
       "   distance  amount(usd)  \n",
       "0 -0.701223    -0.437322  \n",
       "1  1.941211    -0.436237  \n",
       "2  1.709572    -0.394625  \n",
       "3 -0.041440    -0.383903  \n",
       "4  0.545014    -0.433110  "
      ]
     },
     "execution_count": 153,
     "metadata": {},
     "output_type": "execute_result"
    }
   ],
   "source": [
    "X_test_scaled.head()"
   ]
  },
  {
   "cell_type": "markdown",
   "metadata": {},
   "source": [
    "We will then be one hot encoding some of our categorical variables to run a logistic regression model on X and y."
   ]
  },
  {
   "cell_type": "code",
   "execution_count": 155,
   "metadata": {},
   "outputs": [],
   "source": [
    "from sklearn.preprocessing import OneHotEncoder\n",
    "\n",
    "# Initialize the OneHotEncoder with sparse=False and drop='first'\n",
    "encoder = OneHotEncoder(sparse=False, drop='first')\n",
    "\n",
    "# Fit and transform the encoder on categorical columns in the training data\n",
    "X_train_encoded = encoder.fit_transform(X_train_scaled[['day_of_week', 'category', 'gender','age_group', 'state', 'job_category']])\n",
    "\n",
    "\n",
    "# Transform the same columns in the validation data\n",
    "X_val_encoded = encoder.transform(X_val_scaled[['day_of_week', 'category', 'gender','age_group', 'state', 'job_category']])\n",
    "\n",
    "# Transform the same columns in the test data\n",
    "X_test_encoded = encoder.transform(X_test_scaled[['day_of_week', 'category', 'gender','age_group', 'state', 'job_category']])\n",
    "\n",
    "# Create DataFrames from the encoded arrays with appropriate column names\n",
    "encoded_columns = encoder.get_feature_names_out(['day_of_week', 'category', 'gender','age_group', 'state', 'job_category'])\n",
    "X_train_encoded_df = pd.DataFrame(X_train_encoded, columns=encoded_columns)\n",
    "X_val_encoded_df = pd.DataFrame(X_val_encoded, columns=encoded_columns)\n",
    "X_test_encoded_df = pd.DataFrame(X_test_encoded, columns=encoded_columns)"
   ]
  },
  {
   "cell_type": "code",
   "execution_count": 156,
   "metadata": {},
   "outputs": [],
   "source": [
    "X_train_final = pd.concat([X_train_encoded_df.reset_index(drop=True), X_train_scaled[['hour_of_day', 'distance', 'amount(usd)']].reset_index(drop=True)], axis=1)\n",
    "X_val_final = pd.concat([X_val_encoded_df.reset_index(drop=True), X_val_scaled[['hour_of_day', 'distance', 'amount(usd)']].reset_index(drop=True)], axis=1)\n",
    "X_test_final = pd.concat([X_test_encoded_df.reset_index(drop=True), X_test_scaled[['hour_of_day', 'distance', 'amount(usd)']].reset_index(drop=True)], axis=1)\n",
    "\n"
   ]
  },
  {
   "cell_type": "code",
   "execution_count": 157,
   "metadata": {},
   "outputs": [
    {
     "name": "stdout",
     "output_type": "stream",
     "text": [
      "X_train_final shape: (1481915, 85)\n",
      "X_val_final shape: (185239, 85)\n",
      "X_test_final shape: (185240, 85)\n",
      "y_train shape: (1481915, 1)\n",
      "y_val shape: (185239, 1)\n",
      "y_test shape: (185240, 1)\n"
     ]
    }
   ],
   "source": [
    "# Print the shapes of X_train, X_test, y_train, y_test\n",
    "print(\"X_train_final shape:\", X_train_final.shape)\n",
    "print(\"X_val_final shape:\", X_val_final.shape)\n",
    "print(\"X_test_final shape:\", X_test_final.shape)\n",
    "\n",
    "print(\"y_train shape:\", y_train.shape)\n",
    "print(\"y_val shape:\", y_val.shape)\n",
    "print(\"y_test shape:\", y_test.shape)"
   ]
  },
  {
   "cell_type": "code",
   "execution_count": 158,
   "metadata": {},
   "outputs": [
    {
     "name": "stdout",
     "output_type": "stream",
     "text": [
      "<class 'pandas.core.frame.DataFrame'>\n",
      "RangeIndex: 185240 entries, 0 to 185239\n",
      "Data columns (total 85 columns):\n",
      " #   Column                   Non-Null Count   Dtype  \n",
      "---  ------                   --------------   -----  \n",
      " 0   day_of_week_Monday       185240 non-null  float64\n",
      " 1   day_of_week_Saturday     185240 non-null  float64\n",
      " 2   day_of_week_Sunday       185240 non-null  float64\n",
      " 3   day_of_week_Thursday     185240 non-null  float64\n",
      " 4   day_of_week_Tuesday      185240 non-null  float64\n",
      " 5   day_of_week_Wednesday    185240 non-null  float64\n",
      " 6   category_food_dining     185240 non-null  float64\n",
      " 7   category_gas_transport   185240 non-null  float64\n",
      " 8   category_grocery_net     185240 non-null  float64\n",
      " 9   category_grocery_pos     185240 non-null  float64\n",
      " 10  category_health_fitness  185240 non-null  float64\n",
      " 11  category_home            185240 non-null  float64\n",
      " 12  category_kids_pets       185240 non-null  float64\n",
      " 13  category_misc_net        185240 non-null  float64\n",
      " 14  category_misc_pos        185240 non-null  float64\n",
      " 15  category_personal_care   185240 non-null  float64\n",
      " 16  category_shopping_net    185240 non-null  float64\n",
      " 17  category_shopping_pos    185240 non-null  float64\n",
      " 18  category_travel          185240 non-null  float64\n",
      " 19  gender_M                 185240 non-null  float64\n",
      " 20  age_group_21-40          185240 non-null  float64\n",
      " 21  age_group_41-60          185240 non-null  float64\n",
      " 22  age_group_61-80          185240 non-null  float64\n",
      " 23  age_group_81-100         185240 non-null  float64\n",
      " 24  state_AL                 185240 non-null  float64\n",
      " 25  state_AR                 185240 non-null  float64\n",
      " 26  state_AZ                 185240 non-null  float64\n",
      " 27  state_CA                 185240 non-null  float64\n",
      " 28  state_CO                 185240 non-null  float64\n",
      " 29  state_CT                 185240 non-null  float64\n",
      " 30  state_DC                 185240 non-null  float64\n",
      " 31  state_DE                 185240 non-null  float64\n",
      " 32  state_FL                 185240 non-null  float64\n",
      " 33  state_GA                 185240 non-null  float64\n",
      " 34  state_HI                 185240 non-null  float64\n",
      " 35  state_IA                 185240 non-null  float64\n",
      " 36  state_ID                 185240 non-null  float64\n",
      " 37  state_IL                 185240 non-null  float64\n",
      " 38  state_IN                 185240 non-null  float64\n",
      " 39  state_KS                 185240 non-null  float64\n",
      " 40  state_KY                 185240 non-null  float64\n",
      " 41  state_LA                 185240 non-null  float64\n",
      " 42  state_MA                 185240 non-null  float64\n",
      " 43  state_MD                 185240 non-null  float64\n",
      " 44  state_ME                 185240 non-null  float64\n",
      " 45  state_MI                 185240 non-null  float64\n",
      " 46  state_MN                 185240 non-null  float64\n",
      " 47  state_MO                 185240 non-null  float64\n",
      " 48  state_MS                 185240 non-null  float64\n",
      " 49  state_MT                 185240 non-null  float64\n",
      " 50  state_NC                 185240 non-null  float64\n",
      " 51  state_ND                 185240 non-null  float64\n",
      " 52  state_NE                 185240 non-null  float64\n",
      " 53  state_NH                 185240 non-null  float64\n",
      " 54  state_NJ                 185240 non-null  float64\n",
      " 55  state_NM                 185240 non-null  float64\n",
      " 56  state_NV                 185240 non-null  float64\n",
      " 57  state_NY                 185240 non-null  float64\n",
      " 58  state_OH                 185240 non-null  float64\n",
      " 59  state_OK                 185240 non-null  float64\n",
      " 60  state_OR                 185240 non-null  float64\n",
      " 61  state_PA                 185240 non-null  float64\n",
      " 62  state_RI                 185240 non-null  float64\n",
      " 63  state_SC                 185240 non-null  float64\n",
      " 64  state_SD                 185240 non-null  float64\n",
      " 65  state_TN                 185240 non-null  float64\n",
      " 66  state_TX                 185240 non-null  float64\n",
      " 67  state_UT                 185240 non-null  float64\n",
      " 68  state_VA                 185240 non-null  float64\n",
      " 69  state_VT                 185240 non-null  float64\n",
      " 70  state_WA                 185240 non-null  float64\n",
      " 71  state_WI                 185240 non-null  float64\n",
      " 72  state_WV                 185240 non-null  float64\n",
      " 73  state_WY                 185240 non-null  float64\n",
      " 74  job_category_C2          185240 non-null  float64\n",
      " 75  job_category_C3          185240 non-null  float64\n",
      " 76  job_category_C4          185240 non-null  float64\n",
      " 77  job_category_C5          185240 non-null  float64\n",
      " 78  job_category_C6          185240 non-null  float64\n",
      " 79  job_category_C7          185240 non-null  float64\n",
      " 80  job_category_C8          185240 non-null  float64\n",
      " 81  job_category_C9          185240 non-null  float64\n",
      " 82  hour_of_day              185240 non-null  float64\n",
      " 83  distance                 185240 non-null  float64\n",
      " 84  amount(usd)              185240 non-null  float64\n",
      "dtypes: float64(85)\n",
      "memory usage: 120.1 MB\n"
     ]
    }
   ],
   "source": [
    "X_test_final.info()"
   ]
  },
  {
   "cell_type": "markdown",
   "metadata": {},
   "source": [
    "## Random Forest (Baseline Model)"
   ]
  },
  {
   "cell_type": "code",
   "execution_count": 159,
   "metadata": {},
   "outputs": [],
   "source": [
    "#We are going to ensure that we have the same splits of the data every time. \n",
    "#We can ensure this by creating a KFold object, kf, and passing cv=kf instead of the more common cv=5.\n",
    "\n",
    "kf = StratifiedKFold(n_splits=5, shuffle=False)\n",
    "\n",
    "# Initialize the Random Forest classifier\n",
    "rf_classifier = RandomForestClassifier(random_state=42)\n",
    "\n"
   ]
  },
  {
   "cell_type": "code",
   "execution_count": 13,
   "metadata": {},
   "outputs": [
    {
     "name": "stdout",
     "output_type": "stream",
     "text": [
      "Cross Validation Recall scores are: [0.65136936 0.6565507  0.62250185 0.66913397 0.63091716]\n",
      "Average Cross Validation Recall score: 0.6460946088586583\n"
     ]
    }
   ],
   "source": [
    "score = cross_val_score(rf_classifier, X_train_final, y_train, cv=kf, scoring='recall')\n",
    "print(\"Cross Validation Recall scores are: {}\".format(score))\n",
    "print(\"Average Cross Validation Recall score: {}\".format(score.mean()))"
   ]
  },
  {
   "cell_type": "markdown",
   "metadata": {},
   "source": [
    "model correctly identifies about 64.61% of the actual positive instances in the training data across different folds."
   ]
  },
  {
   "cell_type": "code",
   "execution_count": 160,
   "metadata": {},
   "outputs": [],
   "source": [
    "from sklearn.impute import SimpleImputer\n",
    "\n",
    "# Initialize the imputer with the median strategy\n",
    "imputer = SimpleImputer(strategy='median')\n",
    "\n",
    "# Fit and transform on X_train_final\n",
    "X_train_final = pd.DataFrame(imputer.fit_transform(X_train_final), columns=X_train_final.columns)\n",
    "\n",
    "# Transform X_val_final using the same imputer\n",
    "X_val_final = pd.DataFrame(imputer.transform(X_val_final), columns=X_val_final.columns)\n",
    "\n",
    "# Transform X_test_final using the same imputer\n",
    "X_test_final = pd.DataFrame(imputer.transform(X_test_final), columns=X_test_final.columns)"
   ]
  },
  {
   "cell_type": "code",
   "execution_count": 162,
   "metadata": {},
   "outputs": [
    {
     "data": {
      "text/html": [
       "<style>#sk-container-id-6 {color: black;}#sk-container-id-6 pre{padding: 0;}#sk-container-id-6 div.sk-toggleable {background-color: white;}#sk-container-id-6 label.sk-toggleable__label {cursor: pointer;display: block;width: 100%;margin-bottom: 0;padding: 0.3em;box-sizing: border-box;text-align: center;}#sk-container-id-6 label.sk-toggleable__label-arrow:before {content: \"▸\";float: left;margin-right: 0.25em;color: #696969;}#sk-container-id-6 label.sk-toggleable__label-arrow:hover:before {color: black;}#sk-container-id-6 div.sk-estimator:hover label.sk-toggleable__label-arrow:before {color: black;}#sk-container-id-6 div.sk-toggleable__content {max-height: 0;max-width: 0;overflow: hidden;text-align: left;background-color: #f0f8ff;}#sk-container-id-6 div.sk-toggleable__content pre {margin: 0.2em;color: black;border-radius: 0.25em;background-color: #f0f8ff;}#sk-container-id-6 input.sk-toggleable__control:checked~div.sk-toggleable__content {max-height: 200px;max-width: 100%;overflow: auto;}#sk-container-id-6 input.sk-toggleable__control:checked~label.sk-toggleable__label-arrow:before {content: \"▾\";}#sk-container-id-6 div.sk-estimator input.sk-toggleable__control:checked~label.sk-toggleable__label {background-color: #d4ebff;}#sk-container-id-6 div.sk-label input.sk-toggleable__control:checked~label.sk-toggleable__label {background-color: #d4ebff;}#sk-container-id-6 input.sk-hidden--visually {border: 0;clip: rect(1px 1px 1px 1px);clip: rect(1px, 1px, 1px, 1px);height: 1px;margin: -1px;overflow: hidden;padding: 0;position: absolute;width: 1px;}#sk-container-id-6 div.sk-estimator {font-family: monospace;background-color: #f0f8ff;border: 1px dotted black;border-radius: 0.25em;box-sizing: border-box;margin-bottom: 0.5em;}#sk-container-id-6 div.sk-estimator:hover {background-color: #d4ebff;}#sk-container-id-6 div.sk-parallel-item::after {content: \"\";width: 100%;border-bottom: 1px solid gray;flex-grow: 1;}#sk-container-id-6 div.sk-label:hover label.sk-toggleable__label {background-color: #d4ebff;}#sk-container-id-6 div.sk-serial::before {content: \"\";position: absolute;border-left: 1px solid gray;box-sizing: border-box;top: 0;bottom: 0;left: 50%;z-index: 0;}#sk-container-id-6 div.sk-serial {display: flex;flex-direction: column;align-items: center;background-color: white;padding-right: 0.2em;padding-left: 0.2em;position: relative;}#sk-container-id-6 div.sk-item {position: relative;z-index: 1;}#sk-container-id-6 div.sk-parallel {display: flex;align-items: stretch;justify-content: center;background-color: white;position: relative;}#sk-container-id-6 div.sk-item::before, #sk-container-id-6 div.sk-parallel-item::before {content: \"\";position: absolute;border-left: 1px solid gray;box-sizing: border-box;top: 0;bottom: 0;left: 50%;z-index: -1;}#sk-container-id-6 div.sk-parallel-item {display: flex;flex-direction: column;z-index: 1;position: relative;background-color: white;}#sk-container-id-6 div.sk-parallel-item:first-child::after {align-self: flex-end;width: 50%;}#sk-container-id-6 div.sk-parallel-item:last-child::after {align-self: flex-start;width: 50%;}#sk-container-id-6 div.sk-parallel-item:only-child::after {width: 0;}#sk-container-id-6 div.sk-dashed-wrapped {border: 1px dashed gray;margin: 0 0.4em 0.5em 0.4em;box-sizing: border-box;padding-bottom: 0.4em;background-color: white;}#sk-container-id-6 div.sk-label label {font-family: monospace;font-weight: bold;display: inline-block;line-height: 1.2em;}#sk-container-id-6 div.sk-label-container {text-align: center;}#sk-container-id-6 div.sk-container {/* jupyter's `normalize.less` sets `[hidden] { display: none; }` but bootstrap.min.css set `[hidden] { display: none !important; }` so we also need the `!important` here to be able to override the default hidden behavior on the sphinx rendered scikit-learn.org. See: https://github.com/scikit-learn/scikit-learn/issues/21755 */display: inline-block !important;position: relative;}#sk-container-id-6 div.sk-text-repr-fallback {display: none;}</style><div id=\"sk-container-id-6\" class=\"sk-top-container\"><div class=\"sk-text-repr-fallback\"><pre>RandomForestClassifier(random_state=42)</pre><b>In a Jupyter environment, please rerun this cell to show the HTML representation or trust the notebook. <br />On GitHub, the HTML representation is unable to render, please try loading this page with nbviewer.org.</b></div><div class=\"sk-container\" hidden><div class=\"sk-item\"><div class=\"sk-estimator sk-toggleable\"><input class=\"sk-toggleable__control sk-hidden--visually\" id=\"sk-estimator-id-12\" type=\"checkbox\" checked><label for=\"sk-estimator-id-12\" class=\"sk-toggleable__label sk-toggleable__label-arrow\">RandomForestClassifier</label><div class=\"sk-toggleable__content\"><pre>RandomForestClassifier(random_state=42)</pre></div></div></div></div></div>"
      ],
      "text/plain": [
       "RandomForestClassifier(random_state=42)"
      ]
     },
     "execution_count": 162,
     "metadata": {},
     "output_type": "execute_result"
    }
   ],
   "source": [
    "baseline_rf = RandomForestClassifier(random_state=42)\n",
    "baseline_rf.fit(X_train_final, y_train)"
   ]
  },
  {
   "cell_type": "code",
   "execution_count": 163,
   "metadata": {},
   "outputs": [],
   "source": [
    "y_val_pred = baseline_rf.predict(X_val_final)"
   ]
  },
  {
   "cell_type": "code",
   "execution_count": 164,
   "metadata": {},
   "outputs": [
    {
     "name": "stdout",
     "output_type": "stream",
     "text": [
      "[[184248     26]\n",
      " [   283    682]]\n"
     ]
    }
   ],
   "source": [
    "from sklearn.metrics import confusion_matrix, recall_score, precision_score, f1_score, accuracy_score, roc_auc_score, average_precision_score\n",
    "cm = confusion_matrix(y_val, y_val_pred)\n",
    "\n",
    "base_precision = precision_score(y_val, y_val_pred)\n",
    "base_recall = recall_score(y_val, y_val_pred)\n",
    "base_f1 = f1_score(y_val, y_val_pred)\n",
    "base_roc_auc = roc_auc_score(y_val, y_val_pred)\n",
    "base_pr_auc = average_precision_score(y_val, y_val_pred)\n",
    "\n",
    "print(cm)"
   ]
  },
  {
   "cell_type": "code",
   "execution_count": 165,
   "metadata": {},
   "outputs": [
    {
     "data": {
      "text/html": [
       "<div>\n",
       "<style scoped>\n",
       "    .dataframe tbody tr th:only-of-type {\n",
       "        vertical-align: middle;\n",
       "    }\n",
       "\n",
       "    .dataframe tbody tr th {\n",
       "        vertical-align: top;\n",
       "    }\n",
       "\n",
       "    .dataframe thead th {\n",
       "        text-align: right;\n",
       "    }\n",
       "</style>\n",
       "<table border=\"1\" class=\"dataframe\">\n",
       "  <thead>\n",
       "    <tr style=\"text-align: right;\">\n",
       "      <th></th>\n",
       "      <th>Random Forest with</th>\n",
       "      <th>Recall</th>\n",
       "      <th>Precision</th>\n",
       "      <th>F1 Score</th>\n",
       "      <th>PR AUC</th>\n",
       "      <th>ROC_AUC</th>\n",
       "    </tr>\n",
       "  </thead>\n",
       "  <tbody>\n",
       "    <tr>\n",
       "      <th>0</th>\n",
       "      <td>No Under/Oversampling</td>\n",
       "      <td>0.706736</td>\n",
       "      <td>0.963277</td>\n",
       "      <td>0.815302</td>\n",
       "      <td>0.68231</td>\n",
       "      <td>0.853297</td>\n",
       "    </tr>\n",
       "  </tbody>\n",
       "</table>\n",
       "</div>"
      ],
      "text/plain": [
       "      Random Forest with    Recall  Precision  F1 Score   PR AUC   ROC_AUC\n",
       "0  No Under/Oversampling  0.706736   0.963277  0.815302  0.68231  0.853297"
      ]
     },
     "execution_count": 165,
     "metadata": {},
     "output_type": "execute_result"
    }
   ],
   "source": [
    "ndf = [(base_recall, base_precision, base_f1, base_pr_auc, base_roc_auc)]\n",
    "\n",
    "rf_score = pd.DataFrame(data = ndf, columns=['Recall','Precision','F1 Score', 'PR AUC', 'ROC_AUC'])\n",
    "rf_score.insert(0, 'Random Forest with', 'No Under/Oversampling')\n",
    "rf_score"
   ]
  },
  {
   "cell_type": "markdown",
   "metadata": {},
   "source": [
    "The recall of 70.67% indicates that the model correctly identified about 70.67% of the actual positive cases (frauds). This metric is crucial in fraud detection to capture a substantial portion of fraudulent transactions.\n",
    "\n",
    "The precision of 96.33% shows that out of all the predicted positive cases, approximately 96.33% were true positives. A higher precision is beneficial for reducing false positives and avoiding unnecessary interventions.\n",
    "\n",
    "The F1 Score, at 81.53%, represents the harmonic mean of precision and recall. This balanced metric indicates a strong compromise between precision and recall, demonstrating the model's effectiveness in identifying both true positives and minimizing false positives.\n",
    "\n",
    "The PR AUC, with a value of 68.23%, measures the area under the precision-recall curve. This metric evaluates the trade-off between precision and recall, with a higher PR AUC being desirable.\n",
    "\n",
    "The ROC AUC of 85.33% measures the area under the ROC curve, reflecting the model's performance across different thresholds. A higher ROC AUC indicates good discrimination between classes, demonstrating the model's ability to distinguish between positive and negative instances."
   ]
  },
  {
   "cell_type": "markdown",
   "metadata": {},
   "source": [
    "## Random Forest with Random Over Sampler"
   ]
  },
  {
   "cell_type": "code",
   "execution_count": 166,
   "metadata": {},
   "outputs": [],
   "source": [
    "from imblearn.over_sampling import RandomOverSampler\n",
    "# define oversampling strategy\n",
    "ros = RandomOverSampler(random_state=42)"
   ]
  },
  {
   "cell_type": "code",
   "execution_count": 167,
   "metadata": {},
   "outputs": [],
   "source": [
    "# fit and apply the transform\n",
    "X_over, y_over = ros.fit_resample(X_train_final, y_train)"
   ]
  },
  {
   "cell_type": "markdown",
   "metadata": {},
   "source": [
    "Training Model"
   ]
  },
  {
   "cell_type": "code",
   "execution_count": 168,
   "metadata": {},
   "outputs": [],
   "source": [
    "from imblearn.pipeline import Pipeline, make_pipeline\n",
    "\n",
    "random_overs_pipeline = make_pipeline(RandomOverSampler(random_state=42), \n",
    "                              RandomForestClassifier(n_estimators=100, random_state=13))\n",
    "#cross_val_score(random_overs_pipeline, X_train, y_train, scoring='recall', cv=kf)"
   ]
  },
  {
   "cell_type": "code",
   "execution_count": 21,
   "metadata": {},
   "outputs": [
    {
     "name": "stdout",
     "output_type": "stream",
     "text": [
      "Cross Validation Recall Scores are: [0.68911917 0.70392302 0.67283494 0.70836417 0.67011834]\n",
      "Average Cross Validation Recall score: 0.6888719291867956\n"
     ]
    }
   ],
   "source": [
    "score2 = cross_val_score(random_overs_pipeline, X_train_final, y_train, scoring='recall', cv=kf)\n",
    "print(\"Cross Validation Recall Scores are: {}\".format(score2))\n",
    "print(\"Average Cross Validation Recall score: {}\".format(score2.mean()))"
   ]
  },
  {
   "cell_type": "markdown",
   "metadata": {},
   "source": [
    " model correctly identifies about 68.89% of the actual positive instances in the training data across different folds."
   ]
  },
  {
   "cell_type": "code",
   "execution_count": 169,
   "metadata": {},
   "outputs": [
    {
     "name": "stdout",
     "output_type": "stream",
     "text": [
      "Genuine: 1474194 / 50.0 % of the dataset\n",
      "Frauds: 1474194 / 50.0 % of the dataset\n"
     ]
    }
   ],
   "source": [
    "print('Genuine:', y_over.value_counts()[0], '/', round(y_over.value_counts()[0]/len(y_over) * 100,2), '% of the dataset')\n",
    "print('Frauds:', y_over.value_counts()[1], '/',round(y_over.value_counts()[1]/len(y_over) * 100,2), '% of the dataset')"
   ]
  },
  {
   "cell_type": "code",
   "execution_count": 170,
   "metadata": {},
   "outputs": [
    {
     "data": {
      "text/html": [
       "<style>#sk-container-id-7 {color: black;}#sk-container-id-7 pre{padding: 0;}#sk-container-id-7 div.sk-toggleable {background-color: white;}#sk-container-id-7 label.sk-toggleable__label {cursor: pointer;display: block;width: 100%;margin-bottom: 0;padding: 0.3em;box-sizing: border-box;text-align: center;}#sk-container-id-7 label.sk-toggleable__label-arrow:before {content: \"▸\";float: left;margin-right: 0.25em;color: #696969;}#sk-container-id-7 label.sk-toggleable__label-arrow:hover:before {color: black;}#sk-container-id-7 div.sk-estimator:hover label.sk-toggleable__label-arrow:before {color: black;}#sk-container-id-7 div.sk-toggleable__content {max-height: 0;max-width: 0;overflow: hidden;text-align: left;background-color: #f0f8ff;}#sk-container-id-7 div.sk-toggleable__content pre {margin: 0.2em;color: black;border-radius: 0.25em;background-color: #f0f8ff;}#sk-container-id-7 input.sk-toggleable__control:checked~div.sk-toggleable__content {max-height: 200px;max-width: 100%;overflow: auto;}#sk-container-id-7 input.sk-toggleable__control:checked~label.sk-toggleable__label-arrow:before {content: \"▾\";}#sk-container-id-7 div.sk-estimator input.sk-toggleable__control:checked~label.sk-toggleable__label {background-color: #d4ebff;}#sk-container-id-7 div.sk-label input.sk-toggleable__control:checked~label.sk-toggleable__label {background-color: #d4ebff;}#sk-container-id-7 input.sk-hidden--visually {border: 0;clip: rect(1px 1px 1px 1px);clip: rect(1px, 1px, 1px, 1px);height: 1px;margin: -1px;overflow: hidden;padding: 0;position: absolute;width: 1px;}#sk-container-id-7 div.sk-estimator {font-family: monospace;background-color: #f0f8ff;border: 1px dotted black;border-radius: 0.25em;box-sizing: border-box;margin-bottom: 0.5em;}#sk-container-id-7 div.sk-estimator:hover {background-color: #d4ebff;}#sk-container-id-7 div.sk-parallel-item::after {content: \"\";width: 100%;border-bottom: 1px solid gray;flex-grow: 1;}#sk-container-id-7 div.sk-label:hover label.sk-toggleable__label {background-color: #d4ebff;}#sk-container-id-7 div.sk-serial::before {content: \"\";position: absolute;border-left: 1px solid gray;box-sizing: border-box;top: 0;bottom: 0;left: 50%;z-index: 0;}#sk-container-id-7 div.sk-serial {display: flex;flex-direction: column;align-items: center;background-color: white;padding-right: 0.2em;padding-left: 0.2em;position: relative;}#sk-container-id-7 div.sk-item {position: relative;z-index: 1;}#sk-container-id-7 div.sk-parallel {display: flex;align-items: stretch;justify-content: center;background-color: white;position: relative;}#sk-container-id-7 div.sk-item::before, #sk-container-id-7 div.sk-parallel-item::before {content: \"\";position: absolute;border-left: 1px solid gray;box-sizing: border-box;top: 0;bottom: 0;left: 50%;z-index: -1;}#sk-container-id-7 div.sk-parallel-item {display: flex;flex-direction: column;z-index: 1;position: relative;background-color: white;}#sk-container-id-7 div.sk-parallel-item:first-child::after {align-self: flex-end;width: 50%;}#sk-container-id-7 div.sk-parallel-item:last-child::after {align-self: flex-start;width: 50%;}#sk-container-id-7 div.sk-parallel-item:only-child::after {width: 0;}#sk-container-id-7 div.sk-dashed-wrapped {border: 1px dashed gray;margin: 0 0.4em 0.5em 0.4em;box-sizing: border-box;padding-bottom: 0.4em;background-color: white;}#sk-container-id-7 div.sk-label label {font-family: monospace;font-weight: bold;display: inline-block;line-height: 1.2em;}#sk-container-id-7 div.sk-label-container {text-align: center;}#sk-container-id-7 div.sk-container {/* jupyter's `normalize.less` sets `[hidden] { display: none; }` but bootstrap.min.css set `[hidden] { display: none !important; }` so we also need the `!important` here to be able to override the default hidden behavior on the sphinx rendered scikit-learn.org. See: https://github.com/scikit-learn/scikit-learn/issues/21755 */display: inline-block !important;position: relative;}#sk-container-id-7 div.sk-text-repr-fallback {display: none;}</style><div id=\"sk-container-id-7\" class=\"sk-top-container\"><div class=\"sk-text-repr-fallback\"><pre>Pipeline(steps=[(&#x27;randomoversampler&#x27;, RandomOverSampler(random_state=42)),\n",
       "                (&#x27;randomforestclassifier&#x27;,\n",
       "                 RandomForestClassifier(random_state=13))])</pre><b>In a Jupyter environment, please rerun this cell to show the HTML representation or trust the notebook. <br />On GitHub, the HTML representation is unable to render, please try loading this page with nbviewer.org.</b></div><div class=\"sk-container\" hidden><div class=\"sk-item sk-dashed-wrapped\"><div class=\"sk-label-container\"><div class=\"sk-label sk-toggleable\"><input class=\"sk-toggleable__control sk-hidden--visually\" id=\"sk-estimator-id-13\" type=\"checkbox\" ><label for=\"sk-estimator-id-13\" class=\"sk-toggleable__label sk-toggleable__label-arrow\">Pipeline</label><div class=\"sk-toggleable__content\"><pre>Pipeline(steps=[(&#x27;randomoversampler&#x27;, RandomOverSampler(random_state=42)),\n",
       "                (&#x27;randomforestclassifier&#x27;,\n",
       "                 RandomForestClassifier(random_state=13))])</pre></div></div></div><div class=\"sk-serial\"><div class=\"sk-item\"><div class=\"sk-estimator sk-toggleable\"><input class=\"sk-toggleable__control sk-hidden--visually\" id=\"sk-estimator-id-14\" type=\"checkbox\" ><label for=\"sk-estimator-id-14\" class=\"sk-toggleable__label sk-toggleable__label-arrow\">RandomOverSampler</label><div class=\"sk-toggleable__content\"><pre>RandomOverSampler(random_state=42)</pre></div></div></div><div class=\"sk-item\"><div class=\"sk-estimator sk-toggleable\"><input class=\"sk-toggleable__control sk-hidden--visually\" id=\"sk-estimator-id-15\" type=\"checkbox\" ><label for=\"sk-estimator-id-15\" class=\"sk-toggleable__label sk-toggleable__label-arrow\">RandomForestClassifier</label><div class=\"sk-toggleable__content\"><pre>RandomForestClassifier(random_state=13)</pre></div></div></div></div></div></div></div>"
      ],
      "text/plain": [
       "Pipeline(steps=[('randomoversampler', RandomOverSampler(random_state=42)),\n",
       "                ('randomforestclassifier',\n",
       "                 RandomForestClassifier(random_state=13))])"
      ]
     },
     "execution_count": 170,
     "metadata": {},
     "output_type": "execute_result"
    }
   ],
   "source": [
    "random_overs_pipeline.fit(X_over, y_over)"
   ]
  },
  {
   "cell_type": "code",
   "execution_count": 171,
   "metadata": {},
   "outputs": [],
   "source": [
    "y_val_pred_oversampled = random_overs_pipeline.predict(X_val_final)"
   ]
  },
  {
   "cell_type": "code",
   "execution_count": 214,
   "metadata": {},
   "outputs": [
    {
     "name": "stdout",
     "output_type": "stream",
     "text": [
      "Random Forest Classifier Parameters:\n",
      "{'bootstrap': True, 'ccp_alpha': 0.0, 'class_weight': None, 'criterion': 'gini', 'max_depth': None, 'max_features': 'sqrt', 'max_leaf_nodes': None, 'max_samples': None, 'min_impurity_decrease': 0.0, 'min_samples_leaf': 1, 'min_samples_split': 2, 'min_weight_fraction_leaf': 0.0, 'n_estimators': 100, 'n_jobs': None, 'oob_score': False, 'random_state': 13, 'verbose': 0, 'warm_start': False}\n"
     ]
    }
   ],
   "source": [
    "random_forest_classifier = random_overs_pipeline.named_steps['randomforestclassifier']\n",
    "\n",
    "print(\"Random Forest Classifier Parameters:\")\n",
    "print(random_forest_classifier.get_params())"
   ]
  },
  {
   "cell_type": "code",
   "execution_count": 172,
   "metadata": {},
   "outputs": [
    {
     "name": "stdout",
     "output_type": "stream",
     "text": [
      "[[184225     49]\n",
      " [   236    729]]\n"
     ]
    }
   ],
   "source": [
    "cm = confusion_matrix(y_val, y_val_pred_oversampled)\n",
    "\n",
    "over_rf_Recall = recall_score(y_val, y_val_pred_oversampled)\n",
    "over_rf_Precision = precision_score(y_val, y_val_pred_oversampled)\n",
    "over_rf_f1 = f1_score(y_val, y_val_pred_oversampled)\n",
    "over_rf_accuracy = accuracy_score(y_val, y_val_pred_oversampled)\n",
    "over_roc = roc_auc_score(y_val, y_val_pred_oversampled)\n",
    "over_prauc = average_precision_score(y_val, y_val_pred_oversampled)\n",
    "\n",
    "print(cm)"
   ]
  },
  {
   "cell_type": "code",
   "execution_count": 173,
   "metadata": {},
   "outputs": [
    {
     "data": {
      "text/html": [
       "<div>\n",
       "<style scoped>\n",
       "    .dataframe tbody tr th:only-of-type {\n",
       "        vertical-align: middle;\n",
       "    }\n",
       "\n",
       "    .dataframe tbody tr th {\n",
       "        vertical-align: top;\n",
       "    }\n",
       "\n",
       "    .dataframe thead th {\n",
       "        text-align: right;\n",
       "    }\n",
       "</style>\n",
       "<table border=\"1\" class=\"dataframe\">\n",
       "  <thead>\n",
       "    <tr style=\"text-align: right;\">\n",
       "      <th></th>\n",
       "      <th>Random Forest with</th>\n",
       "      <th>Recall</th>\n",
       "      <th>Precision</th>\n",
       "      <th>F1 Score</th>\n",
       "      <th>PR AUC</th>\n",
       "      <th>ROC_AUC</th>\n",
       "    </tr>\n",
       "  </thead>\n",
       "  <tbody>\n",
       "    <tr>\n",
       "      <th>0</th>\n",
       "      <td>Random Oversampling</td>\n",
       "      <td>0.75544</td>\n",
       "      <td>0.937018</td>\n",
       "      <td>0.836489</td>\n",
       "      <td>0.709135</td>\n",
       "      <td>0.877587</td>\n",
       "    </tr>\n",
       "  </tbody>\n",
       "</table>\n",
       "</div>"
      ],
      "text/plain": [
       "    Random Forest with   Recall  Precision  F1 Score    PR AUC   ROC_AUC\n",
       "0  Random Oversampling  0.75544   0.937018  0.836489  0.709135  0.877587"
      ]
     },
     "execution_count": 173,
     "metadata": {},
     "output_type": "execute_result"
    }
   ],
   "source": [
    "ndf = [(over_rf_Recall, over_rf_Precision, over_rf_f1, over_prauc, over_roc)]\n",
    "\n",
    "over_rf_score = pd.DataFrame(data = ndf, columns=['Recall','Precision','F1 Score', 'PR AUC', 'ROC_AUC'])\n",
    "over_rf_score.insert(0, 'Random Forest with', 'Random Oversampling')\n",
    "over_rf_score"
   ]
  },
  {
   "cell_type": "markdown",
   "metadata": {},
   "source": [
    "Recall: The model achieved a recall of 75.54%, indicating its ability to effectively identify about 75.54% of actual positive cases (frauds). This suggests an improvement compared to the baseline model.\n",
    "\n",
    "Precision: With a precision of 93.70%, the model demonstrates high accuracy in identifying true positive cases while minimizing false positives. This precision level is notably strong.\n",
    "\n",
    "F1 Score: The F1 Score, at 83.65%, signifies a balanced performance, effectively compromising between precision and recall. This indicates the model's ability to maintain a robust balance in fraud detection.\n",
    "\n",
    "PR AUC: The Precision-Recall AUC of 70.91% showcases the model's ability to balance precision and recall, especially in capturing positive instances. This is an improvement compared to the baseline.\n",
    "\n",
    "ROC AUC: The ROC AUC of 87.76% demonstrates the model's accuracy in distinguishing between positive and negative instances, reflecting robust discrimination. This is an improvement compared to the baseline."
   ]
  },
  {
   "cell_type": "markdown",
   "metadata": {},
   "source": [
    "**GridSearch for Oversampling, tuning of hyperparameters**"
   ]
  },
  {
   "cell_type": "code",
   "execution_count": 191,
   "metadata": {},
   "outputs": [],
   "source": [
    "from sklearn.model_selection import GridSearchCV\n",
    "\n",
    "params = {\n",
    "    'n_estimators': [50, 100, 200],\n",
    "    'max_depth': [6, 10, 12],\n",
    "    'random_state': [13]\n",
    "}"
   ]
  },
  {
   "cell_type": "code",
   "execution_count": 192,
   "metadata": {},
   "outputs": [
    {
     "data": {
      "text/html": [
       "<style>#sk-container-id-7 {color: black;}#sk-container-id-7 pre{padding: 0;}#sk-container-id-7 div.sk-toggleable {background-color: white;}#sk-container-id-7 label.sk-toggleable__label {cursor: pointer;display: block;width: 100%;margin-bottom: 0;padding: 0.3em;box-sizing: border-box;text-align: center;}#sk-container-id-7 label.sk-toggleable__label-arrow:before {content: \"▸\";float: left;margin-right: 0.25em;color: #696969;}#sk-container-id-7 label.sk-toggleable__label-arrow:hover:before {color: black;}#sk-container-id-7 div.sk-estimator:hover label.sk-toggleable__label-arrow:before {color: black;}#sk-container-id-7 div.sk-toggleable__content {max-height: 0;max-width: 0;overflow: hidden;text-align: left;background-color: #f0f8ff;}#sk-container-id-7 div.sk-toggleable__content pre {margin: 0.2em;color: black;border-radius: 0.25em;background-color: #f0f8ff;}#sk-container-id-7 input.sk-toggleable__control:checked~div.sk-toggleable__content {max-height: 200px;max-width: 100%;overflow: auto;}#sk-container-id-7 input.sk-toggleable__control:checked~label.sk-toggleable__label-arrow:before {content: \"▾\";}#sk-container-id-7 div.sk-estimator input.sk-toggleable__control:checked~label.sk-toggleable__label {background-color: #d4ebff;}#sk-container-id-7 div.sk-label input.sk-toggleable__control:checked~label.sk-toggleable__label {background-color: #d4ebff;}#sk-container-id-7 input.sk-hidden--visually {border: 0;clip: rect(1px 1px 1px 1px);clip: rect(1px, 1px, 1px, 1px);height: 1px;margin: -1px;overflow: hidden;padding: 0;position: absolute;width: 1px;}#sk-container-id-7 div.sk-estimator {font-family: monospace;background-color: #f0f8ff;border: 1px dotted black;border-radius: 0.25em;box-sizing: border-box;margin-bottom: 0.5em;}#sk-container-id-7 div.sk-estimator:hover {background-color: #d4ebff;}#sk-container-id-7 div.sk-parallel-item::after {content: \"\";width: 100%;border-bottom: 1px solid gray;flex-grow: 1;}#sk-container-id-7 div.sk-label:hover label.sk-toggleable__label {background-color: #d4ebff;}#sk-container-id-7 div.sk-serial::before {content: \"\";position: absolute;border-left: 1px solid gray;box-sizing: border-box;top: 0;bottom: 0;left: 50%;z-index: 0;}#sk-container-id-7 div.sk-serial {display: flex;flex-direction: column;align-items: center;background-color: white;padding-right: 0.2em;padding-left: 0.2em;position: relative;}#sk-container-id-7 div.sk-item {position: relative;z-index: 1;}#sk-container-id-7 div.sk-parallel {display: flex;align-items: stretch;justify-content: center;background-color: white;position: relative;}#sk-container-id-7 div.sk-item::before, #sk-container-id-7 div.sk-parallel-item::before {content: \"\";position: absolute;border-left: 1px solid gray;box-sizing: border-box;top: 0;bottom: 0;left: 50%;z-index: -1;}#sk-container-id-7 div.sk-parallel-item {display: flex;flex-direction: column;z-index: 1;position: relative;background-color: white;}#sk-container-id-7 div.sk-parallel-item:first-child::after {align-self: flex-end;width: 50%;}#sk-container-id-7 div.sk-parallel-item:last-child::after {align-self: flex-start;width: 50%;}#sk-container-id-7 div.sk-parallel-item:only-child::after {width: 0;}#sk-container-id-7 div.sk-dashed-wrapped {border: 1px dashed gray;margin: 0 0.4em 0.5em 0.4em;box-sizing: border-box;padding-bottom: 0.4em;background-color: white;}#sk-container-id-7 div.sk-label label {font-family: monospace;font-weight: bold;display: inline-block;line-height: 1.2em;}#sk-container-id-7 div.sk-label-container {text-align: center;}#sk-container-id-7 div.sk-container {/* jupyter's `normalize.less` sets `[hidden] { display: none; }` but bootstrap.min.css set `[hidden] { display: none !important; }` so we also need the `!important` here to be able to override the default hidden behavior on the sphinx rendered scikit-learn.org. See: https://github.com/scikit-learn/scikit-learn/issues/21755 */display: inline-block !important;position: relative;}#sk-container-id-7 div.sk-text-repr-fallback {display: none;}</style><div id=\"sk-container-id-7\" class=\"sk-top-container\"><div class=\"sk-text-repr-fallback\"><pre>GridSearchCV(cv=StratifiedKFold(n_splits=5, random_state=None, shuffle=False),\n",
       "             estimator=Pipeline(steps=[(&#x27;randomoversampler&#x27;,\n",
       "                                        RandomOverSampler()),\n",
       "                                       (&#x27;randomforestclassifier&#x27;,\n",
       "                                        RandomForestClassifier())]),\n",
       "             param_grid={&#x27;randomforestclassifier__max_depth&#x27;: [6, 10, 12],\n",
       "                         &#x27;randomforestclassifier__n_estimators&#x27;: [50, 100, 200],\n",
       "                         &#x27;randomforestclassifier__random_state&#x27;: [13]},\n",
       "             return_train_score=True, scoring=&#x27;f1&#x27;)</pre><b>In a Jupyter environment, please rerun this cell to show the HTML representation or trust the notebook. <br />On GitHub, the HTML representation is unable to render, please try loading this page with nbviewer.org.</b></div><div class=\"sk-container\" hidden><div class=\"sk-item sk-dashed-wrapped\"><div class=\"sk-label-container\"><div class=\"sk-label sk-toggleable\"><input class=\"sk-toggleable__control sk-hidden--visually\" id=\"sk-estimator-id-13\" type=\"checkbox\" ><label for=\"sk-estimator-id-13\" class=\"sk-toggleable__label sk-toggleable__label-arrow\">GridSearchCV</label><div class=\"sk-toggleable__content\"><pre>GridSearchCV(cv=StratifiedKFold(n_splits=5, random_state=None, shuffle=False),\n",
       "             estimator=Pipeline(steps=[(&#x27;randomoversampler&#x27;,\n",
       "                                        RandomOverSampler()),\n",
       "                                       (&#x27;randomforestclassifier&#x27;,\n",
       "                                        RandomForestClassifier())]),\n",
       "             param_grid={&#x27;randomforestclassifier__max_depth&#x27;: [6, 10, 12],\n",
       "                         &#x27;randomforestclassifier__n_estimators&#x27;: [50, 100, 200],\n",
       "                         &#x27;randomforestclassifier__random_state&#x27;: [13]},\n",
       "             return_train_score=True, scoring=&#x27;f1&#x27;)</pre></div></div></div><div class=\"sk-parallel\"><div class=\"sk-parallel-item\"><div class=\"sk-item\"><div class=\"sk-label-container\"><div class=\"sk-label sk-toggleable\"><input class=\"sk-toggleable__control sk-hidden--visually\" id=\"sk-estimator-id-14\" type=\"checkbox\" ><label for=\"sk-estimator-id-14\" class=\"sk-toggleable__label sk-toggleable__label-arrow\">estimator: Pipeline</label><div class=\"sk-toggleable__content\"><pre>Pipeline(steps=[(&#x27;randomoversampler&#x27;, RandomOverSampler()),\n",
       "                (&#x27;randomforestclassifier&#x27;, RandomForestClassifier())])</pre></div></div></div><div class=\"sk-serial\"><div class=\"sk-item\"><div class=\"sk-serial\"><div class=\"sk-item\"><div class=\"sk-estimator sk-toggleable\"><input class=\"sk-toggleable__control sk-hidden--visually\" id=\"sk-estimator-id-15\" type=\"checkbox\" ><label for=\"sk-estimator-id-15\" class=\"sk-toggleable__label sk-toggleable__label-arrow\">RandomOverSampler</label><div class=\"sk-toggleable__content\"><pre>RandomOverSampler()</pre></div></div></div><div class=\"sk-item\"><div class=\"sk-estimator sk-toggleable\"><input class=\"sk-toggleable__control sk-hidden--visually\" id=\"sk-estimator-id-16\" type=\"checkbox\" ><label for=\"sk-estimator-id-16\" class=\"sk-toggleable__label sk-toggleable__label-arrow\">RandomForestClassifier</label><div class=\"sk-toggleable__content\"><pre>RandomForestClassifier()</pre></div></div></div></div></div></div></div></div></div></div></div></div>"
      ],
      "text/plain": [
       "GridSearchCV(cv=StratifiedKFold(n_splits=5, random_state=None, shuffle=False),\n",
       "             estimator=Pipeline(steps=[('randomoversampler',\n",
       "                                        RandomOverSampler()),\n",
       "                                       ('randomforestclassifier',\n",
       "                                        RandomForestClassifier())]),\n",
       "             param_grid={'randomforestclassifier__max_depth': [6, 10, 12],\n",
       "                         'randomforestclassifier__n_estimators': [50, 100, 200],\n",
       "                         'randomforestclassifier__random_state': [13]},\n",
       "             return_train_score=True, scoring='f1')"
      ]
     },
     "execution_count": 192,
     "metadata": {},
     "output_type": "execute_result"
    }
   ],
   "source": [
    "new_params = {'randomforestclassifier__' + key: params[key] for key in params}\n",
    "grid_over_rf = GridSearchCV(random_overs_pipeline, param_grid=new_params, cv=kf, scoring='f1',\n",
    "                        return_train_score=True)\n",
    "grid_over_rf.fit(X_train_final, y_train)"
   ]
  },
  {
   "cell_type": "code",
   "execution_count": null,
   "metadata": {},
   "outputs": [],
   "source": [
    "# from imblearn.pipeline import Pipeline, make_pipeline\n",
    "# from sklearn.ensemble import RandomForestClassifier\n",
    "# from imblearn.over_sampling import RandomOverSampler\n",
    "# from sklearn.model_selection import RandomizedSearchCV\n",
    "\n",
    "# # Define the pipeline\n",
    "# random_overs_pipeline = make_pipeline(RandomOverSampler(), \n",
    "#                                        RandomForestClassifier())\n",
    "\n",
    "# # Define the parameters for the RandomizedSearchCV\n",
    "# params = {\n",
    "#     'randomforestclassifier__n_estimators': [50, 100, 200],\n",
    "#     'randomforestclassifier__max_depth': [6, 10, 12],\n",
    "#     'randomforestclassifier__random_state': [13]\n",
    "# }\n",
    "\n",
    "# # Run the RandomizedSearchCV\n",
    "# random_search_overs = RandomizedSearchCV(random_overs_pipeline, param_distributions=params, n_iter=5, scoring='f1', cv=kf, random_state=42)\n",
    "# random_search_overs.fit(X_train_final, y_train)"
   ]
  },
  {
   "cell_type": "code",
   "execution_count": 193,
   "metadata": {},
   "outputs": [
    {
     "name": "stdout",
     "output_type": "stream",
     "text": [
      "Best parameters: {'randomforestclassifier__max_depth': 12, 'randomforestclassifier__n_estimators': 100, 'randomforestclassifier__random_state': 13}\n",
      "Best score: 0.4187735423863095\n"
     ]
    }
   ],
   "source": [
    "print('Best parameters:', grid_over_rf.best_params_)\n",
    "print('Best score:', grid_over_rf.best_score_)"
   ]
  },
  {
   "cell_type": "code",
   "execution_count": 194,
   "metadata": {},
   "outputs": [],
   "source": [
    "y_pred_over2 = grid_over_rf.best_estimator_.named_steps['randomforestclassifier'].predict(X_val_final)"
   ]
  },
  {
   "cell_type": "code",
   "execution_count": 174,
   "metadata": {},
   "outputs": [],
   "source": [
    "# # Best parameters for oversampling from your grid search\n",
    "# best_params_over2 = {\n",
    "#     'max_depth': 12,\n",
    "#     'n_estimators': 200,\n",
    "#     'random_state': 13\n",
    "# }\n",
    "\n",
    "# # Create a RandomForestClassifier with the best parameters for oversampling\n",
    "# best_rf_over2 = RandomForestClassifier(**best_params_over2)\n",
    "\n",
    "# # Fit the classifier on your training data for oversampling\n",
    "# best_rf_over2.fit(X_over, y_over)\n",
    "\n",
    "# # Make predictions on your test set for oversampling\n",
    "# y_pred_over2 = best_rf_over2.predict(X_val_final)"
   ]
  },
  {
   "cell_type": "code",
   "execution_count": 175,
   "metadata": {},
   "outputs": [
    {
     "name": "stdout",
     "output_type": "stream",
     "text": [
      "[[180591   3683]\n",
      " [    58    907]]\n"
     ]
    }
   ],
   "source": [
    "cm = confusion_matrix(y_val, y_pred_over2)\n",
    "\n",
    "over2_rf_Recall = recall_score(y_val, y_pred_over2)\n",
    "over2_rf_Precision = precision_score(y_val, y_pred_over2)\n",
    "over2_rf_f1 = f1_score(y_val, y_pred_over2)\n",
    "over2_rf_accuracy = accuracy_score(y_val, y_pred_over2)\n",
    "over2_rf_roc = roc_auc_score(y_val, y_pred_over2)\n",
    "over2_rf_prauc = average_precision_score(y_val, y_pred_over2)\n",
    "\n",
    "print(cm)"
   ]
  },
  {
   "cell_type": "code",
   "execution_count": 176,
   "metadata": {},
   "outputs": [
    {
     "data": {
      "text/html": [
       "<div>\n",
       "<style scoped>\n",
       "    .dataframe tbody tr th:only-of-type {\n",
       "        vertical-align: middle;\n",
       "    }\n",
       "\n",
       "    .dataframe tbody tr th {\n",
       "        vertical-align: top;\n",
       "    }\n",
       "\n",
       "    .dataframe thead th {\n",
       "        text-align: right;\n",
       "    }\n",
       "</style>\n",
       "<table border=\"1\" class=\"dataframe\">\n",
       "  <thead>\n",
       "    <tr style=\"text-align: right;\">\n",
       "      <th></th>\n",
       "      <th>Random Forest with</th>\n",
       "      <th>Recall</th>\n",
       "      <th>Precision</th>\n",
       "      <th>F1 Score</th>\n",
       "      <th>PR AUC</th>\n",
       "      <th>ROC_AUC</th>\n",
       "    </tr>\n",
       "  </thead>\n",
       "  <tbody>\n",
       "    <tr>\n",
       "      <th>0</th>\n",
       "      <td>Random Oversampling using GridSearch</td>\n",
       "      <td>0.939896</td>\n",
       "      <td>0.197603</td>\n",
       "      <td>0.326553</td>\n",
       "      <td>0.18604</td>\n",
       "      <td>0.959955</td>\n",
       "    </tr>\n",
       "  </tbody>\n",
       "</table>\n",
       "</div>"
      ],
      "text/plain": [
       "                     Random Forest with    Recall  Precision  F1 Score  \\\n",
       "0  Random Oversampling using GridSearch  0.939896   0.197603  0.326553   \n",
       "\n",
       "    PR AUC   ROC_AUC  \n",
       "0  0.18604  0.959955  "
      ]
     },
     "execution_count": 176,
     "metadata": {},
     "output_type": "execute_result"
    }
   ],
   "source": [
    "ndf = [(over2_rf_Recall, over2_rf_Precision, over2_rf_f1, over2_rf_prauc, over2_rf_roc)]\n",
    "\n",
    "over2_rf_score = pd.DataFrame(data = ndf, columns=['Recall','Precision','F1 Score', 'PR AUC', 'ROC_AUC'])\n",
    "over2_rf_score.insert(0, 'Random Forest with', 'Random Oversampling using GridSearch')\n",
    "over2_rf_score"
   ]
  },
  {
   "cell_type": "markdown",
   "metadata": {},
   "source": [
    "Recall: The model achieved a recall of 93.99%, indicating a high ability to identify actual positive cases (frauds). This suggests a significant improvement compared to the baseline model.\n",
    "\n",
    "Precision: With a precision of 19.76%, the model shows lower accuracy in identifying true positive cases, resulting in a higher rate of false positives.\n",
    "\n",
    "F1 Score: The F1 Score, at 32.66%, represents a compromise between precision and recall. It indicates an improvement in balancing these metrics compared to the baseline.\n",
    "\n",
    "PR AUC: The Precision-Recall AUC of 18.60% suggests challenges in achieving a favorable balance between precision and recall, indicating room for improvement.\n",
    "\n",
    "ROC AUC: The ROC AUC of 95.99% demonstrates the model's accuracy in distinguishing between positive and negative instances, reflecting robust discrimination and a significant improvement compared to the baseline."
   ]
  },
  {
   "cell_type": "markdown",
   "metadata": {},
   "source": [
    "## Random Undersampling"
   ]
  },
  {
   "cell_type": "code",
   "execution_count": 177,
   "metadata": {},
   "outputs": [],
   "source": [
    "from imblearn.under_sampling import RandomUnderSampler\n",
    "# define oversampling strategy\n",
    "rus = RandomUnderSampler(random_state=42)"
   ]
  },
  {
   "cell_type": "code",
   "execution_count": 178,
   "metadata": {},
   "outputs": [],
   "source": [
    "# fit and apply the transform\n",
    "X_under, y_under = rus.fit_resample(X_train_final, y_train)"
   ]
  },
  {
   "cell_type": "code",
   "execution_count": 180,
   "metadata": {},
   "outputs": [
    {
     "name": "stdout",
     "output_type": "stream",
     "text": [
      "Genuine: 7721 / 50.0 % of the dataset\n",
      "Frauds: 7721 / 50.0 % of the dataset\n"
     ]
    }
   ],
   "source": [
    "print('Genuine:', y_under.value_counts()[0], '/', round(y_under.value_counts()[0]/len(y_under) * 100,2), '% of the dataset')\n",
    "print('Frauds:', y_under.value_counts()[1], '/',round(y_under.value_counts()[1]/len(y_under) * 100,2), '% of the dataset')"
   ]
  },
  {
   "cell_type": "markdown",
   "metadata": {},
   "source": [
    "Training Model"
   ]
  },
  {
   "cell_type": "code",
   "execution_count": 179,
   "metadata": {},
   "outputs": [],
   "source": [
    "from imblearn.pipeline import Pipeline, make_pipeline\n",
    "\n",
    "random_unders_pipeline = make_pipeline(RandomUnderSampler(random_state=42), \n",
    "                              RandomForestClassifier(n_estimators=100, random_state=13))\n"
   ]
  },
  {
   "cell_type": "code",
   "execution_count": 37,
   "metadata": {},
   "outputs": [
    {
     "name": "stdout",
     "output_type": "stream",
     "text": [
      "Cross Validation Recall Scores are: [0.94300518 0.9511473  0.96299038 0.96225019 0.94230769]\n",
      "Average Cross Validation Recall score: 0.9523401468997325\n"
     ]
    }
   ],
   "source": [
    "score3 = cross_val_score(random_unders_pipeline, X_train_final, y_train, scoring='recall', cv=kf)\n",
    "print(\"Cross Validation Recall Scores are: {}\".format(score3))\n",
    "print(\"Average Cross Validation Recall score: {}\".format(score3.mean()))"
   ]
  },
  {
   "cell_type": "markdown",
   "metadata": {},
   "source": [
    " model correctly identifies about 95.23% of the actual positive instances in the training data across different folds."
   ]
  },
  {
   "cell_type": "code",
   "execution_count": 181,
   "metadata": {},
   "outputs": [
    {
     "data": {
      "text/html": [
       "<style>#sk-container-id-8 {color: black;}#sk-container-id-8 pre{padding: 0;}#sk-container-id-8 div.sk-toggleable {background-color: white;}#sk-container-id-8 label.sk-toggleable__label {cursor: pointer;display: block;width: 100%;margin-bottom: 0;padding: 0.3em;box-sizing: border-box;text-align: center;}#sk-container-id-8 label.sk-toggleable__label-arrow:before {content: \"▸\";float: left;margin-right: 0.25em;color: #696969;}#sk-container-id-8 label.sk-toggleable__label-arrow:hover:before {color: black;}#sk-container-id-8 div.sk-estimator:hover label.sk-toggleable__label-arrow:before {color: black;}#sk-container-id-8 div.sk-toggleable__content {max-height: 0;max-width: 0;overflow: hidden;text-align: left;background-color: #f0f8ff;}#sk-container-id-8 div.sk-toggleable__content pre {margin: 0.2em;color: black;border-radius: 0.25em;background-color: #f0f8ff;}#sk-container-id-8 input.sk-toggleable__control:checked~div.sk-toggleable__content {max-height: 200px;max-width: 100%;overflow: auto;}#sk-container-id-8 input.sk-toggleable__control:checked~label.sk-toggleable__label-arrow:before {content: \"▾\";}#sk-container-id-8 div.sk-estimator input.sk-toggleable__control:checked~label.sk-toggleable__label {background-color: #d4ebff;}#sk-container-id-8 div.sk-label input.sk-toggleable__control:checked~label.sk-toggleable__label {background-color: #d4ebff;}#sk-container-id-8 input.sk-hidden--visually {border: 0;clip: rect(1px 1px 1px 1px);clip: rect(1px, 1px, 1px, 1px);height: 1px;margin: -1px;overflow: hidden;padding: 0;position: absolute;width: 1px;}#sk-container-id-8 div.sk-estimator {font-family: monospace;background-color: #f0f8ff;border: 1px dotted black;border-radius: 0.25em;box-sizing: border-box;margin-bottom: 0.5em;}#sk-container-id-8 div.sk-estimator:hover {background-color: #d4ebff;}#sk-container-id-8 div.sk-parallel-item::after {content: \"\";width: 100%;border-bottom: 1px solid gray;flex-grow: 1;}#sk-container-id-8 div.sk-label:hover label.sk-toggleable__label {background-color: #d4ebff;}#sk-container-id-8 div.sk-serial::before {content: \"\";position: absolute;border-left: 1px solid gray;box-sizing: border-box;top: 0;bottom: 0;left: 50%;z-index: 0;}#sk-container-id-8 div.sk-serial {display: flex;flex-direction: column;align-items: center;background-color: white;padding-right: 0.2em;padding-left: 0.2em;position: relative;}#sk-container-id-8 div.sk-item {position: relative;z-index: 1;}#sk-container-id-8 div.sk-parallel {display: flex;align-items: stretch;justify-content: center;background-color: white;position: relative;}#sk-container-id-8 div.sk-item::before, #sk-container-id-8 div.sk-parallel-item::before {content: \"\";position: absolute;border-left: 1px solid gray;box-sizing: border-box;top: 0;bottom: 0;left: 50%;z-index: -1;}#sk-container-id-8 div.sk-parallel-item {display: flex;flex-direction: column;z-index: 1;position: relative;background-color: white;}#sk-container-id-8 div.sk-parallel-item:first-child::after {align-self: flex-end;width: 50%;}#sk-container-id-8 div.sk-parallel-item:last-child::after {align-self: flex-start;width: 50%;}#sk-container-id-8 div.sk-parallel-item:only-child::after {width: 0;}#sk-container-id-8 div.sk-dashed-wrapped {border: 1px dashed gray;margin: 0 0.4em 0.5em 0.4em;box-sizing: border-box;padding-bottom: 0.4em;background-color: white;}#sk-container-id-8 div.sk-label label {font-family: monospace;font-weight: bold;display: inline-block;line-height: 1.2em;}#sk-container-id-8 div.sk-label-container {text-align: center;}#sk-container-id-8 div.sk-container {/* jupyter's `normalize.less` sets `[hidden] { display: none; }` but bootstrap.min.css set `[hidden] { display: none !important; }` so we also need the `!important` here to be able to override the default hidden behavior on the sphinx rendered scikit-learn.org. See: https://github.com/scikit-learn/scikit-learn/issues/21755 */display: inline-block !important;position: relative;}#sk-container-id-8 div.sk-text-repr-fallback {display: none;}</style><div id=\"sk-container-id-8\" class=\"sk-top-container\"><div class=\"sk-text-repr-fallback\"><pre>Pipeline(steps=[(&#x27;randomundersampler&#x27;, RandomUnderSampler(random_state=42)),\n",
       "                (&#x27;randomforestclassifier&#x27;,\n",
       "                 RandomForestClassifier(random_state=13))])</pre><b>In a Jupyter environment, please rerun this cell to show the HTML representation or trust the notebook. <br />On GitHub, the HTML representation is unable to render, please try loading this page with nbviewer.org.</b></div><div class=\"sk-container\" hidden><div class=\"sk-item sk-dashed-wrapped\"><div class=\"sk-label-container\"><div class=\"sk-label sk-toggleable\"><input class=\"sk-toggleable__control sk-hidden--visually\" id=\"sk-estimator-id-16\" type=\"checkbox\" ><label for=\"sk-estimator-id-16\" class=\"sk-toggleable__label sk-toggleable__label-arrow\">Pipeline</label><div class=\"sk-toggleable__content\"><pre>Pipeline(steps=[(&#x27;randomundersampler&#x27;, RandomUnderSampler(random_state=42)),\n",
       "                (&#x27;randomforestclassifier&#x27;,\n",
       "                 RandomForestClassifier(random_state=13))])</pre></div></div></div><div class=\"sk-serial\"><div class=\"sk-item\"><div class=\"sk-estimator sk-toggleable\"><input class=\"sk-toggleable__control sk-hidden--visually\" id=\"sk-estimator-id-17\" type=\"checkbox\" ><label for=\"sk-estimator-id-17\" class=\"sk-toggleable__label sk-toggleable__label-arrow\">RandomUnderSampler</label><div class=\"sk-toggleable__content\"><pre>RandomUnderSampler(random_state=42)</pre></div></div></div><div class=\"sk-item\"><div class=\"sk-estimator sk-toggleable\"><input class=\"sk-toggleable__control sk-hidden--visually\" id=\"sk-estimator-id-18\" type=\"checkbox\" ><label for=\"sk-estimator-id-18\" class=\"sk-toggleable__label sk-toggleable__label-arrow\">RandomForestClassifier</label><div class=\"sk-toggleable__content\"><pre>RandomForestClassifier(random_state=13)</pre></div></div></div></div></div></div></div>"
      ],
      "text/plain": [
       "Pipeline(steps=[('randomundersampler', RandomUnderSampler(random_state=42)),\n",
       "                ('randomforestclassifier',\n",
       "                 RandomForestClassifier(random_state=13))])"
      ]
     },
     "execution_count": 181,
     "metadata": {},
     "output_type": "execute_result"
    }
   ],
   "source": [
    "random_unders_pipeline.fit(X_under, y_under)"
   ]
  },
  {
   "cell_type": "code",
   "execution_count": 182,
   "metadata": {},
   "outputs": [],
   "source": [
    "y_val_pred_undersampled = random_unders_pipeline.predict(X_val_final)"
   ]
  },
  {
   "cell_type": "code",
   "execution_count": 183,
   "metadata": {},
   "outputs": [
    {
     "name": "stdout",
     "output_type": "stream",
     "text": [
      "[[179677   4597]\n",
      " [    34    931]]\n"
     ]
    }
   ],
   "source": [
    "cm = confusion_matrix(y_val, y_val_pred_undersampled)\n",
    "\n",
    "under_rf_Recall = recall_score(y_val, y_val_pred_undersampled)\n",
    "under_rf_Precision = precision_score(y_val, y_val_pred_undersampled)\n",
    "under_rf_f1 = f1_score(y_val, y_val_pred_undersampled)\n",
    "under_rf_accuracy = accuracy_score(y_val, y_val_pred_undersampled)\n",
    "under_roc = roc_auc_score(y_val, y_val_pred_undersampled)\n",
    "under_prauc = average_precision_score(y_val, y_val_pred_undersampled)\n",
    "\n",
    "print(cm)"
   ]
  },
  {
   "cell_type": "code",
   "execution_count": 184,
   "metadata": {},
   "outputs": [
    {
     "data": {
      "text/html": [
       "<div>\n",
       "<style scoped>\n",
       "    .dataframe tbody tr th:only-of-type {\n",
       "        vertical-align: middle;\n",
       "    }\n",
       "\n",
       "    .dataframe tbody tr th {\n",
       "        vertical-align: top;\n",
       "    }\n",
       "\n",
       "    .dataframe thead th {\n",
       "        text-align: right;\n",
       "    }\n",
       "</style>\n",
       "<table border=\"1\" class=\"dataframe\">\n",
       "  <thead>\n",
       "    <tr style=\"text-align: right;\">\n",
       "      <th></th>\n",
       "      <th>Random Forest with</th>\n",
       "      <th>Recall</th>\n",
       "      <th>Precision</th>\n",
       "      <th>F1 Score</th>\n",
       "      <th>PR AUC</th>\n",
       "      <th>ROC_AUC</th>\n",
       "    </tr>\n",
       "  </thead>\n",
       "  <tbody>\n",
       "    <tr>\n",
       "      <th>0</th>\n",
       "      <td>Random Undersampling</td>\n",
       "      <td>0.964767</td>\n",
       "      <td>0.168415</td>\n",
       "      <td>0.28677</td>\n",
       "      <td>0.162665</td>\n",
       "      <td>0.96991</td>\n",
       "    </tr>\n",
       "  </tbody>\n",
       "</table>\n",
       "</div>"
      ],
      "text/plain": [
       "     Random Forest with    Recall  Precision  F1 Score    PR AUC  ROC_AUC\n",
       "0  Random Undersampling  0.964767   0.168415   0.28677  0.162665  0.96991"
      ]
     },
     "execution_count": 184,
     "metadata": {},
     "output_type": "execute_result"
    }
   ],
   "source": [
    "ndf = [(under_rf_Recall, under_rf_Precision, under_rf_f1, under_prauc, under_roc)]\n",
    "\n",
    "under_rf_score = pd.DataFrame(data = ndf, columns=['Recall','Precision','F1 Score', 'PR AUC', 'ROC_AUC'])\n",
    "under_rf_score.insert(0, 'Random Forest with', 'Random Undersampling')\n",
    "under_rf_score"
   ]
  },
  {
   "cell_type": "markdown",
   "metadata": {},
   "source": [
    "Recall: The model achieved an exceptionally high recall of 96.48%, indicating a strong ability to identify actual positive cases (frauds). This suggests an excellent performance in capturing the majority of fraudulent transactions.\n",
    "\n",
    "Precision: With a precision of 16.84%, the model has a lower accuracy in identifying true positive cases, resulting in a higher rate of false positives. The emphasis on recall comes at the cost of precision.\n",
    "\n",
    "F1 Score: The F1 Score, at 28.68%, represents a compromise between precision and recall. It indicates a trade-off between identifying true positive cases and minimizing false positives.\n",
    "\n",
    "PR AUC: The Precision-Recall AUC of 16.27% suggests challenges in achieving a favorable balance between precision and recall, indicating potential areas for improvement.\n",
    "\n",
    "ROC AUC: The ROC AUC of 96.99% demonstrates the model's accuracy in distinguishing between positive and negative instances, reflecting robust discrimination and a significant improvement compared to the baseline."
   ]
  },
  {
   "cell_type": "markdown",
   "metadata": {},
   "source": [
    "**GridSearch for RandomUndersampling**"
   ]
  },
  {
   "cell_type": "code",
   "execution_count": 197,
   "metadata": {},
   "outputs": [
    {
     "data": {
      "text/html": [
       "<style>#sk-container-id-8 {color: black;}#sk-container-id-8 pre{padding: 0;}#sk-container-id-8 div.sk-toggleable {background-color: white;}#sk-container-id-8 label.sk-toggleable__label {cursor: pointer;display: block;width: 100%;margin-bottom: 0;padding: 0.3em;box-sizing: border-box;text-align: center;}#sk-container-id-8 label.sk-toggleable__label-arrow:before {content: \"▸\";float: left;margin-right: 0.25em;color: #696969;}#sk-container-id-8 label.sk-toggleable__label-arrow:hover:before {color: black;}#sk-container-id-8 div.sk-estimator:hover label.sk-toggleable__label-arrow:before {color: black;}#sk-container-id-8 div.sk-toggleable__content {max-height: 0;max-width: 0;overflow: hidden;text-align: left;background-color: #f0f8ff;}#sk-container-id-8 div.sk-toggleable__content pre {margin: 0.2em;color: black;border-radius: 0.25em;background-color: #f0f8ff;}#sk-container-id-8 input.sk-toggleable__control:checked~div.sk-toggleable__content {max-height: 200px;max-width: 100%;overflow: auto;}#sk-container-id-8 input.sk-toggleable__control:checked~label.sk-toggleable__label-arrow:before {content: \"▾\";}#sk-container-id-8 div.sk-estimator input.sk-toggleable__control:checked~label.sk-toggleable__label {background-color: #d4ebff;}#sk-container-id-8 div.sk-label input.sk-toggleable__control:checked~label.sk-toggleable__label {background-color: #d4ebff;}#sk-container-id-8 input.sk-hidden--visually {border: 0;clip: rect(1px 1px 1px 1px);clip: rect(1px, 1px, 1px, 1px);height: 1px;margin: -1px;overflow: hidden;padding: 0;position: absolute;width: 1px;}#sk-container-id-8 div.sk-estimator {font-family: monospace;background-color: #f0f8ff;border: 1px dotted black;border-radius: 0.25em;box-sizing: border-box;margin-bottom: 0.5em;}#sk-container-id-8 div.sk-estimator:hover {background-color: #d4ebff;}#sk-container-id-8 div.sk-parallel-item::after {content: \"\";width: 100%;border-bottom: 1px solid gray;flex-grow: 1;}#sk-container-id-8 div.sk-label:hover label.sk-toggleable__label {background-color: #d4ebff;}#sk-container-id-8 div.sk-serial::before {content: \"\";position: absolute;border-left: 1px solid gray;box-sizing: border-box;top: 0;bottom: 0;left: 50%;z-index: 0;}#sk-container-id-8 div.sk-serial {display: flex;flex-direction: column;align-items: center;background-color: white;padding-right: 0.2em;padding-left: 0.2em;position: relative;}#sk-container-id-8 div.sk-item {position: relative;z-index: 1;}#sk-container-id-8 div.sk-parallel {display: flex;align-items: stretch;justify-content: center;background-color: white;position: relative;}#sk-container-id-8 div.sk-item::before, #sk-container-id-8 div.sk-parallel-item::before {content: \"\";position: absolute;border-left: 1px solid gray;box-sizing: border-box;top: 0;bottom: 0;left: 50%;z-index: -1;}#sk-container-id-8 div.sk-parallel-item {display: flex;flex-direction: column;z-index: 1;position: relative;background-color: white;}#sk-container-id-8 div.sk-parallel-item:first-child::after {align-self: flex-end;width: 50%;}#sk-container-id-8 div.sk-parallel-item:last-child::after {align-self: flex-start;width: 50%;}#sk-container-id-8 div.sk-parallel-item:only-child::after {width: 0;}#sk-container-id-8 div.sk-dashed-wrapped {border: 1px dashed gray;margin: 0 0.4em 0.5em 0.4em;box-sizing: border-box;padding-bottom: 0.4em;background-color: white;}#sk-container-id-8 div.sk-label label {font-family: monospace;font-weight: bold;display: inline-block;line-height: 1.2em;}#sk-container-id-8 div.sk-label-container {text-align: center;}#sk-container-id-8 div.sk-container {/* jupyter's `normalize.less` sets `[hidden] { display: none; }` but bootstrap.min.css set `[hidden] { display: none !important; }` so we also need the `!important` here to be able to override the default hidden behavior on the sphinx rendered scikit-learn.org. See: https://github.com/scikit-learn/scikit-learn/issues/21755 */display: inline-block !important;position: relative;}#sk-container-id-8 div.sk-text-repr-fallback {display: none;}</style><div id=\"sk-container-id-8\" class=\"sk-top-container\"><div class=\"sk-text-repr-fallback\"><pre>GridSearchCV(cv=StratifiedKFold(n_splits=5, random_state=None, shuffle=False),\n",
       "             estimator=Pipeline(steps=[(&#x27;randomundersampler&#x27;,\n",
       "                                        RandomUnderSampler(random_state=42)),\n",
       "                                       (&#x27;randomforestclassifier&#x27;,\n",
       "                                        RandomForestClassifier(random_state=13))]),\n",
       "             param_grid={&#x27;randomforestclassifier__max_depth&#x27;: [6, 10, 12],\n",
       "                         &#x27;randomforestclassifier__n_estimators&#x27;: [50, 100, 200],\n",
       "                         &#x27;randomforestclassifier__random_state&#x27;: [13]},\n",
       "             return_train_score=True, scoring=&#x27;f1&#x27;)</pre><b>In a Jupyter environment, please rerun this cell to show the HTML representation or trust the notebook. <br />On GitHub, the HTML representation is unable to render, please try loading this page with nbviewer.org.</b></div><div class=\"sk-container\" hidden><div class=\"sk-item sk-dashed-wrapped\"><div class=\"sk-label-container\"><div class=\"sk-label sk-toggleable\"><input class=\"sk-toggleable__control sk-hidden--visually\" id=\"sk-estimator-id-17\" type=\"checkbox\" ><label for=\"sk-estimator-id-17\" class=\"sk-toggleable__label sk-toggleable__label-arrow\">GridSearchCV</label><div class=\"sk-toggleable__content\"><pre>GridSearchCV(cv=StratifiedKFold(n_splits=5, random_state=None, shuffle=False),\n",
       "             estimator=Pipeline(steps=[(&#x27;randomundersampler&#x27;,\n",
       "                                        RandomUnderSampler(random_state=42)),\n",
       "                                       (&#x27;randomforestclassifier&#x27;,\n",
       "                                        RandomForestClassifier(random_state=13))]),\n",
       "             param_grid={&#x27;randomforestclassifier__max_depth&#x27;: [6, 10, 12],\n",
       "                         &#x27;randomforestclassifier__n_estimators&#x27;: [50, 100, 200],\n",
       "                         &#x27;randomforestclassifier__random_state&#x27;: [13]},\n",
       "             return_train_score=True, scoring=&#x27;f1&#x27;)</pre></div></div></div><div class=\"sk-parallel\"><div class=\"sk-parallel-item\"><div class=\"sk-item\"><div class=\"sk-label-container\"><div class=\"sk-label sk-toggleable\"><input class=\"sk-toggleable__control sk-hidden--visually\" id=\"sk-estimator-id-18\" type=\"checkbox\" ><label for=\"sk-estimator-id-18\" class=\"sk-toggleable__label sk-toggleable__label-arrow\">estimator: Pipeline</label><div class=\"sk-toggleable__content\"><pre>Pipeline(steps=[(&#x27;randomundersampler&#x27;, RandomUnderSampler(random_state=42)),\n",
       "                (&#x27;randomforestclassifier&#x27;,\n",
       "                 RandomForestClassifier(random_state=13))])</pre></div></div></div><div class=\"sk-serial\"><div class=\"sk-item\"><div class=\"sk-serial\"><div class=\"sk-item\"><div class=\"sk-estimator sk-toggleable\"><input class=\"sk-toggleable__control sk-hidden--visually\" id=\"sk-estimator-id-19\" type=\"checkbox\" ><label for=\"sk-estimator-id-19\" class=\"sk-toggleable__label sk-toggleable__label-arrow\">RandomUnderSampler</label><div class=\"sk-toggleable__content\"><pre>RandomUnderSampler(random_state=42)</pre></div></div></div><div class=\"sk-item\"><div class=\"sk-estimator sk-toggleable\"><input class=\"sk-toggleable__control sk-hidden--visually\" id=\"sk-estimator-id-20\" type=\"checkbox\" ><label for=\"sk-estimator-id-20\" class=\"sk-toggleable__label sk-toggleable__label-arrow\">RandomForestClassifier</label><div class=\"sk-toggleable__content\"><pre>RandomForestClassifier(random_state=13)</pre></div></div></div></div></div></div></div></div></div></div></div></div>"
      ],
      "text/plain": [
       "GridSearchCV(cv=StratifiedKFold(n_splits=5, random_state=None, shuffle=False),\n",
       "             estimator=Pipeline(steps=[('randomundersampler',\n",
       "                                        RandomUnderSampler(random_state=42)),\n",
       "                                       ('randomforestclassifier',\n",
       "                                        RandomForestClassifier(random_state=13))]),\n",
       "             param_grid={'randomforestclassifier__max_depth': [6, 10, 12],\n",
       "                         'randomforestclassifier__n_estimators': [50, 100, 200],\n",
       "                         'randomforestclassifier__random_state': [13]},\n",
       "             return_train_score=True, scoring='f1')"
      ]
     },
     "execution_count": 197,
     "metadata": {},
     "output_type": "execute_result"
    }
   ],
   "source": [
    "new_params = {'randomforestclassifier__' + key: params[key] for key in params}\n",
    "grid_under2_rf = GridSearchCV(random_unders_pipeline, param_grid=new_params, cv=kf, scoring='f1',\n",
    "                        return_train_score=True)\n",
    "grid_under2_rf.fit(X_train_final, y_train)"
   ]
  },
  {
   "cell_type": "code",
   "execution_count": 198,
   "metadata": {},
   "outputs": [
    {
     "name": "stdout",
     "output_type": "stream",
     "text": [
      "Best parameters: {'randomforestclassifier__max_depth': 10, 'randomforestclassifier__n_estimators': 100, 'randomforestclassifier__random_state': 13}\n",
      "Best score: 0.3469552612767547\n"
     ]
    }
   ],
   "source": [
    "print('Best parameters:', grid_under2_rf.best_params_)\n",
    "print('Best score:', grid_under2_rf.best_score_)"
   ]
  },
  {
   "cell_type": "code",
   "execution_count": 185,
   "metadata": {},
   "outputs": [],
   "source": [
    "# # Best parameters for undersampling from your grid search\n",
    "# best_params_under2 = {\n",
    "#     'max_depth': 12,\n",
    "#     'n_estimators': 200,\n",
    "#     'random_state': 13\n",
    "# }\n",
    "\n",
    "# # Create a RandomForestClassifier with the best parameters for undersampling\n",
    "# best_rf_under2 = RandomForestClassifier(**best_params_under2)\n",
    "\n",
    "# # Fit the classifier on your training data for undersampling\n",
    "# best_rf_under2.fit(X_under, y_under)\n",
    "\n",
    "# # Make predictions on your test set for undersampling\n",
    "# y_pred_under2 = best_rf_under2.predict(X_val_final)\n"
   ]
  },
  {
   "cell_type": "code",
   "execution_count": null,
   "metadata": {},
   "outputs": [],
   "source": [
    "y_pred_under2 = grid_under2_rf.best_estimator_.named_steps['randomforestclassifier'].predict(X_val_final)"
   ]
  },
  {
   "cell_type": "code",
   "execution_count": 186,
   "metadata": {},
   "outputs": [
    {
     "name": "stdout",
     "output_type": "stream",
     "text": [
      "[[178742   5532]\n",
      " [    49    916]]\n"
     ]
    }
   ],
   "source": [
    "cm = confusion_matrix(y_val, y_pred_under2)\n",
    "\n",
    "under2_rf_Recall = recall_score(y_val, y_pred_under2)\n",
    "under2_rf_Precision = precision_score(y_val, y_pred_under2)\n",
    "under2_rf_f1 = f1_score(y_val, y_pred_under2)\n",
    "under2_rf_accuracy = accuracy_score(y_val, y_pred_under2)\n",
    "under2_rf_roc = roc_auc_score(y_val, y_pred_under2)\n",
    "under2_rf_prauc = average_precision_score(y_val, y_pred_under2)\n",
    "\n",
    "print(cm)"
   ]
  },
  {
   "cell_type": "code",
   "execution_count": 187,
   "metadata": {},
   "outputs": [
    {
     "data": {
      "text/html": [
       "<div>\n",
       "<style scoped>\n",
       "    .dataframe tbody tr th:only-of-type {\n",
       "        vertical-align: middle;\n",
       "    }\n",
       "\n",
       "    .dataframe tbody tr th {\n",
       "        vertical-align: top;\n",
       "    }\n",
       "\n",
       "    .dataframe thead th {\n",
       "        text-align: right;\n",
       "    }\n",
       "</style>\n",
       "<table border=\"1\" class=\"dataframe\">\n",
       "  <thead>\n",
       "    <tr style=\"text-align: right;\">\n",
       "      <th></th>\n",
       "      <th>Random Forest with</th>\n",
       "      <th>Recall</th>\n",
       "      <th>Precision</th>\n",
       "      <th>F1 Score</th>\n",
       "      <th>PR AUC</th>\n",
       "      <th>ROC_AUC</th>\n",
       "    </tr>\n",
       "  </thead>\n",
       "  <tbody>\n",
       "    <tr>\n",
       "      <th>0</th>\n",
       "      <td>Random undersampling using GridSearch</td>\n",
       "      <td>0.949223</td>\n",
       "      <td>0.14206</td>\n",
       "      <td>0.247133</td>\n",
       "      <td>0.135111</td>\n",
       "      <td>0.959601</td>\n",
       "    </tr>\n",
       "  </tbody>\n",
       "</table>\n",
       "</div>"
      ],
      "text/plain": [
       "                      Random Forest with    Recall  Precision  F1 Score  \\\n",
       "0  Random undersampling using GridSearch  0.949223    0.14206  0.247133   \n",
       "\n",
       "     PR AUC   ROC_AUC  \n",
       "0  0.135111  0.959601  "
      ]
     },
     "execution_count": 187,
     "metadata": {},
     "output_type": "execute_result"
    }
   ],
   "source": [
    "ndf = [(under2_rf_Recall, under2_rf_Precision, under2_rf_f1, under2_rf_prauc, under2_rf_roc)]\n",
    "\n",
    "under2_rf_score = pd.DataFrame(data = ndf, columns=['Recall','Precision','F1 Score', 'PR AUC', 'ROC_AUC'])\n",
    "under2_rf_score.insert(0, 'Random Forest with', 'Random undersampling using GridSearch')\n",
    "under2_rf_score"
   ]
  },
  {
   "cell_type": "markdown",
   "metadata": {},
   "source": [
    "Recall Dominance: The recall is considerably high at 88.81%, suggesting that the model effectively captures a significant portion of the actual positive cases. This is an improvement compared to the Random Oversampling and Baseline configurations.\n",
    "\n",
    "Precision Trade-off: Precision is relatively low at 20.39%, indicating a trade-off for higher recall. This implies that while the model is adept at identifying positive cases, it may generate more false positives.\n",
    "\n",
    "F1 Score Impact: The F1 Score, at 33.16%, represents the harmonic mean of precision and recall. This balanced metric indicates a trade-off between precision and recall, reflecting the compromise made by the model in identifying both true positives and minimizing false positives.\n",
    "\n",
    "PR AUC Increase: The Precision-Recall AUC increased to 18.16% from 5.69% in the Random Oversampling configuration. This emphasizes a more pronounced trade-off between precision and recall.\n",
    "\n",
    "ROC AUC Decrease: The ROC AUC decreased to 93.50% from 97.54% in the Random Oversampling configuration. Despite the decrease, the ROC AUC remains relatively high, indicating a good ability to discriminate between classes."
   ]
  },
  {
   "cell_type": "markdown",
   "metadata": {},
   "source": [
    "## SMOTE"
   ]
  },
  {
   "cell_type": "code",
   "execution_count": 188,
   "metadata": {},
   "outputs": [],
   "source": [
    "from imblearn.over_sampling import SMOTE\n",
    "\n",
    "smote_pipeline = make_pipeline(SMOTE(random_state=42), \n",
    "                              RandomForestClassifier(n_estimators=100, random_state=13))\n"
   ]
  },
  {
   "cell_type": "code",
   "execution_count": 43,
   "metadata": {},
   "outputs": [
    {
     "name": "stdout",
     "output_type": "stream",
     "text": [
      "Cross Validation Recall Scores are: [0.77646188 0.76239822 0.73871207 0.78756477 0.75887574]\n",
      "Average Cross Validation Recall score: 0.7648025350496455\n"
     ]
    }
   ],
   "source": [
    "score4 = cross_val_score(smote_pipeline, X_train_final, y_train, scoring='recall', cv=kf)\n",
    "print(\"Cross Validation Recall Scores are: {}\".format(score4))\n",
    "print(\"Average Cross Validation Recall score: {}\".format(score4.mean()))\n"
   ]
  },
  {
   "cell_type": "markdown",
   "metadata": {},
   "source": [
    " model correctly identifies about 76.48% of the actual positive instances in the training data across different folds."
   ]
  },
  {
   "cell_type": "code",
   "execution_count": 189,
   "metadata": {},
   "outputs": [
    {
     "data": {
      "text/html": [
       "<style>#sk-container-id-9 {color: black;}#sk-container-id-9 pre{padding: 0;}#sk-container-id-9 div.sk-toggleable {background-color: white;}#sk-container-id-9 label.sk-toggleable__label {cursor: pointer;display: block;width: 100%;margin-bottom: 0;padding: 0.3em;box-sizing: border-box;text-align: center;}#sk-container-id-9 label.sk-toggleable__label-arrow:before {content: \"▸\";float: left;margin-right: 0.25em;color: #696969;}#sk-container-id-9 label.sk-toggleable__label-arrow:hover:before {color: black;}#sk-container-id-9 div.sk-estimator:hover label.sk-toggleable__label-arrow:before {color: black;}#sk-container-id-9 div.sk-toggleable__content {max-height: 0;max-width: 0;overflow: hidden;text-align: left;background-color: #f0f8ff;}#sk-container-id-9 div.sk-toggleable__content pre {margin: 0.2em;color: black;border-radius: 0.25em;background-color: #f0f8ff;}#sk-container-id-9 input.sk-toggleable__control:checked~div.sk-toggleable__content {max-height: 200px;max-width: 100%;overflow: auto;}#sk-container-id-9 input.sk-toggleable__control:checked~label.sk-toggleable__label-arrow:before {content: \"▾\";}#sk-container-id-9 div.sk-estimator input.sk-toggleable__control:checked~label.sk-toggleable__label {background-color: #d4ebff;}#sk-container-id-9 div.sk-label input.sk-toggleable__control:checked~label.sk-toggleable__label {background-color: #d4ebff;}#sk-container-id-9 input.sk-hidden--visually {border: 0;clip: rect(1px 1px 1px 1px);clip: rect(1px, 1px, 1px, 1px);height: 1px;margin: -1px;overflow: hidden;padding: 0;position: absolute;width: 1px;}#sk-container-id-9 div.sk-estimator {font-family: monospace;background-color: #f0f8ff;border: 1px dotted black;border-radius: 0.25em;box-sizing: border-box;margin-bottom: 0.5em;}#sk-container-id-9 div.sk-estimator:hover {background-color: #d4ebff;}#sk-container-id-9 div.sk-parallel-item::after {content: \"\";width: 100%;border-bottom: 1px solid gray;flex-grow: 1;}#sk-container-id-9 div.sk-label:hover label.sk-toggleable__label {background-color: #d4ebff;}#sk-container-id-9 div.sk-serial::before {content: \"\";position: absolute;border-left: 1px solid gray;box-sizing: border-box;top: 0;bottom: 0;left: 50%;z-index: 0;}#sk-container-id-9 div.sk-serial {display: flex;flex-direction: column;align-items: center;background-color: white;padding-right: 0.2em;padding-left: 0.2em;position: relative;}#sk-container-id-9 div.sk-item {position: relative;z-index: 1;}#sk-container-id-9 div.sk-parallel {display: flex;align-items: stretch;justify-content: center;background-color: white;position: relative;}#sk-container-id-9 div.sk-item::before, #sk-container-id-9 div.sk-parallel-item::before {content: \"\";position: absolute;border-left: 1px solid gray;box-sizing: border-box;top: 0;bottom: 0;left: 50%;z-index: -1;}#sk-container-id-9 div.sk-parallel-item {display: flex;flex-direction: column;z-index: 1;position: relative;background-color: white;}#sk-container-id-9 div.sk-parallel-item:first-child::after {align-self: flex-end;width: 50%;}#sk-container-id-9 div.sk-parallel-item:last-child::after {align-self: flex-start;width: 50%;}#sk-container-id-9 div.sk-parallel-item:only-child::after {width: 0;}#sk-container-id-9 div.sk-dashed-wrapped {border: 1px dashed gray;margin: 0 0.4em 0.5em 0.4em;box-sizing: border-box;padding-bottom: 0.4em;background-color: white;}#sk-container-id-9 div.sk-label label {font-family: monospace;font-weight: bold;display: inline-block;line-height: 1.2em;}#sk-container-id-9 div.sk-label-container {text-align: center;}#sk-container-id-9 div.sk-container {/* jupyter's `normalize.less` sets `[hidden] { display: none; }` but bootstrap.min.css set `[hidden] { display: none !important; }` so we also need the `!important` here to be able to override the default hidden behavior on the sphinx rendered scikit-learn.org. See: https://github.com/scikit-learn/scikit-learn/issues/21755 */display: inline-block !important;position: relative;}#sk-container-id-9 div.sk-text-repr-fallback {display: none;}</style><div id=\"sk-container-id-9\" class=\"sk-top-container\"><div class=\"sk-text-repr-fallback\"><pre>Pipeline(steps=[(&#x27;smote&#x27;, SMOTE(random_state=42)),\n",
       "                (&#x27;randomforestclassifier&#x27;,\n",
       "                 RandomForestClassifier(random_state=13))])</pre><b>In a Jupyter environment, please rerun this cell to show the HTML representation or trust the notebook. <br />On GitHub, the HTML representation is unable to render, please try loading this page with nbviewer.org.</b></div><div class=\"sk-container\" hidden><div class=\"sk-item sk-dashed-wrapped\"><div class=\"sk-label-container\"><div class=\"sk-label sk-toggleable\"><input class=\"sk-toggleable__control sk-hidden--visually\" id=\"sk-estimator-id-19\" type=\"checkbox\" ><label for=\"sk-estimator-id-19\" class=\"sk-toggleable__label sk-toggleable__label-arrow\">Pipeline</label><div class=\"sk-toggleable__content\"><pre>Pipeline(steps=[(&#x27;smote&#x27;, SMOTE(random_state=42)),\n",
       "                (&#x27;randomforestclassifier&#x27;,\n",
       "                 RandomForestClassifier(random_state=13))])</pre></div></div></div><div class=\"sk-serial\"><div class=\"sk-item\"><div class=\"sk-estimator sk-toggleable\"><input class=\"sk-toggleable__control sk-hidden--visually\" id=\"sk-estimator-id-20\" type=\"checkbox\" ><label for=\"sk-estimator-id-20\" class=\"sk-toggleable__label sk-toggleable__label-arrow\">SMOTE</label><div class=\"sk-toggleable__content\"><pre>SMOTE(random_state=42)</pre></div></div></div><div class=\"sk-item\"><div class=\"sk-estimator sk-toggleable\"><input class=\"sk-toggleable__control sk-hidden--visually\" id=\"sk-estimator-id-21\" type=\"checkbox\" ><label for=\"sk-estimator-id-21\" class=\"sk-toggleable__label sk-toggleable__label-arrow\">RandomForestClassifier</label><div class=\"sk-toggleable__content\"><pre>RandomForestClassifier(random_state=13)</pre></div></div></div></div></div></div></div>"
      ],
      "text/plain": [
       "Pipeline(steps=[('smote', SMOTE(random_state=42)),\n",
       "                ('randomforestclassifier',\n",
       "                 RandomForestClassifier(random_state=13))])"
      ]
     },
     "execution_count": 189,
     "metadata": {},
     "output_type": "execute_result"
    }
   ],
   "source": [
    "# Fit the model to the training data\n",
    "smote_pipeline.fit(X_train_final, y_train)"
   ]
  },
  {
   "cell_type": "code",
   "execution_count": 190,
   "metadata": {},
   "outputs": [],
   "source": [
    "y_pred_smote = smote_pipeline.predict(X_val_final)"
   ]
  },
  {
   "cell_type": "code",
   "execution_count": 191,
   "metadata": {},
   "outputs": [
    {
     "name": "stdout",
     "output_type": "stream",
     "text": [
      "[[184209     65]\n",
      " [   242    723]]\n"
     ]
    }
   ],
   "source": [
    "cm = confusion_matrix(y_val, y_pred_smote)\n",
    "\n",
    "smote_rf_Recall = recall_score(y_val, y_pred_smote)\n",
    "smote_rf_Precision = precision_score(y_val, y_pred_smote)\n",
    "smote_rf_f1 = f1_score(y_val, y_pred_smote)\n",
    "smote_rf_accuracy = accuracy_score(y_val, y_pred_smote)\n",
    "smote_rf_rocauc = roc_auc_score(y_val, y_pred_smote)\n",
    "smote_rf_prauc = average_precision_score(y_val, y_pred_smote)\n",
    "\n",
    "print(cm)"
   ]
  },
  {
   "cell_type": "code",
   "execution_count": 192,
   "metadata": {},
   "outputs": [
    {
     "data": {
      "text/html": [
       "<div>\n",
       "<style scoped>\n",
       "    .dataframe tbody tr th:only-of-type {\n",
       "        vertical-align: middle;\n",
       "    }\n",
       "\n",
       "    .dataframe tbody tr th {\n",
       "        vertical-align: top;\n",
       "    }\n",
       "\n",
       "    .dataframe thead th {\n",
       "        text-align: right;\n",
       "    }\n",
       "</style>\n",
       "<table border=\"1\" class=\"dataframe\">\n",
       "  <thead>\n",
       "    <tr style=\"text-align: right;\">\n",
       "      <th></th>\n",
       "      <th>Random Forest with</th>\n",
       "      <th>Recall</th>\n",
       "      <th>Precision</th>\n",
       "      <th>F1 Score</th>\n",
       "      <th>PR AUC</th>\n",
       "      <th>ROC_AUC</th>\n",
       "    </tr>\n",
       "  </thead>\n",
       "  <tbody>\n",
       "    <tr>\n",
       "      <th>0</th>\n",
       "      <td>SMOTE Oversampling</td>\n",
       "      <td>0.749223</td>\n",
       "      <td>0.917513</td>\n",
       "      <td>0.824872</td>\n",
       "      <td>0.688728</td>\n",
       "      <td>0.874435</td>\n",
       "    </tr>\n",
       "  </tbody>\n",
       "</table>\n",
       "</div>"
      ],
      "text/plain": [
       "   Random Forest with    Recall  Precision  F1 Score    PR AUC   ROC_AUC\n",
       "0  SMOTE Oversampling  0.749223   0.917513  0.824872  0.688728  0.874435"
      ]
     },
     "execution_count": 192,
     "metadata": {},
     "output_type": "execute_result"
    }
   ],
   "source": [
    "ndf = [(smote_rf_Recall, smote_rf_Precision, smote_rf_f1, smote_rf_prauc, smote_rf_rocauc)]\n",
    "\n",
    "smote_rf_score = pd.DataFrame(data = ndf, columns=['Recall','Precision','F1 Score', 'PR AUC', 'ROC_AUC'])\n",
    "smote_rf_score.insert(0, 'Random Forest with', 'SMOTE Oversampling')\n",
    "smote_rf_score"
   ]
  },
  {
   "cell_type": "markdown",
   "metadata": {},
   "source": [
    "Recall: The model achieved a recall of 74.92%, indicating a good ability to identify actual positive cases (frauds). This suggests a reasonably effective performance in capturing fraudulent transactions.\n",
    "\n",
    "Precision: With a precision of 91.75%, the model demonstrates high accuracy in identifying true positive cases, resulting in a lower rate of false positives.\n",
    "\n",
    "F1 Score: The F1 Score, at 82.49%, signifies a balanced performance, effectively compromising between precision and recall. This indicates the model's ability to maintain a robust balance in fraud detection.\n",
    "\n",
    "PR AUC: The Precision-Recall AUC of 68.87% showcases the model's ability to balance precision and recall, especially in capturing positive instances. This is an improvement compared to the baseline.\n",
    "\n",
    "ROC AUC: The ROC AUC of 87.44% demonstrates the model's accuracy in distinguishing between positive and negative instances, reflecting robust discrimination. This is an improvement compared to the baseline."
   ]
  },
  {
   "cell_type": "markdown",
   "metadata": {},
   "source": [
    "**GridSearch for SMOTE**"
   ]
  },
  {
   "cell_type": "code",
   "execution_count": null,
   "metadata": {},
   "outputs": [],
   "source": [
    "new_params = {'randomforestclassifier__' + key: params[key] for key in params}\n",
    "smote2_rf = GridSearchCV(smote_pipeline, param_grid=new_params, cv=kf, scoring='f1',\n",
    "                        return_train_score=True)\n",
    "smote2_rf.fit(X_train_final, y_train)"
   ]
  },
  {
   "cell_type": "code",
   "execution_count": null,
   "metadata": {},
   "outputs": [
    {
     "name": "stdout",
     "output_type": "stream",
     "text": [
      "Best parameters: {'randomforestclassifier__max_depth': 12, 'randomforestclassifier__n_estimators': 200, 'randomforestclassifier__random_state': 13}\n",
      "Best score: 0.8752243571494269\n"
     ]
    }
   ],
   "source": [
    "print('Best parameters:', smote2_rf.best_params_)\n",
    "print('Best score:', smote2_rf.best_score_)"
   ]
  },
  {
   "cell_type": "code",
   "execution_count": 193,
   "metadata": {},
   "outputs": [],
   "source": [
    "# # Best parameters for SMOTE from your grid search\n",
    "# best_params_smote = {\n",
    "#     'max_depth': 12,\n",
    "#     'n_estimators': 200,\n",
    "#     'random_state': 13\n",
    "# }\n",
    "\n",
    "# # Create a RandomForestClassifier with the best parameters for SMOTE\n",
    "# best_rf_smote = RandomForestClassifier(**best_params_smote)\n",
    "\n",
    "# # Fit the classifier on your training data for SMOTE\n",
    "# best_rf_smote.fit(X_train_final, y_train)  # Assuming you have a SMOTE augmented training set\n",
    "\n",
    "# # Make predictions on your val set for SMOTE\n",
    "# y_pred_smote2 = best_rf_smote.predict(X_val_final)\n"
   ]
  },
  {
   "cell_type": "code",
   "execution_count": null,
   "metadata": {},
   "outputs": [],
   "source": [
    "y_pred_smote2 = smote2_rf.best_estimator_.named_steps['randomforestclassifier'].predict(X_val_final)"
   ]
  },
  {
   "cell_type": "code",
   "execution_count": 194,
   "metadata": {},
   "outputs": [
    {
     "name": "stdout",
     "output_type": "stream",
     "text": [
      "[[184265      9]\n",
      " [   546    419]]\n"
     ]
    }
   ],
   "source": [
    "cm = confusion_matrix(y_val, y_pred_smote2)\n",
    "\n",
    "smote2_rf_Recall = recall_score(y_val, y_pred_smote2)\n",
    "smote2_rf_Precision = precision_score(y_val, y_pred_smote2)\n",
    "smote2_rf_f1 = f1_score(y_val, y_pred_smote2)\n",
    "smote2_rf_accuracy = accuracy_score(y_val, y_pred_smote2)\n",
    "smote2_rf_rocauc = roc_auc_score(y_val, y_pred_smote2)\n",
    "smote2_rf_prauc = average_precision_score(y_val, y_pred_smote2)\n",
    "\n",
    "print(cm)"
   ]
  },
  {
   "cell_type": "code",
   "execution_count": 195,
   "metadata": {},
   "outputs": [
    {
     "data": {
      "text/html": [
       "<div>\n",
       "<style scoped>\n",
       "    .dataframe tbody tr th:only-of-type {\n",
       "        vertical-align: middle;\n",
       "    }\n",
       "\n",
       "    .dataframe tbody tr th {\n",
       "        vertical-align: top;\n",
       "    }\n",
       "\n",
       "    .dataframe thead th {\n",
       "        text-align: right;\n",
       "    }\n",
       "</style>\n",
       "<table border=\"1\" class=\"dataframe\">\n",
       "  <thead>\n",
       "    <tr style=\"text-align: right;\">\n",
       "      <th></th>\n",
       "      <th>Random Forest with</th>\n",
       "      <th>Recall</th>\n",
       "      <th>Precision</th>\n",
       "      <th>F1 Score</th>\n",
       "      <th>PR AUC</th>\n",
       "      <th>ROC_AUC</th>\n",
       "    </tr>\n",
       "  </thead>\n",
       "  <tbody>\n",
       "    <tr>\n",
       "      <th>0</th>\n",
       "      <td>SMOTE Oversampling using GridSearch</td>\n",
       "      <td>0.434197</td>\n",
       "      <td>0.978972</td>\n",
       "      <td>0.601579</td>\n",
       "      <td>0.428014</td>\n",
       "      <td>0.717074</td>\n",
       "    </tr>\n",
       "  </tbody>\n",
       "</table>\n",
       "</div>"
      ],
      "text/plain": [
       "                    Random Forest with    Recall  Precision  F1 Score  \\\n",
       "0  SMOTE Oversampling using GridSearch  0.434197   0.978972  0.601579   \n",
       "\n",
       "     PR AUC   ROC_AUC  \n",
       "0  0.428014  0.717074  "
      ]
     },
     "execution_count": 195,
     "metadata": {},
     "output_type": "execute_result"
    }
   ],
   "source": [
    "ndf = [(smote2_rf_Recall, smote2_rf_Precision, smote2_rf_f1, smote2_rf_prauc, smote2_rf_rocauc)]\n",
    "\n",
    "smote2_rf_score = pd.DataFrame(data = ndf, columns=['Recall','Precision','F1 Score', 'PR AUC', 'ROC_AUC'])\n",
    "smote2_rf_score.insert(0, 'Random Forest with', 'SMOTE Oversampling using GridSearch')\n",
    "smote2_rf_score"
   ]
  },
  {
   "cell_type": "markdown",
   "metadata": {},
   "source": [
    "Recall: The model achieved a recall of 43.42%, indicating a lower ability to identify actual positive cases (frauds) compared to some other scenarios. This suggests a trade-off between recall and precision.\n",
    "\n",
    "Precision: With a precision of 97.90%, the model demonstrates very high accuracy in identifying true positive cases, resulting in a lower rate of false positives.\n",
    "\n",
    "F1 Score: The F1 Score, at 60.16%, represents a compromise between precision and recall. It indicates a trade-off between identifying true positive cases and minimizing false positives.\n",
    "\n",
    "PR AUC: The Precision-Recall AUC of 42.80% suggests challenges in achieving a favorable balance between precision and recall, indicating potential areas for improvement.\n",
    "\n",
    "ROC AUC: The ROC AUC of 71.71% demonstrates the model's accuracy in distinguishing between positive and negative instances, reflecting some improvement compared to the baseline."
   ]
  },
  {
   "cell_type": "markdown",
   "metadata": {},
   "source": [
    "## Balanced Class Weights"
   ]
  },
  {
   "cell_type": "code",
   "execution_count": 196,
   "metadata": {},
   "outputs": [],
   "source": [
    "rfb = RandomForestClassifier(n_estimators=100, random_state=13, class_weight=\"balanced\")"
   ]
  },
  {
   "cell_type": "code",
   "execution_count": 54,
   "metadata": {},
   "outputs": [
    {
     "name": "stdout",
     "output_type": "stream",
     "text": [
      "Cross Validation Recall scores are: [0.62990377 0.64248705 0.60547742 0.65136936 0.62130178]\n",
      "Average Cross Validation Recall score: 0.6301078753848781\n"
     ]
    }
   ],
   "source": [
    "score5 = cross_val_score(rfb, X_train_final, y_train, cv=kf, scoring='recall')\n",
    "print(\"Cross Validation Recall scores are: {}\".format(score5))\n",
    "print(\"Average Cross Validation Recall score: {}\".format(score5.mean()))"
   ]
  },
  {
   "cell_type": "markdown",
   "metadata": {},
   "source": [
    " model correctly identifies about 63.01% of the actual positive instances in the training data across different folds."
   ]
  },
  {
   "cell_type": "code",
   "execution_count": 197,
   "metadata": {},
   "outputs": [
    {
     "data": {
      "text/html": [
       "<style>#sk-container-id-10 {color: black;}#sk-container-id-10 pre{padding: 0;}#sk-container-id-10 div.sk-toggleable {background-color: white;}#sk-container-id-10 label.sk-toggleable__label {cursor: pointer;display: block;width: 100%;margin-bottom: 0;padding: 0.3em;box-sizing: border-box;text-align: center;}#sk-container-id-10 label.sk-toggleable__label-arrow:before {content: \"▸\";float: left;margin-right: 0.25em;color: #696969;}#sk-container-id-10 label.sk-toggleable__label-arrow:hover:before {color: black;}#sk-container-id-10 div.sk-estimator:hover label.sk-toggleable__label-arrow:before {color: black;}#sk-container-id-10 div.sk-toggleable__content {max-height: 0;max-width: 0;overflow: hidden;text-align: left;background-color: #f0f8ff;}#sk-container-id-10 div.sk-toggleable__content pre {margin: 0.2em;color: black;border-radius: 0.25em;background-color: #f0f8ff;}#sk-container-id-10 input.sk-toggleable__control:checked~div.sk-toggleable__content {max-height: 200px;max-width: 100%;overflow: auto;}#sk-container-id-10 input.sk-toggleable__control:checked~label.sk-toggleable__label-arrow:before {content: \"▾\";}#sk-container-id-10 div.sk-estimator input.sk-toggleable__control:checked~label.sk-toggleable__label {background-color: #d4ebff;}#sk-container-id-10 div.sk-label input.sk-toggleable__control:checked~label.sk-toggleable__label {background-color: #d4ebff;}#sk-container-id-10 input.sk-hidden--visually {border: 0;clip: rect(1px 1px 1px 1px);clip: rect(1px, 1px, 1px, 1px);height: 1px;margin: -1px;overflow: hidden;padding: 0;position: absolute;width: 1px;}#sk-container-id-10 div.sk-estimator {font-family: monospace;background-color: #f0f8ff;border: 1px dotted black;border-radius: 0.25em;box-sizing: border-box;margin-bottom: 0.5em;}#sk-container-id-10 div.sk-estimator:hover {background-color: #d4ebff;}#sk-container-id-10 div.sk-parallel-item::after {content: \"\";width: 100%;border-bottom: 1px solid gray;flex-grow: 1;}#sk-container-id-10 div.sk-label:hover label.sk-toggleable__label {background-color: #d4ebff;}#sk-container-id-10 div.sk-serial::before {content: \"\";position: absolute;border-left: 1px solid gray;box-sizing: border-box;top: 0;bottom: 0;left: 50%;z-index: 0;}#sk-container-id-10 div.sk-serial {display: flex;flex-direction: column;align-items: center;background-color: white;padding-right: 0.2em;padding-left: 0.2em;position: relative;}#sk-container-id-10 div.sk-item {position: relative;z-index: 1;}#sk-container-id-10 div.sk-parallel {display: flex;align-items: stretch;justify-content: center;background-color: white;position: relative;}#sk-container-id-10 div.sk-item::before, #sk-container-id-10 div.sk-parallel-item::before {content: \"\";position: absolute;border-left: 1px solid gray;box-sizing: border-box;top: 0;bottom: 0;left: 50%;z-index: -1;}#sk-container-id-10 div.sk-parallel-item {display: flex;flex-direction: column;z-index: 1;position: relative;background-color: white;}#sk-container-id-10 div.sk-parallel-item:first-child::after {align-self: flex-end;width: 50%;}#sk-container-id-10 div.sk-parallel-item:last-child::after {align-self: flex-start;width: 50%;}#sk-container-id-10 div.sk-parallel-item:only-child::after {width: 0;}#sk-container-id-10 div.sk-dashed-wrapped {border: 1px dashed gray;margin: 0 0.4em 0.5em 0.4em;box-sizing: border-box;padding-bottom: 0.4em;background-color: white;}#sk-container-id-10 div.sk-label label {font-family: monospace;font-weight: bold;display: inline-block;line-height: 1.2em;}#sk-container-id-10 div.sk-label-container {text-align: center;}#sk-container-id-10 div.sk-container {/* jupyter's `normalize.less` sets `[hidden] { display: none; }` but bootstrap.min.css set `[hidden] { display: none !important; }` so we also need the `!important` here to be able to override the default hidden behavior on the sphinx rendered scikit-learn.org. See: https://github.com/scikit-learn/scikit-learn/issues/21755 */display: inline-block !important;position: relative;}#sk-container-id-10 div.sk-text-repr-fallback {display: none;}</style><div id=\"sk-container-id-10\" class=\"sk-top-container\"><div class=\"sk-text-repr-fallback\"><pre>RandomForestClassifier(class_weight=&#x27;balanced&#x27;, random_state=13)</pre><b>In a Jupyter environment, please rerun this cell to show the HTML representation or trust the notebook. <br />On GitHub, the HTML representation is unable to render, please try loading this page with nbviewer.org.</b></div><div class=\"sk-container\" hidden><div class=\"sk-item\"><div class=\"sk-estimator sk-toggleable\"><input class=\"sk-toggleable__control sk-hidden--visually\" id=\"sk-estimator-id-22\" type=\"checkbox\" checked><label for=\"sk-estimator-id-22\" class=\"sk-toggleable__label sk-toggleable__label-arrow\">RandomForestClassifier</label><div class=\"sk-toggleable__content\"><pre>RandomForestClassifier(class_weight=&#x27;balanced&#x27;, random_state=13)</pre></div></div></div></div></div>"
      ],
      "text/plain": [
       "RandomForestClassifier(class_weight='balanced', random_state=13)"
      ]
     },
     "execution_count": 197,
     "metadata": {},
     "output_type": "execute_result"
    }
   ],
   "source": [
    "rfb.fit(X_train_final, y_train)"
   ]
  },
  {
   "cell_type": "code",
   "execution_count": 198,
   "metadata": {},
   "outputs": [],
   "source": [
    "y_pred_balanced = rfb.predict(X_val_final)\n"
   ]
  },
  {
   "cell_type": "code",
   "execution_count": 199,
   "metadata": {},
   "outputs": [
    {
     "name": "stdout",
     "output_type": "stream",
     "text": [
      "[[184249     25]\n",
      " [   278    687]]\n"
     ]
    }
   ],
   "source": [
    "cm = confusion_matrix(y_val, y_pred_balanced)\n",
    "\n",
    "balaned_rf_Recall = recall_score(y_val, y_pred_balanced)\n",
    "balaned_rf_Precision = precision_score(y_val, y_pred_balanced)\n",
    "balaned_rf_f1 = f1_score(y_val, y_pred_balanced)\n",
    "balaned_rf_accuracy = accuracy_score(y_val, y_pred_balanced)\n",
    "balaned_rf_rocauc = roc_auc_score(y_val, y_pred_balanced)\n",
    "balanced_rf_prauc = average_precision_score(y_val, y_pred_balanced)\n",
    "\n",
    "print(cm)"
   ]
  },
  {
   "cell_type": "code",
   "execution_count": 200,
   "metadata": {},
   "outputs": [
    {
     "data": {
      "text/html": [
       "<div>\n",
       "<style scoped>\n",
       "    .dataframe tbody tr th:only-of-type {\n",
       "        vertical-align: middle;\n",
       "    }\n",
       "\n",
       "    .dataframe tbody tr th {\n",
       "        vertical-align: top;\n",
       "    }\n",
       "\n",
       "    .dataframe thead th {\n",
       "        text-align: right;\n",
       "    }\n",
       "</style>\n",
       "<table border=\"1\" class=\"dataframe\">\n",
       "  <thead>\n",
       "    <tr style=\"text-align: right;\">\n",
       "      <th></th>\n",
       "      <th>Random Forest with</th>\n",
       "      <th>Recall</th>\n",
       "      <th>Precision</th>\n",
       "      <th>F1 Score</th>\n",
       "      <th>PR AUC</th>\n",
       "      <th>ROC_AUC</th>\n",
       "    </tr>\n",
       "  </thead>\n",
       "  <tbody>\n",
       "    <tr>\n",
       "      <th>0</th>\n",
       "      <td>Balanced Class Weights</td>\n",
       "      <td>0.711917</td>\n",
       "      <td>0.964888</td>\n",
       "      <td>0.81932</td>\n",
       "      <td>0.688421</td>\n",
       "      <td>0.855891</td>\n",
       "    </tr>\n",
       "  </tbody>\n",
       "</table>\n",
       "</div>"
      ],
      "text/plain": [
       "       Random Forest with    Recall  Precision  F1 Score    PR AUC   ROC_AUC\n",
       "0  Balanced Class Weights  0.711917   0.964888   0.81932  0.688421  0.855891"
      ]
     },
     "execution_count": 200,
     "metadata": {},
     "output_type": "execute_result"
    }
   ],
   "source": [
    "ndf = [(balaned_rf_Recall, balaned_rf_Precision, balaned_rf_f1, balanced_rf_prauc, balaned_rf_rocauc)]\n",
    "\n",
    "balanced_rf_score = pd.DataFrame(data = ndf, columns=['Recall','Precision','F1 Score', 'PR AUC', 'ROC_AUC'])\n",
    "balanced_rf_score.insert(0, 'Random Forest with', 'Balanced Class Weights')\n",
    "balanced_rf_score"
   ]
  },
  {
   "cell_type": "markdown",
   "metadata": {},
   "source": [
    "Recall: The model achieved a recall of 71.19%, indicating a good ability to identify actual positive cases (frauds). This suggests a reasonably effective performance in capturing fraudulent transactions.\n",
    "\n",
    "Precision: With a precision of 96.49%, the model demonstrates high accuracy in identifying true positive cases, resulting in a lower rate of false positives.\n",
    "\n",
    "F1 Score: The F1 Score, at 81.93%, signifies a balanced performance, effectively compromising between precision and recall. This indicates the model's ability to maintain a robust balance in fraud detection.\n",
    "\n",
    "PR AUC: The Precision-Recall AUC of 68.84% showcases the model's ability to balance precision and recall, especially in capturing positive instances. This is an improvement compared to the baseline.\n",
    "\n",
    "ROC AUC: The ROC AUC of 85.59% demonstrates the model's accuracy in distinguishing between positive and negative instances, reflecting robust discrimination. This is an improvement compared to the baseline."
   ]
  },
  {
   "cell_type": "markdown",
   "metadata": {},
   "source": [
    "**GridSearch for Balanced Class Weights**"
   ]
  },
  {
   "cell_type": "code",
   "execution_count": 201,
   "metadata": {},
   "outputs": [],
   "source": [
    "balanced_rf_pipeline = Pipeline([\n",
    "    ('randomforestclassifier', RandomForestClassifier(random_state=13, class_weight=\"balanced\"))\n",
    "])"
   ]
  },
  {
   "cell_type": "code",
   "execution_count": null,
   "metadata": {},
   "outputs": [
    {
     "name": "stdout",
     "output_type": "stream",
     "text": [
      "Best Parameters: {'randomforestclassifier__max_depth': 12, 'randomforestclassifier__n_estimators': 200, 'randomforestclassifier__random_state': 13}\n"
     ]
    }
   ],
   "source": [
    "new_params = {'randomforestclassifier__' + key: params[key] for key in params}\n",
    "# Set up GridSearchCV\n",
    "grid_search = GridSearchCV(estimator=balanced_rf_pipeline, param_grid=new_params, cv=3, scoring='f1')\n",
    "\n",
    "# Fit the model\n",
    "grid_search.fit(X_train_final, y_train)\n",
    "\n",
    "# Print the best parameters\n",
    "print(\"Best Parameters:\", grid_search.best_params_)\n",
    "\n",
    "# Get the best model\n",
    "best_balanced_rf_model = grid_search.best_estimator_\n",
    "\n",
    "# You can use the best model for predictions on your test data\n",
    "y_pred_balanced2 = best_balanced_rf_model.predict(X_val_final)"
   ]
  },
  {
   "cell_type": "code",
   "execution_count": 202,
   "metadata": {},
   "outputs": [],
   "source": [
    "# # Best parameters for Balanced Class Weights from your grid search\n",
    "# best_params_balanced = {\n",
    "#     'max_depth': 12,\n",
    "#     'n_estimators': 200,\n",
    "#     'random_state': 13\n",
    "# }\n",
    "\n",
    "# # Create a RandomForestClassifier with the best parameters for SMOTE\n",
    "# best_rf_balanced = RandomForestClassifier(**best_params_balanced)\n",
    "\n",
    "# # Fit the classifier on your training data for SMOTE\n",
    "# best_rf_balanced.fit(X_train_final, y_train)  # Assuming you have a SMOTE augmented training set\n",
    "\n",
    "# # Make predictions on your test set for SMOTE\n",
    "# y_pred_balanced2 = best_rf_balanced.predict(X_val_final)"
   ]
  },
  {
   "cell_type": "code",
   "execution_count": 203,
   "metadata": {},
   "outputs": [
    {
     "name": "stdout",
     "output_type": "stream",
     "text": [
      "[[184265      9]\n",
      " [   546    419]]\n"
     ]
    }
   ],
   "source": [
    "cm = confusion_matrix(y_val, y_pred_balanced2)\n",
    "\n",
    "balanced2_Recall = recall_score(y_val, y_pred_balanced2)\n",
    "balanced2_Precision = precision_score(y_val, y_pred_balanced2)\n",
    "balanced2_f1 = f1_score(y_val, y_pred_balanced2)\n",
    "balanced2_accuracy = accuracy_score(y_val, y_pred_balanced2)\n",
    "balanced2_roc = roc_auc_score(y_val, y_pred_balanced2)\n",
    "balanced2_rf_prauc = average_precision_score(y_val, y_pred_balanced2)\n",
    "\n",
    "print(cm)"
   ]
  },
  {
   "cell_type": "code",
   "execution_count": 204,
   "metadata": {},
   "outputs": [
    {
     "data": {
      "text/html": [
       "<div>\n",
       "<style scoped>\n",
       "    .dataframe tbody tr th:only-of-type {\n",
       "        vertical-align: middle;\n",
       "    }\n",
       "\n",
       "    .dataframe tbody tr th {\n",
       "        vertical-align: top;\n",
       "    }\n",
       "\n",
       "    .dataframe thead th {\n",
       "        text-align: right;\n",
       "    }\n",
       "</style>\n",
       "<table border=\"1\" class=\"dataframe\">\n",
       "  <thead>\n",
       "    <tr style=\"text-align: right;\">\n",
       "      <th></th>\n",
       "      <th>Random Forest with</th>\n",
       "      <th>Recall</th>\n",
       "      <th>Precision</th>\n",
       "      <th>F1 Score</th>\n",
       "      <th>PR AUC</th>\n",
       "      <th>ROC_AUC</th>\n",
       "    </tr>\n",
       "  </thead>\n",
       "  <tbody>\n",
       "    <tr>\n",
       "      <th>0</th>\n",
       "      <td>Balanced Class Weights using GridSearch</td>\n",
       "      <td>0.434197</td>\n",
       "      <td>0.978972</td>\n",
       "      <td>0.601579</td>\n",
       "      <td>0.428014</td>\n",
       "      <td>0.717074</td>\n",
       "    </tr>\n",
       "  </tbody>\n",
       "</table>\n",
       "</div>"
      ],
      "text/plain": [
       "                        Random Forest with    Recall  Precision  F1 Score  \\\n",
       "0  Balanced Class Weights using GridSearch  0.434197   0.978972  0.601579   \n",
       "\n",
       "     PR AUC   ROC_AUC  \n",
       "0  0.428014  0.717074  "
      ]
     },
     "execution_count": 204,
     "metadata": {},
     "output_type": "execute_result"
    }
   ],
   "source": [
    "ndf = [(balanced2_Recall, balanced2_Precision, balanced2_f1, balanced2_rf_prauc, balanced2_roc)]\n",
    "\n",
    "balanced2_rf_score = pd.DataFrame(data = ndf, columns=['Recall','Precision','F1 Score', 'PR AUC', 'ROC_AUC'])\n",
    "balanced2_rf_score.insert(0, 'Random Forest with', 'Balanced Class Weights using GridSearch')\n",
    "balanced2_rf_score"
   ]
  },
  {
   "cell_type": "markdown",
   "metadata": {},
   "source": [
    "Recall: The model achieved a recall of 43.42%, indicating a lower ability to identify actual positive cases (frauds) compared to some other scenarios. This suggests a trade-off between recall and precision.\n",
    "\n",
    "Precision: With a precision of 97.90%, the model demonstrates very high accuracy in identifying true positive cases, resulting in a lower rate of false positives.\n",
    "\n",
    "F1 Score: The F1 Score, at 60.16%, represents a compromise between precision and recall. It indicates a trade-off between identifying true positive cases and minimizing false positives.\n",
    "\n",
    "PR AUC: The Precision-Recall AUC of 42.80% suggests challenges in achieving a favorable balance between precision and recall, indicating potential areas for improvement.\n",
    "\n",
    "ROC AUC: The ROC AUC of 71.71% demonstrates the model's accuracy in distinguishing between positive and negative instances, reflecting some improvement compared to the baseline."
   ]
  },
  {
   "cell_type": "markdown",
   "metadata": {},
   "source": [
    "## Feature Importance"
   ]
  },
  {
   "cell_type": "code",
   "execution_count": 205,
   "metadata": {},
   "outputs": [],
   "source": [
    "def plot_feature_importance(ax, model, X, top_n=4):\n",
    "    feature_importance = model.feature_importances_\n",
    "    indices = np.argsort(feature_importance)[::-1]\n",
    "    top_features = X.columns[indices[:top_n]]\n",
    "\n",
    "    ax.barh(range(top_n), feature_importance[indices[:top_n]], align=\"center\")\n",
    "    ax.set_yticks(range(top_n))\n",
    "    ax.set_yticklabels(top_features)\n",
    "    ax.set_ylabel(\"Feature\")\n",
    "    ax.set_xlabel(\"Importance\")\n",
    "    ax.set_title(f\"Top {top_n} Feature Importance in {model.__class__.__name__} Model\")\n",
    "\n",
    "\n"
   ]
  },
  {
   "cell_type": "code",
   "execution_count": 206,
   "metadata": {},
   "outputs": [
    {
     "data": {
      "image/png": "[encoded data removed]",
      "text/plain": [
       "<Figure size 1440x432 with 5 Axes>"
      ]
     },
     "metadata": {
      "needs_background": "light"
     },
     "output_type": "display_data"
    }
   ],
   "source": [
    "rf_model_with_oversampling = random_overs_pipeline.named_steps['randomforestclassifier']\n",
    "rf_random_undersampling = random_unders_pipeline.named_steps['randomforestclassifier']\n",
    "rf_smote = smote_pipeline.named_steps['randomforestclassifier']\n",
    "\n",
    "# Plot feature importance for all models side by side\n",
    "fig, axes = plt.subplots(1, 5, figsize=(20, 6))\n",
    "\n",
    "# Plot for the baseline RF model\n",
    "plot_feature_importance(axes[0], baseline_rf, X_train_final)\n",
    "axes[0].set_title(\"Baseline RF\")\n",
    "\n",
    "# Plot for the RF with random oversampling model\n",
    "plot_feature_importance(axes[1], rf_model_with_oversampling, X_train_final)\n",
    "axes[1].set_title(\"RF with Random Oversampling\")\n",
    "\n",
    "# Plot for the RF with random undersampling model\n",
    "plot_feature_importance(axes[2], rf_random_undersampling, X_train_final)\n",
    "axes[2].set_title(\"RF with Random Undersampling\")\n",
    "\n",
    "# Plot for the RF with SMOTE model\n",
    "plot_feature_importance(axes[3], rf_smote, X_train_final)\n",
    "axes[3].set_title(\"RF with SMOTE\")\n",
    "\n",
    "# Plot for the RF with balanced class weights model\n",
    "plot_feature_importance(axes[4], rfb, X_train_final)\n",
    "axes[4].set_title(\"RF with Balanced Class Weights\")\n",
    "\n",
    "plt.tight_layout()\n",
    "plt.show()\n"
   ]
  },
  {
   "cell_type": "markdown",
   "metadata": {},
   "source": [
    "We can see the amount (usd) is an important factor across all models, and hour_of_day and distance are also quite common albeit to a smaller extent compared to amount (usd)."
   ]
  },
  {
   "cell_type": "markdown",
   "metadata": {},
   "source": [
    "## Performance Comparison"
   ]
  },
  {
   "cell_type": "code",
   "execution_count": 208,
   "metadata": {},
   "outputs": [
    {
     "data": {
      "text/html": [
       "<div>\n",
       "<style scoped>\n",
       "    .dataframe tbody tr th:only-of-type {\n",
       "        vertical-align: middle;\n",
       "    }\n",
       "\n",
       "    .dataframe tbody tr th {\n",
       "        vertical-align: top;\n",
       "    }\n",
       "\n",
       "    .dataframe thead th {\n",
       "        text-align: right;\n",
       "    }\n",
       "</style>\n",
       "<table border=\"1\" class=\"dataframe\">\n",
       "  <thead>\n",
       "    <tr style=\"text-align: right;\">\n",
       "      <th></th>\n",
       "      <th>Random Forest with</th>\n",
       "      <th>Recall</th>\n",
       "      <th>Precision</th>\n",
       "      <th>F1 Score</th>\n",
       "      <th>PR AUC</th>\n",
       "      <th>ROC_AUC</th>\n",
       "    </tr>\n",
       "  </thead>\n",
       "  <tbody>\n",
       "    <tr>\n",
       "      <th>8</th>\n",
       "      <td>Random Oversampling</td>\n",
       "      <td>0.755440</td>\n",
       "      <td>0.937018</td>\n",
       "      <td>0.836489</td>\n",
       "      <td>0.709135</td>\n",
       "      <td>0.877587</td>\n",
       "    </tr>\n",
       "    <tr>\n",
       "      <th>7</th>\n",
       "      <td>SMOTE Oversampling</td>\n",
       "      <td>0.749223</td>\n",
       "      <td>0.917513</td>\n",
       "      <td>0.824872</td>\n",
       "      <td>0.688728</td>\n",
       "      <td>0.874435</td>\n",
       "    </tr>\n",
       "    <tr>\n",
       "      <th>5</th>\n",
       "      <td>Balanced Class Weights</td>\n",
       "      <td>0.711917</td>\n",
       "      <td>0.964888</td>\n",
       "      <td>0.819320</td>\n",
       "      <td>0.688421</td>\n",
       "      <td>0.855891</td>\n",
       "    </tr>\n",
       "    <tr>\n",
       "      <th>0</th>\n",
       "      <td>No Under/Oversampling</td>\n",
       "      <td>0.706736</td>\n",
       "      <td>0.963277</td>\n",
       "      <td>0.815302</td>\n",
       "      <td>0.682310</td>\n",
       "      <td>0.853297</td>\n",
       "    </tr>\n",
       "    <tr>\n",
       "      <th>2</th>\n",
       "      <td>SMOTE Oversampling using GridSearch</td>\n",
       "      <td>0.434197</td>\n",
       "      <td>0.978972</td>\n",
       "      <td>0.601579</td>\n",
       "      <td>0.428014</td>\n",
       "      <td>0.717074</td>\n",
       "    </tr>\n",
       "    <tr>\n",
       "      <th>4</th>\n",
       "      <td>Balanced Class Weights using GridSearch</td>\n",
       "      <td>0.434197</td>\n",
       "      <td>0.978972</td>\n",
       "      <td>0.601579</td>\n",
       "      <td>0.428014</td>\n",
       "      <td>0.717074</td>\n",
       "    </tr>\n",
       "    <tr>\n",
       "      <th>3</th>\n",
       "      <td>Random Oversampling using GridSearch</td>\n",
       "      <td>0.939896</td>\n",
       "      <td>0.197603</td>\n",
       "      <td>0.326553</td>\n",
       "      <td>0.186040</td>\n",
       "      <td>0.959955</td>\n",
       "    </tr>\n",
       "    <tr>\n",
       "      <th>6</th>\n",
       "      <td>Random Undersampling</td>\n",
       "      <td>0.964767</td>\n",
       "      <td>0.168415</td>\n",
       "      <td>0.286770</td>\n",
       "      <td>0.162665</td>\n",
       "      <td>0.969910</td>\n",
       "    </tr>\n",
       "    <tr>\n",
       "      <th>1</th>\n",
       "      <td>Random undersampling using GridSearch</td>\n",
       "      <td>0.949223</td>\n",
       "      <td>0.142060</td>\n",
       "      <td>0.247133</td>\n",
       "      <td>0.135111</td>\n",
       "      <td>0.959601</td>\n",
       "    </tr>\n",
       "  </tbody>\n",
       "</table>\n",
       "</div>"
      ],
      "text/plain": [
       "                        Random Forest with    Recall  Precision  F1 Score  \\\n",
       "8                      Random Oversampling  0.755440   0.937018  0.836489   \n",
       "7                       SMOTE Oversampling  0.749223   0.917513  0.824872   \n",
       "5                   Balanced Class Weights  0.711917   0.964888  0.819320   \n",
       "0                    No Under/Oversampling  0.706736   0.963277  0.815302   \n",
       "2      SMOTE Oversampling using GridSearch  0.434197   0.978972  0.601579   \n",
       "4  Balanced Class Weights using GridSearch  0.434197   0.978972  0.601579   \n",
       "3     Random Oversampling using GridSearch  0.939896   0.197603  0.326553   \n",
       "6                     Random Undersampling  0.964767   0.168415  0.286770   \n",
       "1    Random undersampling using GridSearch  0.949223   0.142060  0.247133   \n",
       "\n",
       "     PR AUC   ROC_AUC  \n",
       "8  0.709135  0.877587  \n",
       "7  0.688728  0.874435  \n",
       "5  0.688421  0.855891  \n",
       "0  0.682310  0.853297  \n",
       "2  0.428014  0.717074  \n",
       "4  0.428014  0.717074  \n",
       "3  0.186040  0.959955  \n",
       "6  0.162665  0.969910  \n",
       "1  0.135111  0.959601  "
      ]
     },
     "execution_count": 208,
     "metadata": {},
     "output_type": "execute_result"
    }
   ],
   "source": [
    "predictions = pd.concat([rf_score, under2_rf_score, smote2_rf_score, over2_rf_score, balanced2_rf_score, balanced_rf_score, under_rf_score, smote_rf_score, over_rf_score], ignore_index=True, sort=False)\n",
    "predictions.sort_values(by=['F1 Score'], ascending=False)"
   ]
  },
  {
   "cell_type": "markdown",
   "metadata": {},
   "source": [
    "From the results above, we can see that random oversampling performed slightly better than the base model looking at the scores."
   ]
  },
  {
   "cell_type": "markdown",
   "metadata": {},
   "source": [
    "## Evaluate Model on Test Set"
   ]
  },
  {
   "cell_type": "code",
   "execution_count": 209,
   "metadata": {},
   "outputs": [],
   "source": [
    "random_overs_pipeline = make_pipeline(RandomOverSampler(random_state=42), \n",
    "                              RandomForestClassifier(n_estimators=100, random_state=13))\n",
    "#cross_val_score(random_overs_pipeline, X_train, y_train, scoring='recall', cv=kf)"
   ]
  },
  {
   "cell_type": "code",
   "execution_count": 210,
   "metadata": {},
   "outputs": [],
   "source": [
    "random_overs_pipeline.fit(X_over, y_over)\n",
    "\n",
    "y_pred_best = random_overs_pipeline.predict(X_test_final)"
   ]
  },
  {
   "cell_type": "code",
   "execution_count": 211,
   "metadata": {},
   "outputs": [
    {
     "name": "stdout",
     "output_type": "stream",
     "text": [
      "[[184212     63]\n",
      " [   205    760]]\n"
     ]
    }
   ],
   "source": [
    "cm = confusion_matrix(y_test, y_pred_best)\n",
    "\n",
    "best_rf_Recall = recall_score(y_test, y_pred_best)\n",
    "best_rf_Precision = precision_score(y_test, y_pred_best)\n",
    "best_rf_f1 = f1_score(y_test, y_pred_best)\n",
    "best_rf_accuracy = accuracy_score(y_test, y_pred_best)\n",
    "best_roc = roc_auc_score(y_test, y_pred_best)\n",
    "best_prauc = average_precision_score(y_test, y_pred_best)\n",
    "\n",
    "print(cm)\n"
   ]
  },
  {
   "cell_type": "code",
   "execution_count": 212,
   "metadata": {},
   "outputs": [
    {
     "data": {
      "text/html": [
       "<div>\n",
       "<style scoped>\n",
       "    .dataframe tbody tr th:only-of-type {\n",
       "        vertical-align: middle;\n",
       "    }\n",
       "\n",
       "    .dataframe tbody tr th {\n",
       "        vertical-align: top;\n",
       "    }\n",
       "\n",
       "    .dataframe thead th {\n",
       "        text-align: right;\n",
       "    }\n",
       "</style>\n",
       "<table border=\"1\" class=\"dataframe\">\n",
       "  <thead>\n",
       "    <tr style=\"text-align: right;\">\n",
       "      <th></th>\n",
       "      <th>Random Forest with</th>\n",
       "      <th>Recall</th>\n",
       "      <th>Precision</th>\n",
       "      <th>F1 Score</th>\n",
       "      <th>PR AUC</th>\n",
       "      <th>ROC_AUC</th>\n",
       "    </tr>\n",
       "  </thead>\n",
       "  <tbody>\n",
       "    <tr>\n",
       "      <th>0</th>\n",
       "      <td>Random Oversampling (Best)</td>\n",
       "      <td>0.787565</td>\n",
       "      <td>0.923451</td>\n",
       "      <td>0.850112</td>\n",
       "      <td>0.728384</td>\n",
       "      <td>0.893611</td>\n",
       "    </tr>\n",
       "  </tbody>\n",
       "</table>\n",
       "</div>"
      ],
      "text/plain": [
       "           Random Forest with    Recall  Precision  F1 Score    PR AUC  \\\n",
       "0  Random Oversampling (Best)  0.787565   0.923451  0.850112  0.728384   \n",
       "\n",
       "    ROC_AUC  \n",
       "0  0.893611  "
      ]
     },
     "execution_count": 212,
     "metadata": {},
     "output_type": "execute_result"
    }
   ],
   "source": [
    "ndf = [(best_rf_Recall, best_rf_Precision, best_rf_f1, best_prauc, best_roc)]\n",
    "\n",
    "best_rf_score = pd.DataFrame(data = ndf, columns=['Recall','Precision','F1 Score', 'PR AUC', 'ROC_AUC'])\n",
    "best_rf_score.insert(0, 'Random Forest with', 'Random Oversampling (Best)')\n",
    "best_rf_score"
   ]
  }
 ],
 "metadata": {
  "kernelspec": {
   "display_name": "Python 3",
   "language": "python",
   "name": "python3"
  },
  "language_info": {
   "codemirror_mode": {
    "name": "ipython",
    "version": 3
   },
   "file_extension": ".py",
   "mimetype": "text/x-python",
   "name": "python",
   "nbconvert_exporter": "python",
   "pygments_lexer": "ipython3",
   "version": "3.8.9"
  }
 },
 "nbformat": 4,
 "nbformat_minor": 2
}
