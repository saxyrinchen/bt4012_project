{
 "cells": [
  {
   "cell_type": "markdown",
   "metadata": {},
   "source": [
    "#### Necessary Libraries"
   ]
  },
  {
   "cell_type": "code",
   "execution_count": 1,
   "metadata": {},
   "outputs": [],
   "source": [
    "import warnings\n",
    "warnings.filterwarnings(\"ignore\")\n",
    "\n",
    "import pandas as pd\n",
    "import numpy as np\n",
    "import matplotlib.pyplot as plt\n",
    "import matplotlib.cm as cm\n",
    "from random import seed,sample\n",
    "import datetime as dt\n",
    "from datetime import datetime\n",
    "import seaborn as sns\n",
    "\n",
    "import scipy.stats as stats\n",
    "\n",
    "from sklearn.model_selection import train_test_split, GridSearchCV\n",
    "\n",
    "# pipeline\n",
    "from sklearn.pipeline import Pipeline\n",
    "from sklearn.impute import SimpleImputer\n",
    "\n",
    "# feature scaling & OHE\n",
    "from sklearn.compose import ColumnTransformer\n",
    "from sklearn.preprocessing import StandardScaler, OneHotEncoder, MinMaxScaler # data encoders\n",
    "\n",
    "# moodels \n",
    "from sklearn.linear_model import LogisticRegression\n",
    "from sklearn.ensemble import RandomForestClassifier\n",
    "\n",
    "# evaluation metrics\n",
    "from sklearn.metrics import accuracy_score, precision_score, recall_score, f1_score, roc_curve, auc, roc_auc_score, confusion_matrix, classification_report, average_precision_score, precision_recall_curve\n",
    "\n",
    "# resampling techniques for imbalanced data\n",
    "from imblearn.under_sampling import RandomUnderSampler\n",
    "from imblearn.over_sampling import SMOTE #\n",
    "from imblearn.pipeline import Pipeline as ImbPipeline\n",
    "from imblearn.combine import SMOTETomek\n",
    "\n",
    "# formatting \n",
    "%matplotlib inline\n",
    "pd.set_option('display.max_columns', 500)"
   ]
  },
  {
   "cell_type": "markdown",
   "metadata": {},
   "source": [
    "#### Reading Data \n",
    "- Training Datasets: X_train, y_train\n",
    "- Validation Datasets: X_val, y_val\n",
    "\n",
    "*Note: they are in a folder one level higher than current folder*"
   ]
  },
  {
   "cell_type": "code",
   "execution_count": 2,
   "metadata": {},
   "outputs": [],
   "source": [
    "X_train = pd.read_csv('../X_train.csv')\n",
    "X_val = pd.read_csv('../X_val.csv')\n",
    "y_train = pd.read_csv('../y_train.csv')\n",
    "y_val = pd.read_csv('../y_val.csv')\n",
    "\n",
    "# test set only for one-time assessment of final model\n",
    "X_test = pd.read_csv('../X_test.csv')\n",
    "y_test = pd.read_csv('../y_test.csv')"
   ]
  },
  {
   "cell_type": "code",
   "execution_count": 3,
   "metadata": {},
   "outputs": [
    {
     "data": {
      "text/html": [
       "<div>\n",
       "<style scoped>\n",
       "    .dataframe tbody tr th:only-of-type {\n",
       "        vertical-align: middle;\n",
       "    }\n",
       "\n",
       "    .dataframe tbody tr th {\n",
       "        vertical-align: top;\n",
       "    }\n",
       "\n",
       "    .dataframe thead th {\n",
       "        text-align: right;\n",
       "    }\n",
       "</style>\n",
       "<table border=\"1\" class=\"dataframe\">\n",
       "  <thead>\n",
       "    <tr style=\"text-align: right;\">\n",
       "      <th></th>\n",
       "      <th>hour_of_day</th>\n",
       "      <th>day_of_week</th>\n",
       "      <th>category</th>\n",
       "      <th>merch_lat</th>\n",
       "      <th>merch_long</th>\n",
       "      <th>gender</th>\n",
       "      <th>age</th>\n",
       "      <th>state</th>\n",
       "      <th>lat</th>\n",
       "      <th>long</th>\n",
       "      <th>job_category</th>\n",
       "      <th>amount(usd)</th>\n",
       "    </tr>\n",
       "  </thead>\n",
       "  <tbody>\n",
       "    <tr>\n",
       "      <th>0</th>\n",
       "      <td>15</td>\n",
       "      <td>Monday</td>\n",
       "      <td>kids_pets</td>\n",
       "      <td>40.443492</td>\n",
       "      <td>-73.439422</td>\n",
       "      <td>F</td>\n",
       "      <td>21</td>\n",
       "      <td>NY</td>\n",
       "      <td>40.6816</td>\n",
       "      <td>-73.9798</td>\n",
       "      <td>C2</td>\n",
       "      <td>75.72</td>\n",
       "    </tr>\n",
       "    <tr>\n",
       "      <th>1</th>\n",
       "      <td>10</td>\n",
       "      <td>Tuesday</td>\n",
       "      <td>gas_transport</td>\n",
       "      <td>33.672410</td>\n",
       "      <td>-117.663817</td>\n",
       "      <td>F</td>\n",
       "      <td>60</td>\n",
       "      <td>CA</td>\n",
       "      <td>34.0443</td>\n",
       "      <td>-118.2509</td>\n",
       "      <td>C2</td>\n",
       "      <td>79.74</td>\n",
       "    </tr>\n",
       "    <tr>\n",
       "      <th>2</th>\n",
       "      <td>20</td>\n",
       "      <td>Monday</td>\n",
       "      <td>home</td>\n",
       "      <td>45.469725</td>\n",
       "      <td>-109.723735</td>\n",
       "      <td>M</td>\n",
       "      <td>42</td>\n",
       "      <td>MT</td>\n",
       "      <td>45.2857</td>\n",
       "      <td>-108.9082</td>\n",
       "      <td>C4</td>\n",
       "      <td>74.92</td>\n",
       "    </tr>\n",
       "    <tr>\n",
       "      <th>3</th>\n",
       "      <td>0</td>\n",
       "      <td>Saturday</td>\n",
       "      <td>gas_transport</td>\n",
       "      <td>40.528089</td>\n",
       "      <td>-87.904092</td>\n",
       "      <td>F</td>\n",
       "      <td>16</td>\n",
       "      <td>IL</td>\n",
       "      <td>41.0646</td>\n",
       "      <td>-87.5917</td>\n",
       "      <td>C2</td>\n",
       "      <td>44.30</td>\n",
       "    </tr>\n",
       "    <tr>\n",
       "      <th>4</th>\n",
       "      <td>18</td>\n",
       "      <td>Saturday</td>\n",
       "      <td>home</td>\n",
       "      <td>39.564020</td>\n",
       "      <td>-79.624007</td>\n",
       "      <td>M</td>\n",
       "      <td>60</td>\n",
       "      <td>MD</td>\n",
       "      <td>39.6967</td>\n",
       "      <td>-78.8031</td>\n",
       "      <td>C2</td>\n",
       "      <td>28.02</td>\n",
       "    </tr>\n",
       "  </tbody>\n",
       "</table>\n",
       "</div>"
      ],
      "text/plain": [
       "   hour_of_day day_of_week       category  merch_lat  merch_long gender  age  \\\n",
       "0           15      Monday      kids_pets  40.443492  -73.439422      F   21   \n",
       "1           10     Tuesday  gas_transport  33.672410 -117.663817      F   60   \n",
       "2           20      Monday           home  45.469725 -109.723735      M   42   \n",
       "3            0    Saturday  gas_transport  40.528089  -87.904092      F   16   \n",
       "4           18    Saturday           home  39.564020  -79.624007      M   60   \n",
       "\n",
       "  state      lat      long job_category  amount(usd)  \n",
       "0    NY  40.6816  -73.9798           C2        75.72  \n",
       "1    CA  34.0443 -118.2509           C2        79.74  \n",
       "2    MT  45.2857 -108.9082           C4        74.92  \n",
       "3    IL  41.0646  -87.5917           C2        44.30  \n",
       "4    MD  39.6967  -78.8031           C2        28.02  "
      ]
     },
     "execution_count": 3,
     "metadata": {},
     "output_type": "execute_result"
    }
   ],
   "source": [
    "X_train.head()"
   ]
  },
  {
   "cell_type": "code",
   "execution_count": 4,
   "metadata": {},
   "outputs": [
    {
     "name": "stdout",
     "output_type": "stream",
     "text": [
      "X_train's Shape: (1481915, 12)\n",
      "X_val's Shape: (185239, 12)\n",
      "X_test's Shape: (185240, 12)\n"
     ]
    }
   ],
   "source": [
    "print(\"X_train's Shape:\",X_train.shape)\n",
    "print(\"X_val's Shape:\",X_val.shape)\n",
    "print(\"X_test's Shape:\",X_test.shape)"
   ]
  },
  {
   "cell_type": "markdown",
   "metadata": {},
   "source": [
    "#### Local Preprocessing\n",
    "\n",
    "Creating a **Pipeline*** for the following preprocessing steps:\n",
    "- Feature Scaling for Numerical Features\n",
    "- One-Hot Encoding for Categorical Features\n",
    "\n",
    "****Pipeline()** helps to streamline processes especially since we are refining our models using different techniques like under/oversampling, hyperparameter tuning, etc.*"
   ]
  },
  {
   "cell_type": "code",
   "execution_count": 5,
   "metadata": {},
   "outputs": [],
   "source": [
    "# numerical features - StandardScaler()\n",
    "numerical_cols = ['hour_of_day', 'merch_lat', 'merch_long', 'age', 'lat', 'long', 'amount(usd)']\n",
    "numeric_transformer = Pipeline(steps=[\n",
    "    ('imputer', SimpleImputer(strategy='median')),\n",
    "    ('scaler', StandardScaler())])\n",
    "\n",
    "\n",
    "\n",
    "\n",
    "# categorical features - OneHotEncoder()\n",
    "categorical_cols = ['day_of_week', 'category', 'gender', 'state', 'job_category']\n",
    "categorical_transformer = Pipeline(steps=[\n",
    "    ('imputer', SimpleImputer(strategy='constant', fill_value='missing')),\n",
    "    ('onehot', OneHotEncoder(handle_unknown='ignore'))])\n",
    "\n",
    "# combining preprocessing pipelines for numeric and categorical features\n",
    "preprocessor = ColumnTransformer(\n",
    "    transformers=[\n",
    "        ('num', numeric_transformer, numerical_cols),\n",
    "        ('cat', categorical_transformer, categorical_cols)])"
   ]
  },
  {
   "cell_type": "markdown",
   "metadata": {},
   "source": [
    "#### Helper Functions for Evaluating Model Performance \n",
    "a. Evaluate Model using Recall, Precision, F1, Accuracy, ROC AUC, PR AUC\n",
    "\n",
    "b. Confusion Matrix showing TP,FP,TN,FN"
   ]
  },
  {
   "cell_type": "code",
   "execution_count": 6,
   "metadata": {},
   "outputs": [],
   "source": [
    "def evaluate_model(y_true, y_pred, y_pred_prob, model_name):\n",
    "    metrics = {\n",
    "        'Recall':recall_score(y_true, y_pred),\n",
    "        'Precision':precision_score(y_true, y_pred),\n",
    "        'Weighted F1 Score':f1_score(y_true, y_pred, average='weighted'),\n",
    "        'Accuracy': accuracy_score(y_true, y_pred),\n",
    "        'ROC AUC': roc_auc_score(y_true, y_pred_prob),\n",
    "        'PR AUC': average_precision_score(y_true, y_pred_prob) # precision-recall AUC\n",
    "}\n",
    "\n",
    "    metrics_df = pd.DataFrame([metrics], index =[model_name])\n",
    "    return metrics_df\n",
    "\n",
    "def plot_confusion_matrix(y_true, y_pred, model_name):\n",
    "    cm = confusion_matrix(y_true, y_pred)\n",
    "    fig, ax = plt.subplots(figsize=(6, 6))\n",
    "    sns.heatmap(cm, annot=True, fmt='d', cmap='Blues', ax=ax)\n",
    "    ax.set_xlabel('Predicted labels')\n",
    "    ax.set_ylabel('True labels')\n",
    "    ax.set_title(model_name)\n",
    "    plt.show()"
   ]
  },
  {
   "cell_type": "markdown",
   "metadata": {},
   "source": [
    "#### 1. Baseline Model for Logistic Regression"
   ]
  },
  {
   "cell_type": "code",
   "execution_count": 7,
   "metadata": {},
   "outputs": [
    {
     "data": {
      "image/png": "[encoded data removed]",
      "text/plain": [
       "<Figure size 432x432 with 2 Axes>"
      ]
     },
     "metadata": {
      "needs_background": "light"
     },
     "output_type": "display_data"
    }
   ],
   "source": [
    "base_model = Pipeline(steps=[\n",
    "    ('preprocessor', preprocessor),\n",
    "    ('classifier', LogisticRegression(random_state=42))\n",
    "])\n",
    "\n",
    "base_model.fit(X_train, y_train)\n",
    "\n",
    "y_val_pred = base_model.predict(X_val)\n",
    "y_val_pred_prob = base_model.predict_proba(X_val)[:, 1] # probabilities for ROC AUC\n",
    "\n",
    "plot_confusion_matrix(y_true=y_val, y_pred=y_val_pred, model_name='Logistic Regression Baseline')"
   ]
  },
  {
   "cell_type": "code",
   "execution_count": 8,
   "metadata": {},
   "outputs": [
    {
     "data": {
      "text/html": [
       "<div>\n",
       "<style scoped>\n",
       "    .dataframe tbody tr th:only-of-type {\n",
       "        vertical-align: middle;\n",
       "    }\n",
       "\n",
       "    .dataframe tbody tr th {\n",
       "        vertical-align: top;\n",
       "    }\n",
       "\n",
       "    .dataframe thead th {\n",
       "        text-align: right;\n",
       "    }\n",
       "</style>\n",
       "<table border=\"1\" class=\"dataframe\">\n",
       "  <thead>\n",
       "    <tr style=\"text-align: right;\">\n",
       "      <th></th>\n",
       "      <th>Recall</th>\n",
       "      <th>Precision</th>\n",
       "      <th>Weighted F1 Score</th>\n",
       "      <th>Accuracy</th>\n",
       "      <th>ROC AUC</th>\n",
       "      <th>PR AUC</th>\n",
       "    </tr>\n",
       "  </thead>\n",
       "  <tbody>\n",
       "    <tr>\n",
       "      <th>Logistic Regression Baseline</th>\n",
       "      <td>0.006218</td>\n",
       "      <td>0.085714</td>\n",
       "      <td>0.992096</td>\n",
       "      <td>0.994477</td>\n",
       "      <td>0.81592</td>\n",
       "      <td>0.232897</td>\n",
       "    </tr>\n",
       "  </tbody>\n",
       "</table>\n",
       "</div>"
      ],
      "text/plain": [
       "                                Recall  Precision  Weighted F1 Score  \\\n",
       "Logistic Regression Baseline  0.006218   0.085714           0.992096   \n",
       "\n",
       "                              Accuracy  ROC AUC    PR AUC  \n",
       "Logistic Regression Baseline  0.994477  0.81592  0.232897  "
      ]
     },
     "execution_count": 8,
     "metadata": {},
     "output_type": "execute_result"
    }
   ],
   "source": [
    "base_model_results = evaluate_model(y_true=y_val,\n",
    "                                    y_pred=y_val_pred, \n",
    "                                    y_pred_prob=y_val_pred_prob,\n",
    "                                    model_name='Logistic Regression Baseline')\n",
    "base_model_results"
   ]
  },
  {
   "cell_type": "markdown",
   "metadata": {},
   "source": [
    "Low Recall (2.59%): Indicates the model is not good at catching fraudulent transactions (many false negatives).\n",
    "\n",
    "High Precision (31.65%): When it does predict fraud, it is correct about a third of the time.\n",
    "\n",
    "Very Low F1 Score (4.79%): The low recall severely impacts the F1 score, which is a balance of precision and recall.\n",
    "\n",
    "High Accuracy (99.46%): This is misleading due to the class imbalance; even predicting 'No Fraud' for all transactions could yield high accuracy.\n",
    "\n",
    "Decent ROC AUC (82.45%): Suggests some ability to distinguish between classes, but this can be misleading in imbalanced settings.\n",
    "\n",
    "Moderate PR AUC (24.60%): More relevant than ROC AUC in imbalanced contexts, indicating moderate performance."
   ]
  },
  {
   "cell_type": "markdown",
   "metadata": {},
   "source": [
    "#### 2. Addressing Class Imbalance - Synthetic Minority Over-sampling Technique (SMOTE)\n",
    "Since our dataset exhibits significant class imbalance (i.e. non-fraudulent >> fraudulent transactions), this can lead to a model being biased towards the majority class, often resulting in poor detection of the minority class (i.e. fraudulent transactions). \n",
    "\n",
    "Unlike random oversampling, SMOTE generates synthetic samples rather than simply duplicating existing ones. This approach helps in creating a more diverse and representative sample of the minority class, potentially leading to better generalization Thereby aiding the model in learning patterns specific to fraudulent transactions. Leading to higher recall/sensitivity, making the model more capable of detecting actual fraud cases.\n",
    "\n",
    "ImbPipeline allows inclusion of resampling step within pipeline, ensuring that resampling only happens during training phase\n"
   ]
  },
  {
   "cell_type": "code",
   "execution_count": 9,
   "metadata": {},
   "outputs": [
    {
     "data": {
      "image/png": "[encoded data removed]",
      "text/plain": [
       "<Figure size 432x432 with 2 Axes>"
      ]
     },
     "metadata": {
      "needs_background": "light"
     },
     "output_type": "display_data"
    }
   ],
   "source": [
    "model_SMOTE = ImbPipeline(steps=[\n",
    "    ('preprocessor', preprocessor),\n",
    "    ('smote', SMOTE(random_state=42)),\n",
    "    ('classifier', LogisticRegression(random_state=42))\n",
    "])\n",
    "\n",
    "# train model_SMOTE\n",
    "model_SMOTE.fit(X_train, y_train.values.ravel())  # ensures y_train is in the correct format\n",
    "\n",
    "# Predict on the validation set\n",
    "y_val_pred = model_SMOTE.predict(X_val)\n",
    "y_val_pred_prob = model_SMOTE.predict_proba(X_val)[:, 1] # probabilities for ROC AUC\n",
    "\n",
    "plot_confusion_matrix(y_true=y_val, y_pred=y_val_pred, model_name='Logistic Regression with SMOTE')"
   ]
  },
  {
   "cell_type": "code",
   "execution_count": 10,
   "metadata": {},
   "outputs": [
    {
     "data": {
      "text/html": [
       "<div>\n",
       "<style scoped>\n",
       "    .dataframe tbody tr th:only-of-type {\n",
       "        vertical-align: middle;\n",
       "    }\n",
       "\n",
       "    .dataframe tbody tr th {\n",
       "        vertical-align: top;\n",
       "    }\n",
       "\n",
       "    .dataframe thead th {\n",
       "        text-align: right;\n",
       "    }\n",
       "</style>\n",
       "<table border=\"1\" class=\"dataframe\">\n",
       "  <thead>\n",
       "    <tr style=\"text-align: right;\">\n",
       "      <th></th>\n",
       "      <th>Recall</th>\n",
       "      <th>Precision</th>\n",
       "      <th>Weighted F1 Score</th>\n",
       "      <th>Accuracy</th>\n",
       "      <th>ROC AUC</th>\n",
       "      <th>PR AUC</th>\n",
       "    </tr>\n",
       "  </thead>\n",
       "  <tbody>\n",
       "    <tr>\n",
       "      <th>Logistic Regression with SMOTE</th>\n",
       "      <td>0.751295</td>\n",
       "      <td>0.03089</td>\n",
       "      <td>0.929023</td>\n",
       "      <td>0.875917</td>\n",
       "      <td>0.913907</td>\n",
       "      <td>0.151544</td>\n",
       "    </tr>\n",
       "  </tbody>\n",
       "</table>\n",
       "</div>"
      ],
      "text/plain": [
       "                                  Recall  Precision  Weighted F1 Score  \\\n",
       "Logistic Regression with SMOTE  0.751295    0.03089           0.929023   \n",
       "\n",
       "                                Accuracy   ROC AUC    PR AUC  \n",
       "Logistic Regression with SMOTE  0.875917  0.913907  0.151544  "
      ]
     },
     "execution_count": 10,
     "metadata": {},
     "output_type": "execute_result"
    }
   ],
   "source": [
    "model_SMOTE_results = evaluate_model(y_true=y_val,\n",
    "                             y_pred=y_val_pred, \n",
    "                             y_pred_prob=y_val_pred_prob,\n",
    "                             model_name='Logistic Regression with SMOTE')\n",
    "model_SMOTE_results"
   ]
  },
  {
   "cell_type": "code",
   "execution_count": 11,
   "metadata": {},
   "outputs": [
    {
     "data": {
      "text/html": [
       "<div>\n",
       "<style scoped>\n",
       "    .dataframe tbody tr th:only-of-type {\n",
       "        vertical-align: middle;\n",
       "    }\n",
       "\n",
       "    .dataframe tbody tr th {\n",
       "        vertical-align: top;\n",
       "    }\n",
       "\n",
       "    .dataframe thead th {\n",
       "        text-align: right;\n",
       "    }\n",
       "</style>\n",
       "<table border=\"1\" class=\"dataframe\">\n",
       "  <thead>\n",
       "    <tr style=\"text-align: right;\">\n",
       "      <th></th>\n",
       "      <th>Recall</th>\n",
       "      <th>Precision</th>\n",
       "      <th>Weighted F1 Score</th>\n",
       "      <th>Accuracy</th>\n",
       "      <th>ROC AUC</th>\n",
       "      <th>PR AUC</th>\n",
       "    </tr>\n",
       "  </thead>\n",
       "  <tbody>\n",
       "    <tr>\n",
       "      <th>Logistic Regression Baseline</th>\n",
       "      <td>0.006218</td>\n",
       "      <td>0.085714</td>\n",
       "      <td>0.992096</td>\n",
       "      <td>0.994477</td>\n",
       "      <td>0.815920</td>\n",
       "      <td>0.232897</td>\n",
       "    </tr>\n",
       "    <tr>\n",
       "      <th>Logistic Regression with SMOTE</th>\n",
       "      <td>0.751295</td>\n",
       "      <td>0.030890</td>\n",
       "      <td>0.929023</td>\n",
       "      <td>0.875917</td>\n",
       "      <td>0.913907</td>\n",
       "      <td>0.151544</td>\n",
       "    </tr>\n",
       "  </tbody>\n",
       "</table>\n",
       "</div>"
      ],
      "text/plain": [
       "                                  Recall  Precision  Weighted F1 Score  \\\n",
       "Logistic Regression Baseline    0.006218   0.085714           0.992096   \n",
       "Logistic Regression with SMOTE  0.751295   0.030890           0.929023   \n",
       "\n",
       "                                Accuracy   ROC AUC    PR AUC  \n",
       "Logistic Regression Baseline    0.994477  0.815920  0.232897  \n",
       "Logistic Regression with SMOTE  0.875917  0.913907  0.151544  "
      ]
     },
     "execution_count": 11,
     "metadata": {},
     "output_type": "execute_result"
    }
   ],
   "source": [
    "results_df = pd.concat([base_model_results, model_SMOTE_results],axis=0)\n",
    "results_df"
   ]
  },
  {
   "cell_type": "markdown",
   "metadata": {},
   "source": [
    "Much Higher Recall (78.86%): The model now catches a significantly higher proportion of fraud cases.\n",
    "\n",
    "Low Precision (3.42%): A large number of false positives, as many legitimate transactions are incorrectly flagged as fraud.\n",
    "\n",
    "Low F1 Score (6.56%): Despite the high recall, the F1 is still low due to very low precision.\n",
    "\n",
    "Lower Accuracy (88.29%): Reflects the increase in false positives.\n",
    "\n",
    "Higher ROC AUC (91.99%): Indicates better overall performance in distinguishing classes.\n",
    "\n",
    "Lower PR AUC (14.63%): Reflects the precision-recall trade-off; higher recall but much lower precision.\n",
    "\n",
    "**Analysis**:\n",
    "\n",
    "The introduction of SMOTE has significantly improved the model's ability to detect fraud (as seen in the increased recall), which is crucial in fraud detection. However, this has come at the cost of a large number of false positives (lower precision).\n",
    "\n",
    "The high number of false positives has reduced the overall accuracy and impacted the F1 score.\n",
    "The improvement in ROC AUC suggests better discrimination between classes, but the drop in PR AUC indicates issues with precision-recall balance, which is more critical in imbalanced datasets."
   ]
  },
  {
   "cell_type": "markdown",
   "metadata": {},
   "source": [
    "#### 3. Addressing Class Imbalance - SMOTE + Tomek Links (SMOTETomek)\n",
    "\n",
    "Combination of SMOTE and Tomek Links. While SMOTE helps to oversample the minority class, Tomek Links helps to undersample the majority class by removing Tomek links (pairs of nearly identical instances but of opposite classes).\n"
   ]
  },
  {
   "cell_type": "code",
   "execution_count": 12,
   "metadata": {},
   "outputs": [],
   "source": [
    "model_SMOTETomek = ImbPipeline([\n",
    "    ('preprocessor', preprocessor),  \n",
    "    ('smotetomek', SMOTETomek(random_state=42)),\n",
    "    ('classifier', LogisticRegression(random_state=42))\n",
    "])\n",
    "\n",
    "# train SMOTETomek model\n",
    "model_SMOTETomek.fit(X_train, y_train)\n",
    "\n",
    "# Predict on the validation set\n",
    "y_val_pred = model_SMOTETomek.predict(X_val)\n",
    "y_val_pred_prob = model_SMOTETomek.predict_proba(X_val)[:, 1]\n",
    "\n",
    "\n",
    "plot_confusion_matrix(y_val, y_val_pred, 'Logistic Regression with SMOTETomek')"
   ]
  },
  {
   "cell_type": "code",
   "execution_count": null,
   "metadata": {},
   "outputs": [],
   "source": [
    "model_SMOTETomek_results = evaluate_model(y_val, \n",
    "                                          y_val_pred, \n",
    "                                          y_val_pred_prob, \n",
    "                                          'Logistic Regression with SMOTETomek')\n",
    "model_SMOTETomek_results"
   ]
  },
  {
   "cell_type": "code",
   "execution_count": null,
   "metadata": {},
   "outputs": [],
   "source": [
    "results_df = pd.concat([results_df, model_SMOTETomek_results],axis=0)\n",
    "results_df"
   ]
  },
  {
   "cell_type": "markdown",
   "metadata": {},
   "source": [
    "## 3. Hyperparamter Tuning"
   ]
  },
  {
   "cell_type": "code",
   "execution_count": null,
   "metadata": {},
   "outputs": [],
   "source": [
    "param_grid = {\n",
    "    'classifier__C': [0.001, 0.01, 0.1, 1, 10, 100],  # Regularization strength\n",
    "    'classifier__penalty': ['l1', 'l2'],  # Type of penalty\n",
    "    'classifier__solver': ['liblinear', 'saga']  # Solver compatible with L1 penalty\n",
    "}"
   ]
  },
  {
   "cell_type": "markdown",
   "metadata": {},
   "source": [
    "a. Baseline Model"
   ]
  },
  {
   "cell_type": "code",
   "execution_count": null,
   "metadata": {},
   "outputs": [],
   "source": [
    "grid_search = GridSearchCV(base_model, param_grid, cv=5, scoring='f1_weighted', verbose=2)\n",
    "grid_search.fit(X_train, y_train)"
   ]
  },
  {
   "cell_type": "code",
   "execution_count": null,
   "metadata": {},
   "outputs": [],
   "source": [
    "est_params_baseline = grid_search.best_params_\n",
    "best_model_baseline = grid_search.best_estimator_"
   ]
  },
  {
   "cell_type": "code",
   "execution_count": null,
   "metadata": {},
   "outputs": [],
   "source": [
    "# Evaluate the best model on the validation set\n",
    "y_val_pred_best_baseline = best_model_baseline.predict(X_val)\n",
    "y_val_pred_prob_best_baseline = best_model_baseline.predict_proba(X_val)[:, 1]"
   ]
  },
  {
   "cell_type": "code",
   "execution_count": null,
   "metadata": {},
   "outputs": [],
   "source": [
    "# Calculate evaluation metrics for the best model\n",
    "evaluate_model(y_val, y_val_pred_best_baseline, y_val_pred_prob_best_baseline, 'Logistic Regression (Baseline) with Best Hyperparameters')\n"
   ]
  },
  {
   "cell_type": "markdown",
   "metadata": {},
   "source": [
    "b. SMOTE "
   ]
  },
  {
   "cell_type": "code",
   "execution_count": null,
   "metadata": {},
   "outputs": [],
   "source": [
    "grid_search = GridSearchCV(model_SMOTE, param_grid, cv=5, scoring='f1_weighted', verbose=2)\n",
    "grid_search.fit(X_train, y_train)"
   ]
  },
  {
   "cell_type": "code",
   "execution_count": null,
   "metadata": {},
   "outputs": [],
   "source": [
    "best_params_SMOTE = grid_search.best_params_\n",
    "best_model_SMOTE = grid_search.best_estimator_"
   ]
  },
  {
   "cell_type": "code",
   "execution_count": null,
   "metadata": {},
   "outputs": [],
   "source": [
    "# Evaluate the best model on the validation set\n",
    "y_val_pred_best_SMOTE = best_model_SMOTE.predict(X_val)\n",
    "y_val_pred_prob_best_SMOTE = best_model_SMOTE.predict_proba(X_val)[:, 1]"
   ]
  },
  {
   "cell_type": "code",
   "execution_count": null,
   "metadata": {},
   "outputs": [],
   "source": [
    "evaluate_model(y_val, y_val_pred_best_SMOTE, y_val_pred_prob_best_SMOTE, 'Logistic Regression (SMOTE) with Best Hyperparameters')\n"
   ]
  },
  {
   "cell_type": "markdown",
   "metadata": {},
   "source": [
    "c. SMOTETomek"
   ]
  },
  {
   "cell_type": "code",
   "execution_count": null,
   "metadata": {},
   "outputs": [],
   "source": [
    "grid_search = GridSearchCV(model_SMOTETomek, param_grid, cv=5, scoring='f1_weighted', verbose=2)\n",
    "grid_search.fit(X_train, y_train)"
   ]
  },
  {
   "cell_type": "code",
   "execution_count": null,
   "metadata": {},
   "outputs": [],
   "source": [
    "best_params_SMOTETomek= grid_search.best_params_\n",
    "best_model_SMOTETomek = grid_search.best_estimator_"
   ]
  },
  {
   "cell_type": "code",
   "execution_count": null,
   "metadata": {},
   "outputs": [],
   "source": [
    "# Evaluate the best model on the validation set\n",
    "y_val_pred_best_SMOTETomek = best_model_SMOTETomek.predict(X_val)\n",
    "y_val_pred_prob_best_SMOTETomek = best_model_SMOTETomek.predict_proba(X_val)[:, 1]"
   ]
  },
  {
   "cell_type": "code",
   "execution_count": null,
   "metadata": {},
   "outputs": [],
   "source": [
    "evaluate_model(y_val, y_val_pred_best_SMOTE, y_val_pred_prob_best_SMOTE, 'Logistic Regression (SMOTETomek) Best Hyperparameters')"
   ]
  },
  {
   "cell_type": "markdown",
   "metadata": {},
   "source": [
    "#### 3. Threshold Tuning \n",
    "default threshold for LR = 0.5"
   ]
  },
  {
   "cell_type": "markdown",
   "metadata": {},
   "source": [
    "a. For Baseline Model"
   ]
  },
  {
   "cell_type": "code",
   "execution_count": null,
   "metadata": {},
   "outputs": [
    {
     "data": {
      "text/html": [
       "<div>\n",
       "<style scoped>\n",
       "    .dataframe tbody tr th:only-of-type {\n",
       "        vertical-align: middle;\n",
       "    }\n",
       "\n",
       "    .dataframe tbody tr th {\n",
       "        vertical-align: top;\n",
       "    }\n",
       "\n",
       "    .dataframe thead th {\n",
       "        text-align: right;\n",
       "    }\n",
       "</style>\n",
       "<table border=\"1\" class=\"dataframe\">\n",
       "  <thead>\n",
       "    <tr style=\"text-align: right;\">\n",
       "      <th></th>\n",
       "      <th>Recall</th>\n",
       "      <th>Precision</th>\n",
       "      <th>F1 Score</th>\n",
       "      <th>Accuracy</th>\n",
       "      <th>ROC AUC</th>\n",
       "      <th>PR AUC</th>\n",
       "    </tr>\n",
       "  </thead>\n",
       "  <tbody>\n",
       "    <tr>\n",
       "      <th>Logistic Regression Baseline after Tuning Threshold</th>\n",
       "      <td>0.360622</td>\n",
       "      <td>0.576159</td>\n",
       "      <td>0.443595</td>\n",
       "      <td>0.995287</td>\n",
       "      <td>0.824493</td>\n",
       "      <td>0.24604</td>\n",
       "    </tr>\n",
       "  </tbody>\n",
       "</table>\n",
       "</div>"
      ],
      "text/plain": [
       "                                                      Recall  Precision  \\\n",
       "Logistic Regression Baseline after Tuning Thres...  0.360622   0.576159   \n",
       "\n",
       "                                                    F1 Score  Accuracy  \\\n",
       "Logistic Regression Baseline after Tuning Thres...  0.443595  0.995287   \n",
       "\n",
       "                                                     ROC AUC   PR AUC  \n",
       "Logistic Regression Baseline after Tuning Thres...  0.824493  0.24604  "
      ]
     },
     "execution_count": 88,
     "metadata": {},
     "output_type": "execute_result"
    }
   ],
   "source": [
    "y_val_pred_prob_baseline = base_model.predict_proba(X_val)[:, 1]\n",
    "\n",
    "precision, recall, thresholds = precision_recall_curve(y_val, y_val_pred_prob_baseline)\n",
    "\n",
    "f1_scores_baseline = 2 * (precision * recall) / (precision + recall)\n",
    "f1_scores_baseline = np.nan_to_num(f1_scores_baseline) # handles division by zero\n",
    "\n",
    "best_f1_idx = np.argmax(f1_scores_baseline) # index of highest f1 score\n",
    "best_threshold = thresholds[best_f1_idx]\n",
    "best_f1_score = f1_scores_baseline[best_f1_idx]\n",
    "\n",
    "y_val_pred_adjusted_baseline = (y_val_pred_prob_baseline >= best_threshold).astype(int) # final predictions using the selected threshold\n",
    "\n",
    "base_model_threshold_tuned = evaluate_model(y_val, y_val_pred_adjusted_baseline, y_val_pred_prob_baseline, 'Logistic Regression Baseline after Tuning Threshold')\n",
    "base_model_threshold_tuned"
   ]
  },
  {
   "cell_type": "code",
   "execution_count": null,
   "metadata": {},
   "outputs": [
    {
     "data": {
      "image/png": "[encoded data removed]",
      "text/plain": [
       "<Figure size 576x432 with 1 Axes>"
      ]
     },
     "metadata": {
      "needs_background": "light"
     },
     "output_type": "display_data"
    },
    {
     "name": "stdout",
     "output_type": "stream",
     "text": [
      "Best Threshold: 0.09031713185058289\n",
      "Best F1 Score: 0.4435946462715106\n"
     ]
    },
    {
     "data": {
      "image/png": "[encoded data removed]",
      "text/plain": [
       "<Figure size 432x432 with 2 Axes>"
      ]
     },
     "metadata": {
      "needs_background": "light"
     },
     "output_type": "display_data"
    }
   ],
   "source": [
    "# Precision-Recall curve\n",
    "plt.figure(figsize=(8, 6))\n",
    "plt.plot(recall, precision, label='Precision-Recall Curve')\n",
    "plt.xlabel('Recall')\n",
    "plt.ylabel('Precision')\n",
    "plt.title('Precision-Recall Curve')\n",
    "plt.legend(loc=\"lower left\")\n",
    "plt.show()\n",
    "\n",
    "print(f\"Best Threshold: {best_threshold}\")\n",
    "print(f\"Best F1 Score: {best_f1_score}\")\n",
    "\n",
    "plot_confusion_matrix(y_val, y_val_pred_adjusted_baseline, 'Logistic Regression Baseline after Tuning Threshold')\n"
   ]
  },
  {
   "cell_type": "code",
   "execution_count": null,
   "metadata": {},
   "outputs": [
    {
     "data": {
      "text/html": [
       "<div>\n",
       "<style scoped>\n",
       "    .dataframe tbody tr th:only-of-type {\n",
       "        vertical-align: middle;\n",
       "    }\n",
       "\n",
       "    .dataframe tbody tr th {\n",
       "        vertical-align: top;\n",
       "    }\n",
       "\n",
       "    .dataframe thead th {\n",
       "        text-align: right;\n",
       "    }\n",
       "</style>\n",
       "<table border=\"1\" class=\"dataframe\">\n",
       "  <thead>\n",
       "    <tr style=\"text-align: right;\">\n",
       "      <th></th>\n",
       "      <th>Recall</th>\n",
       "      <th>Precision</th>\n",
       "      <th>F1 Score</th>\n",
       "      <th>Accuracy</th>\n",
       "      <th>ROC AUC</th>\n",
       "      <th>PR AUC</th>\n",
       "    </tr>\n",
       "  </thead>\n",
       "  <tbody>\n",
       "    <tr>\n",
       "      <th>Logistic Regression Baseline</th>\n",
       "      <td>0.025907</td>\n",
       "      <td>0.316456</td>\n",
       "      <td>0.047893</td>\n",
       "      <td>0.994634</td>\n",
       "      <td>0.824493</td>\n",
       "      <td>0.246040</td>\n",
       "    </tr>\n",
       "    <tr>\n",
       "      <th>Logistic Regression with SMOTE</th>\n",
       "      <td>0.788601</td>\n",
       "      <td>0.034201</td>\n",
       "      <td>0.065558</td>\n",
       "      <td>0.882886</td>\n",
       "      <td>0.919856</td>\n",
       "      <td>0.146274</td>\n",
       "    </tr>\n",
       "    <tr>\n",
       "      <th>Logistic Regression Baseline after Tuning Threshold</th>\n",
       "      <td>0.360622</td>\n",
       "      <td>0.576159</td>\n",
       "      <td>0.443595</td>\n",
       "      <td>0.995287</td>\n",
       "      <td>0.824493</td>\n",
       "      <td>0.246040</td>\n",
       "    </tr>\n",
       "  </tbody>\n",
       "</table>\n",
       "</div>"
      ],
      "text/plain": [
       "                                                      Recall  Precision  \\\n",
       "Logistic Regression Baseline                        0.025907   0.316456   \n",
       "Logistic Regression with SMOTE                      0.788601   0.034201   \n",
       "Logistic Regression Baseline after Tuning Thres...  0.360622   0.576159   \n",
       "\n",
       "                                                    F1 Score  Accuracy  \\\n",
       "Logistic Regression Baseline                        0.047893  0.994634   \n",
       "Logistic Regression with SMOTE                      0.065558  0.882886   \n",
       "Logistic Regression Baseline after Tuning Thres...  0.443595  0.995287   \n",
       "\n",
       "                                                     ROC AUC    PR AUC  \n",
       "Logistic Regression Baseline                        0.824493  0.246040  \n",
       "Logistic Regression with SMOTE                      0.919856  0.146274  \n",
       "Logistic Regression Baseline after Tuning Thres...  0.824493  0.246040  "
      ]
     },
     "execution_count": 93,
     "metadata": {},
     "output_type": "execute_result"
    }
   ],
   "source": [
    "results_df = pd.concat([results_df, base_model_threshold_tuned],axis=0)\n",
    "results_df"
   ]
  },
  {
   "cell_type": "markdown",
   "metadata": {},
   "source": [
    "b. For SMOTE model"
   ]
  },
  {
   "cell_type": "code",
   "execution_count": null,
   "metadata": {},
   "outputs": [
    {
     "data": {
      "text/html": [
       "<div>\n",
       "<style scoped>\n",
       "    .dataframe tbody tr th:only-of-type {\n",
       "        vertical-align: middle;\n",
       "    }\n",
       "\n",
       "    .dataframe tbody tr th {\n",
       "        vertical-align: top;\n",
       "    }\n",
       "\n",
       "    .dataframe thead th {\n",
       "        text-align: right;\n",
       "    }\n",
       "</style>\n",
       "<table border=\"1\" class=\"dataframe\">\n",
       "  <thead>\n",
       "    <tr style=\"text-align: right;\">\n",
       "      <th></th>\n",
       "      <th>Recall</th>\n",
       "      <th>Precision</th>\n",
       "      <th>F1 Score</th>\n",
       "      <th>Accuracy</th>\n",
       "      <th>ROC AUC</th>\n",
       "      <th>PR AUC</th>\n",
       "    </tr>\n",
       "  </thead>\n",
       "  <tbody>\n",
       "    <tr>\n",
       "      <th>Logistic Regression with SMOTE after Tuning Threshold</th>\n",
       "      <td>0.497409</td>\n",
       "      <td>0.226202</td>\n",
       "      <td>0.310982</td>\n",
       "      <td>0.988518</td>\n",
       "      <td>0.919856</td>\n",
       "      <td>0.146274</td>\n",
       "    </tr>\n",
       "  </tbody>\n",
       "</table>\n",
       "</div>"
      ],
      "text/plain": [
       "                                                      Recall  Precision  \\\n",
       "Logistic Regression with SMOTE after Tuning Thr...  0.497409   0.226202   \n",
       "\n",
       "                                                    F1 Score  Accuracy  \\\n",
       "Logistic Regression with SMOTE after Tuning Thr...  0.310982  0.988518   \n",
       "\n",
       "                                                     ROC AUC    PR AUC  \n",
       "Logistic Regression with SMOTE after Tuning Thr...  0.919856  0.146274  "
      ]
     },
     "execution_count": 92,
     "metadata": {},
     "output_type": "execute_result"
    }
   ],
   "source": [
    "y_val_pred_prob_smote = model_SMOTE.predict_proba(X_val)[:, 1]\n",
    "\n",
    "precision, recall, thresholds = precision_recall_curve(y_val, y_val_pred_prob_smote)\n",
    "\n",
    "f1_scores_smote = 2 * (precision * recall) / (precision + recall)\n",
    "f1_scores_smote = np.nan_to_num(f1_scores_smote) # handles division by zero\n",
    "\n",
    "best_f1_idx = np.argmax(f1_scores_smote) # index of highest f1 score\n",
    "best_threshold = thresholds[best_f1_idx]\n",
    "best_f1_score = f1_scores_smote[best_f1_idx]\n",
    "\n",
    "y_val_pred_adjusted_smote = (y_val_pred_prob_smote >= best_threshold).astype(int) # final predictions using the selected threshold\n",
    "\n",
    "smote_model_threshold_tuned = evaluate_model(y_val, y_val_pred_adjusted_smote, y_val_pred_prob_smote, 'Logistic Regression with SMOTE after Tuning Threshold')\n",
    "smote_model_threshold_tuned"
   ]
  },
  {
   "cell_type": "code",
   "execution_count": null,
   "metadata": {},
   "outputs": [
    {
     "data": {
      "image/png": "[encoded data removed]",
      "text/plain": [
       "<Figure size 576x432 with 1 Axes>"
      ]
     },
     "metadata": {
      "needs_background": "light"
     },
     "output_type": "display_data"
    },
    {
     "name": "stdout",
     "output_type": "stream",
     "text": [
      "Best Threshold: 0.9340309054129825\n",
      "Best F1 Score: 0.3109815354713314\n"
     ]
    },
    {
     "data": {
      "image/png": "[encoded data removed]",
      "text/plain": [
       "<Figure size 432x432 with 2 Axes>"
      ]
     },
     "metadata": {
      "needs_background": "light"
     },
     "output_type": "display_data"
    }
   ],
   "source": [
    "# Precision-Recall curve\n",
    "plt.figure(figsize=(8, 6))\n",
    "plt.plot(recall, precision, label='Precision-Recall Curve')\n",
    "plt.xlabel('Recall')\n",
    "plt.ylabel('Precision')\n",
    "plt.title('Precision-Recall Curve')\n",
    "plt.legend(loc=\"lower left\")\n",
    "plt.show()\n",
    "\n",
    "print(f\"Best Threshold: {best_threshold}\")\n",
    "print(f\"Best F1 Score: {best_f1_score}\")\n",
    "\n",
    "plot_confusion_matrix(y_val, y_val_pred_adjusted_smote, 'Logistic Regression with SMOTE after Tuning Threshold')\n"
   ]
  },
  {
   "cell_type": "markdown",
   "metadata": {},
   "source": [
    "update results dataframe"
   ]
  },
  {
   "cell_type": "code",
   "execution_count": null,
   "metadata": {},
   "outputs": [
    {
     "data": {
      "text/html": [
       "<div>\n",
       "<style scoped>\n",
       "    .dataframe tbody tr th:only-of-type {\n",
       "        vertical-align: middle;\n",
       "    }\n",
       "\n",
       "    .dataframe tbody tr th {\n",
       "        vertical-align: top;\n",
       "    }\n",
       "\n",
       "    .dataframe thead th {\n",
       "        text-align: right;\n",
       "    }\n",
       "</style>\n",
       "<table border=\"1\" class=\"dataframe\">\n",
       "  <thead>\n",
       "    <tr style=\"text-align: right;\">\n",
       "      <th></th>\n",
       "      <th>Recall</th>\n",
       "      <th>Precision</th>\n",
       "      <th>F1 Score</th>\n",
       "      <th>Accuracy</th>\n",
       "      <th>ROC AUC</th>\n",
       "      <th>PR AUC</th>\n",
       "    </tr>\n",
       "  </thead>\n",
       "  <tbody>\n",
       "    <tr>\n",
       "      <th>Logistic Regression Baseline</th>\n",
       "      <td>0.025907</td>\n",
       "      <td>0.316456</td>\n",
       "      <td>0.047893</td>\n",
       "      <td>0.994634</td>\n",
       "      <td>0.824493</td>\n",
       "      <td>0.246040</td>\n",
       "    </tr>\n",
       "    <tr>\n",
       "      <th>Logistic Regression with SMOTE</th>\n",
       "      <td>0.788601</td>\n",
       "      <td>0.034201</td>\n",
       "      <td>0.065558</td>\n",
       "      <td>0.882886</td>\n",
       "      <td>0.919856</td>\n",
       "      <td>0.146274</td>\n",
       "    </tr>\n",
       "    <tr>\n",
       "      <th>Logistic Regression Baseline after Tuning Threshold</th>\n",
       "      <td>0.360622</td>\n",
       "      <td>0.576159</td>\n",
       "      <td>0.443595</td>\n",
       "      <td>0.995287</td>\n",
       "      <td>0.824493</td>\n",
       "      <td>0.246040</td>\n",
       "    </tr>\n",
       "    <tr>\n",
       "      <th>Logistic Regression with SMOTE after Tuning Threshold</th>\n",
       "      <td>0.497409</td>\n",
       "      <td>0.226202</td>\n",
       "      <td>0.310982</td>\n",
       "      <td>0.988518</td>\n",
       "      <td>0.919856</td>\n",
       "      <td>0.146274</td>\n",
       "    </tr>\n",
       "  </tbody>\n",
       "</table>\n",
       "</div>"
      ],
      "text/plain": [
       "                                                      Recall  Precision  \\\n",
       "Logistic Regression Baseline                        0.025907   0.316456   \n",
       "Logistic Regression with SMOTE                      0.788601   0.034201   \n",
       "Logistic Regression Baseline after Tuning Thres...  0.360622   0.576159   \n",
       "Logistic Regression with SMOTE after Tuning Thr...  0.497409   0.226202   \n",
       "\n",
       "                                                    F1 Score  Accuracy  \\\n",
       "Logistic Regression Baseline                        0.047893  0.994634   \n",
       "Logistic Regression with SMOTE                      0.065558  0.882886   \n",
       "Logistic Regression Baseline after Tuning Thres...  0.443595  0.995287   \n",
       "Logistic Regression with SMOTE after Tuning Thr...  0.310982  0.988518   \n",
       "\n",
       "                                                     ROC AUC    PR AUC  \n",
       "Logistic Regression Baseline                        0.824493  0.246040  \n",
       "Logistic Regression with SMOTE                      0.919856  0.146274  \n",
       "Logistic Regression Baseline after Tuning Thres...  0.824493  0.246040  \n",
       "Logistic Regression with SMOTE after Tuning Thr...  0.919856  0.146274  "
      ]
     },
     "execution_count": 94,
     "metadata": {},
     "output_type": "execute_result"
    }
   ],
   "source": [
    "results_df = pd.concat([results_df, smote_model_threshold_tuned],axis=0)\n",
    "results_df"
   ]
  },
  {
   "cell_type": "code",
   "execution_count": null,
   "metadata": {},
   "outputs": [],
   "source": []
  }
 ],
 "metadata": {
  "kernelspec": {
   "display_name": "Python 3",
   "language": "python",
   "name": "python3"
  },
  "language_info": {
   "codemirror_mode": {
    "name": "ipython",
    "version": 3
   },
   "file_extension": ".py",
   "mimetype": "text/x-python",
   "name": "python",
   "nbconvert_exporter": "python",
   "pygments_lexer": "ipython3",
   "version": "3.8.9"
  }
 },
 "nbformat": 4,
 "nbformat_minor": 2
}
