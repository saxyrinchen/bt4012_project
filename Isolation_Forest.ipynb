{
 "cells": [
  {
   "cell_type": "markdown",
   "metadata": {},
   "source": [
    "#### Necessary Libraries"
   ]
  },
  {
   "cell_type": "code",
   "execution_count": 1,
   "metadata": {},
   "outputs": [],
   "source": [
    "import warnings\n",
    "warnings.filterwarnings(\"ignore\")\n",
    "\n",
    "import pandas as pd\n",
    "import numpy as np\n",
    "import matplotlib.pyplot as plt\n",
    "import matplotlib.cm as cm\n",
    "from random import seed,sample\n",
    "import datetime as dt\n",
    "from datetime import datetime\n",
    "import seaborn as sns\n",
    "\n",
    "import scipy.stats as stats\n",
    "\n",
    "from sklearn.model_selection import train_test_split\n",
    "\n",
    "# pipeline\n",
    "from sklearn.pipeline import Pipeline\n",
    "from sklearn.impute import SimpleImputer\n",
    "\n",
    "# feature scaling & OHE\n",
    "from sklearn.compose import ColumnTransformer\n",
    "from sklearn.preprocessing import StandardScaler, OneHotEncoder, MinMaxScaler # data encoders\n",
    "\n",
    "# moodels \n",
    "from sklearn.linear_model import LogisticRegression\n",
    "from sklearn.ensemble import IsolationForest\n",
    "\n",
    "# evaluation metrics\n",
    "from sklearn.metrics import accuracy_score, precision_score, recall_score, f1_score, roc_curve, auc, roc_auc_score, confusion_matrix, classification_report, average_precision_score, precision_recall_curve\n",
    "\n",
    "# resampling techniques for imbalanced data\n",
    "from imblearn.under_sampling import RandomUnderSampler\n",
    "from imblearn.over_sampling import SMOTE #\n",
    "from imblearn.pipeline import Pipeline as ImbPipeline\n",
    "from imblearn.combine import SMOTETomek\n",
    "\n",
    "# formatting \n",
    "%matplotlib inline\n",
    "pd.set_option('display.max_columns', 500)"
   ]
  },
  {
   "cell_type": "markdown",
   "metadata": {},
   "source": [
    "#### Reading Data \n",
    "- Training Datasets: X_train, y_train\n",
    "- Validation Datasets: X_val, y_val\n",
    "\n",
    "*Note: they are in a folder one level higher than current folder*"
   ]
  },
  {
   "cell_type": "code",
   "execution_count": 2,
   "metadata": {},
   "outputs": [],
   "source": [
    "X_train = pd.read_csv('../X_train.csv')\n",
    "X_val = pd.read_csv('../X_val.csv')\n",
    "y_train = pd.read_csv('../y_train.csv')\n",
    "y_val = pd.read_csv('../y_val.csv')\n",
    "\n",
    "# test set only for one-time assessment of final model\n",
    "X_test = pd.read_csv('../X_test.csv')\n",
    "y_test = pd.read_csv('../y_test.csv')"
   ]
  },
  {
   "cell_type": "code",
   "execution_count": 3,
   "metadata": {},
   "outputs": [
    {
     "name": "stdout",
     "output_type": "stream",
     "text": [
      "X_train's Shape: (1481915, 13)\n",
      "X_val's Shape: (185239, 13)\n",
      "X_test's Shape: (185240, 13)\n"
     ]
    }
   ],
   "source": [
    "print(\"X_train's Shape:\",X_train.shape)\n",
    "print(\"X_val's Shape:\",X_val.shape)\n",
    "print(\"X_test's Shape:\",X_test.shape)"
   ]
  },
  {
   "cell_type": "code",
   "execution_count": 4,
   "metadata": {},
   "outputs": [
    {
     "data": {
      "text/html": [
       "<div>\n",
       "<style scoped>\n",
       "    .dataframe tbody tr th:only-of-type {\n",
       "        vertical-align: middle;\n",
       "    }\n",
       "\n",
       "    .dataframe tbody tr th {\n",
       "        vertical-align: top;\n",
       "    }\n",
       "\n",
       "    .dataframe thead th {\n",
       "        text-align: right;\n",
       "    }\n",
       "</style>\n",
       "<table border=\"1\" class=\"dataframe\">\n",
       "  <thead>\n",
       "    <tr style=\"text-align: right;\">\n",
       "      <th></th>\n",
       "      <th>category</th>\n",
       "      <th>amount(usd)</th>\n",
       "      <th>gender</th>\n",
       "      <th>state</th>\n",
       "      <th>lat</th>\n",
       "      <th>long</th>\n",
       "      <th>merch_lat</th>\n",
       "      <th>merch_long</th>\n",
       "      <th>transaction_hour</th>\n",
       "      <th>hour_of_day</th>\n",
       "      <th>day_of_week</th>\n",
       "      <th>age</th>\n",
       "      <th>job_categories</th>\n",
       "    </tr>\n",
       "  </thead>\n",
       "  <tbody>\n",
       "    <tr>\n",
       "      <th>0</th>\n",
       "      <td>kids_pets</td>\n",
       "      <td>75.72</td>\n",
       "      <td>F</td>\n",
       "      <td>NY</td>\n",
       "      <td>40.6816</td>\n",
       "      <td>-73.9798</td>\n",
       "      <td>40.443492</td>\n",
       "      <td>-73.439422</td>\n",
       "      <td>15</td>\n",
       "      <td>15</td>\n",
       "      <td>Monday</td>\n",
       "      <td>21</td>\n",
       "      <td>C2</td>\n",
       "    </tr>\n",
       "    <tr>\n",
       "      <th>1</th>\n",
       "      <td>gas_transport</td>\n",
       "      <td>79.74</td>\n",
       "      <td>F</td>\n",
       "      <td>CA</td>\n",
       "      <td>34.0443</td>\n",
       "      <td>-118.2509</td>\n",
       "      <td>33.672410</td>\n",
       "      <td>-117.663817</td>\n",
       "      <td>10</td>\n",
       "      <td>10</td>\n",
       "      <td>Tuesday</td>\n",
       "      <td>60</td>\n",
       "      <td>C2</td>\n",
       "    </tr>\n",
       "    <tr>\n",
       "      <th>2</th>\n",
       "      <td>home</td>\n",
       "      <td>74.92</td>\n",
       "      <td>M</td>\n",
       "      <td>MT</td>\n",
       "      <td>45.2857</td>\n",
       "      <td>-108.9082</td>\n",
       "      <td>45.469725</td>\n",
       "      <td>-109.723735</td>\n",
       "      <td>20</td>\n",
       "      <td>20</td>\n",
       "      <td>Monday</td>\n",
       "      <td>42</td>\n",
       "      <td>C4</td>\n",
       "    </tr>\n",
       "    <tr>\n",
       "      <th>3</th>\n",
       "      <td>gas_transport</td>\n",
       "      <td>44.30</td>\n",
       "      <td>F</td>\n",
       "      <td>IL</td>\n",
       "      <td>41.0646</td>\n",
       "      <td>-87.5917</td>\n",
       "      <td>40.528089</td>\n",
       "      <td>-87.904092</td>\n",
       "      <td>0</td>\n",
       "      <td>0</td>\n",
       "      <td>Saturday</td>\n",
       "      <td>16</td>\n",
       "      <td>C2</td>\n",
       "    </tr>\n",
       "    <tr>\n",
       "      <th>4</th>\n",
       "      <td>home</td>\n",
       "      <td>28.02</td>\n",
       "      <td>M</td>\n",
       "      <td>MD</td>\n",
       "      <td>39.6967</td>\n",
       "      <td>-78.8031</td>\n",
       "      <td>39.564020</td>\n",
       "      <td>-79.624007</td>\n",
       "      <td>18</td>\n",
       "      <td>18</td>\n",
       "      <td>Saturday</td>\n",
       "      <td>60</td>\n",
       "      <td>C2</td>\n",
       "    </tr>\n",
       "  </tbody>\n",
       "</table>\n",
       "</div>"
      ],
      "text/plain": [
       "        category  amount(usd) gender state      lat      long  merch_lat  \\\n",
       "0      kids_pets        75.72      F    NY  40.6816  -73.9798  40.443492   \n",
       "1  gas_transport        79.74      F    CA  34.0443 -118.2509  33.672410   \n",
       "2           home        74.92      M    MT  45.2857 -108.9082  45.469725   \n",
       "3  gas_transport        44.30      F    IL  41.0646  -87.5917  40.528089   \n",
       "4           home        28.02      M    MD  39.6967  -78.8031  39.564020   \n",
       "\n",
       "   merch_long  transaction_hour  hour_of_day day_of_week  age job_categories  \n",
       "0  -73.439422                15           15      Monday   21             C2  \n",
       "1 -117.663817                10           10     Tuesday   60             C2  \n",
       "2 -109.723735                20           20      Monday   42             C4  \n",
       "3  -87.904092                 0            0    Saturday   16             C2  \n",
       "4  -79.624007                18           18    Saturday   60             C2  "
      ]
     },
     "execution_count": 4,
     "metadata": {},
     "output_type": "execute_result"
    }
   ],
   "source": [
    "X_train.head()"
   ]
  },
  {
   "cell_type": "markdown",
   "metadata": {},
   "source": [
    "#### Local Preprocessing\n",
    "\n",
    "Creating a **Pipeline*** for the following preprocessing steps:\n",
    "- Feature Scaling for Numerical Features\n",
    "- One-Hot Encoding for Categorical Features\n",
    "\n",
    "****Pipeline()** helps to streamline processes especially since we are refining our models using different techniques like under/oversampling, hyperparameter tuning, etc.*"
   ]
  },
  {
   "cell_type": "code",
   "execution_count": 7,
   "metadata": {},
   "outputs": [],
   "source": [
    "# numerical features - StandardScaler()\n",
    "numerical_cols = ['amount(usd)', 'lat', 'long', 'merch_lat', 'merch_long', 'hour_of_day', 'age']\n",
    "numeric_transformer = Pipeline(steps=[\n",
    "    ('imputer', SimpleImputer(strategy='median')),\n",
    "    ('scaler', StandardScaler())])\n",
    "\n",
    "\n",
    "# categorical features - OneHotEncoder()\n",
    "categorical_cols = ['category', 'gender', 'state', 'job_categories', 'day_of_week']\n",
    "categorical_transformer = Pipeline(steps=[\n",
    "    ('imputer', SimpleImputer(strategy='constant', fill_value='missing')),\n",
    "    ('onehot', OneHotEncoder(handle_unknown='ignore'))])\n",
    "\n",
    "# combining preprocessing pipelines for numeric and categorical features\n",
    "preprocessor = ColumnTransformer(\n",
    "    transformers=[\n",
    "        ('num', numeric_transformer, numerical_cols),\n",
    "        ('cat', categorical_transformer, categorical_cols)])"
   ]
  },
  {
   "cell_type": "markdown",
   "metadata": {},
   "source": [
    "#### Helper Functions for Evaluating Model Performance \n",
    "a. Evaluate Model using Recall, Precision, F1, Accuracy, ROC AUC, PR AUC\n",
    "\n",
    "b. Confusion Matrix showing TP,FP,TN,FN"
   ]
  },
  {
   "cell_type": "code",
   "execution_count": 5,
   "metadata": {},
   "outputs": [],
   "source": [
    "def evaluate_model(y_true, y_pred, y_pred_prob, model_name):\n",
    "    metrics = {\n",
    "        'Recall':recall_score(y_true, y_pred),\n",
    "        'Precision':precision_score(y_true, y_pred),\n",
    "        'F1 Score':f1_score(y_true, y_pred),\n",
    "        'Accuracy': accuracy_score(y_true, y_pred),\n",
    "        'ROC AUC': roc_auc_score(y_true, y_pred_prob),\n",
    "        'PR AUC': average_precision_score(y_true, y_pred_prob) # precision-recall AUC\n",
    "}\n",
    "\n",
    "    metrics_df = pd.DataFrame([metrics], index =[model_name])\n",
    "    return metrics_df\n",
    "\n",
    "def plot_confusion_matrix(y_true, y_pred, model_name):\n",
    "    cm = confusion_matrix(y_true, y_pred)\n",
    "    fig, ax = plt.subplots(figsize=(6, 6))\n",
    "    sns.heatmap(cm, annot=True, fmt='d', cmap='Blues', ax=ax)\n",
    "    ax.set_xlabel('Predicted labels')\n",
    "    ax.set_ylabel('True labels')\n",
    "    ax.set_title(model_name)\n",
    "    plt.show()"
   ]
  },
  {
   "cell_type": "code",
   "execution_count": 6,
   "metadata": {},
   "outputs": [
    {
     "ename": "ValueError",
     "evalue": "A given column is not a column of the dataframe",
     "output_type": "error",
     "traceback": [
      "\u001b[0;31m---------------------------------------------------------------------------\u001b[0m",
      "\u001b[0;31mKeyError\u001b[0m                                  Traceback (most recent call last)",
      "File \u001b[0;32m~/Library/Python/3.8/lib/python/site-packages/pandas/core/indexes/base.py:3361\u001b[0m, in \u001b[0;36mIndex.get_loc\u001b[0;34m(self, key, method, tolerance)\u001b[0m\n\u001b[1;32m   3360\u001b[0m \u001b[39mtry\u001b[39;00m:\n\u001b[0;32m-> 3361\u001b[0m     \u001b[39mreturn\u001b[39;00m \u001b[39mself\u001b[39;49m\u001b[39m.\u001b[39;49m_engine\u001b[39m.\u001b[39;49mget_loc(casted_key)\n\u001b[1;32m   3362\u001b[0m \u001b[39mexcept\u001b[39;00m \u001b[39mKeyError\u001b[39;00m \u001b[39mas\u001b[39;00m err:\n",
      "File \u001b[0;32m~/Library/Python/3.8/lib/python/site-packages/pandas/_libs/index.pyx:76\u001b[0m, in \u001b[0;36mpandas._libs.index.IndexEngine.get_loc\u001b[0;34m()\u001b[0m\n",
      "File \u001b[0;32m~/Library/Python/3.8/lib/python/site-packages/pandas/_libs/index.pyx:108\u001b[0m, in \u001b[0;36mpandas._libs.index.IndexEngine.get_loc\u001b[0;34m()\u001b[0m\n",
      "File \u001b[0;32mpandas/_libs/hashtable_class_helper.pxi:5198\u001b[0m, in \u001b[0;36mpandas._libs.hashtable.PyObjectHashTable.get_item\u001b[0;34m()\u001b[0m\n",
      "File \u001b[0;32mpandas/_libs/hashtable_class_helper.pxi:5206\u001b[0m, in \u001b[0;36mpandas._libs.hashtable.PyObjectHashTable.get_item\u001b[0;34m()\u001b[0m\n",
      "\u001b[0;31mKeyError\u001b[0m: 'job'",
      "\nThe above exception was the direct cause of the following exception:\n",
      "\u001b[0;31mKeyError\u001b[0m                                  Traceback (most recent call last)",
      "File \u001b[0;32m~/Library/Python/3.8/lib/python/site-packages/sklearn/utils/__init__.py:448\u001b[0m, in \u001b[0;36m_get_column_indices\u001b[0;34m(X, key)\u001b[0m\n\u001b[1;32m    447\u001b[0m \u001b[39mfor\u001b[39;00m col \u001b[39min\u001b[39;00m columns:\n\u001b[0;32m--> 448\u001b[0m     col_idx \u001b[39m=\u001b[39m all_columns\u001b[39m.\u001b[39;49mget_loc(col)\n\u001b[1;32m    449\u001b[0m     \u001b[39mif\u001b[39;00m \u001b[39mnot\u001b[39;00m \u001b[39misinstance\u001b[39m(col_idx, numbers\u001b[39m.\u001b[39mIntegral):\n",
      "File \u001b[0;32m~/Library/Python/3.8/lib/python/site-packages/pandas/core/indexes/base.py:3363\u001b[0m, in \u001b[0;36mIndex.get_loc\u001b[0;34m(self, key, method, tolerance)\u001b[0m\n\u001b[1;32m   3362\u001b[0m     \u001b[39mexcept\u001b[39;00m \u001b[39mKeyError\u001b[39;00m \u001b[39mas\u001b[39;00m err:\n\u001b[0;32m-> 3363\u001b[0m         \u001b[39mraise\u001b[39;00m \u001b[39mKeyError\u001b[39;00m(key) \u001b[39mfrom\u001b[39;00m \u001b[39merr\u001b[39;00m\n\u001b[1;32m   3365\u001b[0m \u001b[39mif\u001b[39;00m is_scalar(key) \u001b[39mand\u001b[39;00m isna(key) \u001b[39mand\u001b[39;00m \u001b[39mnot\u001b[39;00m \u001b[39mself\u001b[39m\u001b[39m.\u001b[39mhasnans:\n",
      "\u001b[0;31mKeyError\u001b[0m: 'job'",
      "\nThe above exception was the direct cause of the following exception:\n",
      "\u001b[0;31mValueError\u001b[0m                                Traceback (most recent call last)",
      "\u001b[1;32m/Users/saxyrinchen/Desktop/NUS/Y4S1/BT4012/Project/bt4012_project/Isolation_Forest.ipynb Cell 10\u001b[0m line \u001b[0;36m<cell line: 8>\u001b[0;34m()\u001b[0m\n\u001b[1;32m      <a href='vscode-notebook-cell:/Users/saxyrinchen/Desktop/NUS/Y4S1/BT4012/Project/bt4012_project/Isolation_Forest.ipynb#X45sZmlsZQ%3D%3D?line=1'>2</a>\u001b[0m iso_forest_pipeline \u001b[39m=\u001b[39m Pipeline([\n\u001b[1;32m      <a href='vscode-notebook-cell:/Users/saxyrinchen/Desktop/NUS/Y4S1/BT4012/Project/bt4012_project/Isolation_Forest.ipynb#X45sZmlsZQ%3D%3D?line=2'>3</a>\u001b[0m     (\u001b[39m'\u001b[39m\u001b[39mpreprocessor\u001b[39m\u001b[39m'\u001b[39m, preprocessor),  \u001b[39m# 'preprocessor' defined as before\u001b[39;00m\n\u001b[1;32m      <a href='vscode-notebook-cell:/Users/saxyrinchen/Desktop/NUS/Y4S1/BT4012/Project/bt4012_project/Isolation_Forest.ipynb#X45sZmlsZQ%3D%3D?line=3'>4</a>\u001b[0m     (\u001b[39m'\u001b[39m\u001b[39mmodel\u001b[39m\u001b[39m'\u001b[39m, IsolationForest(n_estimators\u001b[39m=\u001b[39m\u001b[39m100\u001b[39m, contamination\u001b[39m=\u001b[39m\u001b[39m'\u001b[39m\u001b[39mauto\u001b[39m\u001b[39m'\u001b[39m, random_state\u001b[39m=\u001b[39m\u001b[39m42\u001b[39m))\n\u001b[1;32m      <a href='vscode-notebook-cell:/Users/saxyrinchen/Desktop/NUS/Y4S1/BT4012/Project/bt4012_project/Isolation_Forest.ipynb#X45sZmlsZQ%3D%3D?line=4'>5</a>\u001b[0m ])\n\u001b[1;32m      <a href='vscode-notebook-cell:/Users/saxyrinchen/Desktop/NUS/Y4S1/BT4012/Project/bt4012_project/Isolation_Forest.ipynb#X45sZmlsZQ%3D%3D?line=6'>7</a>\u001b[0m \u001b[39m# Train the model using the pipeline\u001b[39;00m\n\u001b[0;32m----> <a href='vscode-notebook-cell:/Users/saxyrinchen/Desktop/NUS/Y4S1/BT4012/Project/bt4012_project/Isolation_Forest.ipynb#X45sZmlsZQ%3D%3D?line=7'>8</a>\u001b[0m iso_forest_pipeline\u001b[39m.\u001b[39;49mfit(X_train, y_train)\n\u001b[1;32m     <a href='vscode-notebook-cell:/Users/saxyrinchen/Desktop/NUS/Y4S1/BT4012/Project/bt4012_project/Isolation_Forest.ipynb#X45sZmlsZQ%3D%3D?line=9'>10</a>\u001b[0m \u001b[39m# Predict on the validation set using the pipeline\u001b[39;00m\n\u001b[1;32m     <a href='vscode-notebook-cell:/Users/saxyrinchen/Desktop/NUS/Y4S1/BT4012/Project/bt4012_project/Isolation_Forest.ipynb#X45sZmlsZQ%3D%3D?line=10'>11</a>\u001b[0m y_val_pred \u001b[39m=\u001b[39m iso_forest_pipeline\u001b[39m.\u001b[39mpredict(X_val)\n",
      "File \u001b[0;32m~/Library/Python/3.8/lib/python/site-packages/sklearn/pipeline.py:401\u001b[0m, in \u001b[0;36mPipeline.fit\u001b[0;34m(self, X, y, **fit_params)\u001b[0m\n\u001b[1;32m    375\u001b[0m \u001b[39m\"\"\"Fit the model.\u001b[39;00m\n\u001b[1;32m    376\u001b[0m \n\u001b[1;32m    377\u001b[0m \u001b[39mFit all the transformers one after the other and transform the\u001b[39;00m\n\u001b[0;32m   (...)\u001b[0m\n\u001b[1;32m    398\u001b[0m \u001b[39m    Pipeline with fitted steps.\u001b[39;00m\n\u001b[1;32m    399\u001b[0m \u001b[39m\"\"\"\u001b[39;00m\n\u001b[1;32m    400\u001b[0m fit_params_steps \u001b[39m=\u001b[39m \u001b[39mself\u001b[39m\u001b[39m.\u001b[39m_check_fit_params(\u001b[39m*\u001b[39m\u001b[39m*\u001b[39mfit_params)\n\u001b[0;32m--> 401\u001b[0m Xt \u001b[39m=\u001b[39m \u001b[39mself\u001b[39;49m\u001b[39m.\u001b[39;49m_fit(X, y, \u001b[39m*\u001b[39;49m\u001b[39m*\u001b[39;49mfit_params_steps)\n\u001b[1;32m    402\u001b[0m \u001b[39mwith\u001b[39;00m _print_elapsed_time(\u001b[39m\"\u001b[39m\u001b[39mPipeline\u001b[39m\u001b[39m\"\u001b[39m, \u001b[39mself\u001b[39m\u001b[39m.\u001b[39m_log_message(\u001b[39mlen\u001b[39m(\u001b[39mself\u001b[39m\u001b[39m.\u001b[39msteps) \u001b[39m-\u001b[39m \u001b[39m1\u001b[39m)):\n\u001b[1;32m    403\u001b[0m     \u001b[39mif\u001b[39;00m \u001b[39mself\u001b[39m\u001b[39m.\u001b[39m_final_estimator \u001b[39m!=\u001b[39m \u001b[39m\"\u001b[39m\u001b[39mpassthrough\u001b[39m\u001b[39m\"\u001b[39m:\n",
      "File \u001b[0;32m~/Library/Python/3.8/lib/python/site-packages/sklearn/pipeline.py:359\u001b[0m, in \u001b[0;36mPipeline._fit\u001b[0;34m(self, X, y, **fit_params_steps)\u001b[0m\n\u001b[1;32m    357\u001b[0m     cloned_transformer \u001b[39m=\u001b[39m clone(transformer)\n\u001b[1;32m    358\u001b[0m \u001b[39m# Fit or load from cache the current transformer\u001b[39;00m\n\u001b[0;32m--> 359\u001b[0m X, fitted_transformer \u001b[39m=\u001b[39m fit_transform_one_cached(\n\u001b[1;32m    360\u001b[0m     cloned_transformer,\n\u001b[1;32m    361\u001b[0m     X,\n\u001b[1;32m    362\u001b[0m     y,\n\u001b[1;32m    363\u001b[0m     \u001b[39mNone\u001b[39;49;00m,\n\u001b[1;32m    364\u001b[0m     message_clsname\u001b[39m=\u001b[39;49m\u001b[39m\"\u001b[39;49m\u001b[39mPipeline\u001b[39;49m\u001b[39m\"\u001b[39;49m,\n\u001b[1;32m    365\u001b[0m     message\u001b[39m=\u001b[39;49m\u001b[39mself\u001b[39;49m\u001b[39m.\u001b[39;49m_log_message(step_idx),\n\u001b[1;32m    366\u001b[0m     \u001b[39m*\u001b[39;49m\u001b[39m*\u001b[39;49mfit_params_steps[name],\n\u001b[1;32m    367\u001b[0m )\n\u001b[1;32m    368\u001b[0m \u001b[39m# Replace the transformer of the step with the fitted\u001b[39;00m\n\u001b[1;32m    369\u001b[0m \u001b[39m# transformer. This is necessary when loading the transformer\u001b[39;00m\n\u001b[1;32m    370\u001b[0m \u001b[39m# from the cache.\u001b[39;00m\n\u001b[1;32m    371\u001b[0m \u001b[39mself\u001b[39m\u001b[39m.\u001b[39msteps[step_idx] \u001b[39m=\u001b[39m (name, fitted_transformer)\n",
      "File \u001b[0;32m~/Library/Python/3.8/lib/python/site-packages/joblib/memory.py:349\u001b[0m, in \u001b[0;36mNotMemorizedFunc.__call__\u001b[0;34m(self, *args, **kwargs)\u001b[0m\n\u001b[1;32m    348\u001b[0m \u001b[39mdef\u001b[39;00m \u001b[39m__call__\u001b[39m(\u001b[39mself\u001b[39m, \u001b[39m*\u001b[39margs, \u001b[39m*\u001b[39m\u001b[39m*\u001b[39mkwargs):\n\u001b[0;32m--> 349\u001b[0m     \u001b[39mreturn\u001b[39;00m \u001b[39mself\u001b[39;49m\u001b[39m.\u001b[39;49mfunc(\u001b[39m*\u001b[39;49margs, \u001b[39m*\u001b[39;49m\u001b[39m*\u001b[39;49mkwargs)\n",
      "File \u001b[0;32m~/Library/Python/3.8/lib/python/site-packages/sklearn/pipeline.py:893\u001b[0m, in \u001b[0;36m_fit_transform_one\u001b[0;34m(transformer, X, y, weight, message_clsname, message, **fit_params)\u001b[0m\n\u001b[1;32m    891\u001b[0m \u001b[39mwith\u001b[39;00m _print_elapsed_time(message_clsname, message):\n\u001b[1;32m    892\u001b[0m     \u001b[39mif\u001b[39;00m \u001b[39mhasattr\u001b[39m(transformer, \u001b[39m\"\u001b[39m\u001b[39mfit_transform\u001b[39m\u001b[39m\"\u001b[39m):\n\u001b[0;32m--> 893\u001b[0m         res \u001b[39m=\u001b[39m transformer\u001b[39m.\u001b[39;49mfit_transform(X, y, \u001b[39m*\u001b[39;49m\u001b[39m*\u001b[39;49mfit_params)\n\u001b[1;32m    894\u001b[0m     \u001b[39melse\u001b[39;00m:\n\u001b[1;32m    895\u001b[0m         res \u001b[39m=\u001b[39m transformer\u001b[39m.\u001b[39mfit(X, y, \u001b[39m*\u001b[39m\u001b[39m*\u001b[39mfit_params)\u001b[39m.\u001b[39mtransform(X)\n",
      "File \u001b[0;32m~/Library/Python/3.8/lib/python/site-packages/sklearn/utils/_set_output.py:142\u001b[0m, in \u001b[0;36m_wrap_method_output.<locals>.wrapped\u001b[0;34m(self, X, *args, **kwargs)\u001b[0m\n\u001b[1;32m    140\u001b[0m \u001b[39m@wraps\u001b[39m(f)\n\u001b[1;32m    141\u001b[0m \u001b[39mdef\u001b[39;00m \u001b[39mwrapped\u001b[39m(\u001b[39mself\u001b[39m, X, \u001b[39m*\u001b[39margs, \u001b[39m*\u001b[39m\u001b[39m*\u001b[39mkwargs):\n\u001b[0;32m--> 142\u001b[0m     data_to_wrap \u001b[39m=\u001b[39m f(\u001b[39mself\u001b[39;49m, X, \u001b[39m*\u001b[39;49margs, \u001b[39m*\u001b[39;49m\u001b[39m*\u001b[39;49mkwargs)\n\u001b[1;32m    143\u001b[0m     \u001b[39mif\u001b[39;00m \u001b[39misinstance\u001b[39m(data_to_wrap, \u001b[39mtuple\u001b[39m):\n\u001b[1;32m    144\u001b[0m         \u001b[39m# only wrap the first output for cross decomposition\u001b[39;00m\n\u001b[1;32m    145\u001b[0m         \u001b[39mreturn\u001b[39;00m (\n\u001b[1;32m    146\u001b[0m             _wrap_data_with_container(method, data_to_wrap[\u001b[39m0\u001b[39m], X, \u001b[39mself\u001b[39m),\n\u001b[1;32m    147\u001b[0m             \u001b[39m*\u001b[39mdata_to_wrap[\u001b[39m1\u001b[39m:],\n\u001b[1;32m    148\u001b[0m         )\n",
      "File \u001b[0;32m~/Library/Python/3.8/lib/python/site-packages/sklearn/compose/_column_transformer.py:724\u001b[0m, in \u001b[0;36mColumnTransformer.fit_transform\u001b[0;34m(self, X, y)\u001b[0m\n\u001b[1;32m    722\u001b[0m \u001b[39mself\u001b[39m\u001b[39m.\u001b[39m_check_n_features(X, reset\u001b[39m=\u001b[39m\u001b[39mTrue\u001b[39;00m)\n\u001b[1;32m    723\u001b[0m \u001b[39mself\u001b[39m\u001b[39m.\u001b[39m_validate_transformers()\n\u001b[0;32m--> 724\u001b[0m \u001b[39mself\u001b[39;49m\u001b[39m.\u001b[39;49m_validate_column_callables(X)\n\u001b[1;32m    725\u001b[0m \u001b[39mself\u001b[39m\u001b[39m.\u001b[39m_validate_remainder(X)\n\u001b[1;32m    727\u001b[0m result \u001b[39m=\u001b[39m \u001b[39mself\u001b[39m\u001b[39m.\u001b[39m_fit_transform(X, y, _fit_transform_one)\n",
      "File \u001b[0;32m~/Library/Python/3.8/lib/python/site-packages/sklearn/compose/_column_transformer.py:426\u001b[0m, in \u001b[0;36mColumnTransformer._validate_column_callables\u001b[0;34m(self, X)\u001b[0m\n\u001b[1;32m    424\u001b[0m         columns \u001b[39m=\u001b[39m columns(X)\n\u001b[1;32m    425\u001b[0m     all_columns\u001b[39m.\u001b[39mappend(columns)\n\u001b[0;32m--> 426\u001b[0m     transformer_to_input_indices[name] \u001b[39m=\u001b[39m _get_column_indices(X, columns)\n\u001b[1;32m    428\u001b[0m \u001b[39mself\u001b[39m\u001b[39m.\u001b[39m_columns \u001b[39m=\u001b[39m all_columns\n\u001b[1;32m    429\u001b[0m \u001b[39mself\u001b[39m\u001b[39m.\u001b[39m_transformer_to_input_indices \u001b[39m=\u001b[39m transformer_to_input_indices\n",
      "File \u001b[0;32m~/Library/Python/3.8/lib/python/site-packages/sklearn/utils/__init__.py:456\u001b[0m, in \u001b[0;36m_get_column_indices\u001b[0;34m(X, key)\u001b[0m\n\u001b[1;32m    453\u001b[0m             column_indices\u001b[39m.\u001b[39mappend(col_idx)\n\u001b[1;32m    455\u001b[0m     \u001b[39mexcept\u001b[39;00m \u001b[39mKeyError\u001b[39;00m \u001b[39mas\u001b[39;00m e:\n\u001b[0;32m--> 456\u001b[0m         \u001b[39mraise\u001b[39;00m \u001b[39mValueError\u001b[39;00m(\u001b[39m\"\u001b[39m\u001b[39mA given column is not a column of the dataframe\u001b[39m\u001b[39m\"\u001b[39m) \u001b[39mfrom\u001b[39;00m \u001b[39me\u001b[39;00m\n\u001b[1;32m    458\u001b[0m     \u001b[39mreturn\u001b[39;00m column_indices\n\u001b[1;32m    459\u001b[0m \u001b[39melse\u001b[39;00m:\n",
      "\u001b[0;31mValueError\u001b[0m: A given column is not a column of the dataframe"
     ]
    }
   ],
   "source": [
    "# Define the pipeline\n",
    "iso_forest_pipeline = Pipeline([\n",
    "    ('preprocessor', preprocessor),  # 'preprocessor' defined as before\n",
    "    ('model', IsolationForest(n_estimators=100, contamination='auto', random_state=42))\n",
    "])\n",
    "\n",
    "# Train the model using the pipeline\n",
    "iso_forest_pipeline.fit(X_train, y_train)\n",
    "\n",
    "# Predict on the validation set using the pipeline\n",
    "y_val_pred = iso_forest_pipeline.predict(X_val)\n",
    "# Convert predictions to match your labels (1 for normal, -1 for anomaly)\n",
    "y_val_pred = np.where(y_val_pred == 1, 0, 1)\n",
    "\n",
    "# Evaluate the model\n",
    "evaluation_results = evaluate_model(y_val, y_val_pred, ..., 'Isolation Forest')\n",
    "print(evaluation_results)\n"
   ]
  },
  {
   "cell_type": "markdown",
   "metadata": {},
   "source": [
    "#### 1. Baseline Model for Logistic Regression"
   ]
  },
  {
   "cell_type": "code",
   "execution_count": 7,
   "metadata": {},
   "outputs": [
    {
     "data": {
      "image/png": "[encoded data removed]",
      "text/plain": [
       "<Figure size 432x432 with 2 Axes>"
      ]
     },
     "metadata": {
      "needs_background": "light"
     },
     "output_type": "display_data"
    }
   ],
   "source": [
    "\n",
    "\n",
    "base_model = Pipeline(steps=[\n",
    "    ('preprocessor', preprocessor),\n",
    "    ('classifier', LogisticRegression(random_state=42))\n",
    "])\n",
    "\n",
    "base_model.fit(X_train, y_train)\n",
    "\n",
    "y_val_pred = base_model.predict(X_val)\n",
    "y_val_pred_prob = base_model.predict_proba(X_val)[:, 1] # probabilities for ROC AUC\n",
    "\n",
    "plot_confusion_matrix(y_true=y_val, y_pred=y_val_pred, model_name='Logistic Regression Baseline')"
   ]
  },
  {
   "cell_type": "code",
   "execution_count": 8,
   "metadata": {},
   "outputs": [
    {
     "data": {
      "text/html": [
       "<div>\n",
       "<style scoped>\n",
       "    .dataframe tbody tr th:only-of-type {\n",
       "        vertical-align: middle;\n",
       "    }\n",
       "\n",
       "    .dataframe tbody tr th {\n",
       "        vertical-align: top;\n",
       "    }\n",
       "\n",
       "    .dataframe thead th {\n",
       "        text-align: right;\n",
       "    }\n",
       "</style>\n",
       "<table border=\"1\" class=\"dataframe\">\n",
       "  <thead>\n",
       "    <tr style=\"text-align: right;\">\n",
       "      <th></th>\n",
       "      <th>Recall</th>\n",
       "      <th>Precision</th>\n",
       "      <th>F1 Score</th>\n",
       "      <th>Accuracy</th>\n",
       "      <th>ROC AUC</th>\n",
       "      <th>PR AUC</th>\n",
       "    </tr>\n",
       "  </thead>\n",
       "  <tbody>\n",
       "    <tr>\n",
       "      <th>Logistic Regression Baseline</th>\n",
       "      <td>0.025907</td>\n",
       "      <td>0.316456</td>\n",
       "      <td>0.047893</td>\n",
       "      <td>0.994634</td>\n",
       "      <td>0.824493</td>\n",
       "      <td>0.24604</td>\n",
       "    </tr>\n",
       "  </tbody>\n",
       "</table>\n",
       "</div>"
      ],
      "text/plain": [
       "                                Recall  Precision  F1 Score  Accuracy  \\\n",
       "Logistic Regression Baseline  0.025907   0.316456  0.047893  0.994634   \n",
       "\n",
       "                               ROC AUC   PR AUC  \n",
       "Logistic Regression Baseline  0.824493  0.24604  "
      ]
     },
     "execution_count": 8,
     "metadata": {},
     "output_type": "execute_result"
    }
   ],
   "source": [
    "base_model_results = evaluate_model(y_true=y_val,\n",
    "                                    y_pred=y_val_pred, \n",
    "                                    y_pred_prob=y_val_pred_prob,\n",
    "                                    model_name='Logistic Regression Baseline')\n",
    "base_model_results"
   ]
  },
  {
   "cell_type": "markdown",
   "metadata": {},
   "source": [
    "Low Recall (2.59%): Indicates the model is not good at catching fraudulent transactions (many false negatives).\n",
    "\n",
    "High Precision (31.65%): When it does predict fraud, it is correct about a third of the time.\n",
    "\n",
    "Very Low F1 Score (4.79%): The low recall severely impacts the F1 score, which is a balance of precision and recall.\n",
    "\n",
    "High Accuracy (99.46%): This is misleading due to the class imbalance; even predicting 'No Fraud' for all transactions could yield high accuracy.\n",
    "\n",
    "Decent ROC AUC (82.45%): Suggests some ability to distinguish between classes, but this can be misleading in imbalanced settings.\n",
    "\n",
    "Moderate PR AUC (24.60%): More relevant than ROC AUC in imbalanced contexts, indicating moderate performance."
   ]
  },
  {
   "cell_type": "markdown",
   "metadata": {},
   "source": [
    "#### 2. Addressing Class Imbalance - Synthetic Minority Over-sampling Technique (SMOTE)\n",
    "Since our dataset exhibits significant class imbalance (i.e. non-fraudulent >> fraudulent transactions), this can lead to a model being biased towards the majority class, often resulting in poor detection of the minority class (i.e. fraudulent transactions). \n",
    "\n",
    "Unlike random oversampling, SMOTE generates synthetic samples rather than simply duplicating existing ones. This approach helps in creating a more diverse and representative sample of the minority class, potentially leading to better generalization Thereby aiding the model in learning patterns specific to fraudulent transactions. Leading to higher recall/sensitivity, making the model more capable of detecting actual fraud cases.\n",
    "\n",
    "ImbPipeline allows inclusion of resampling step within pipeline, ensuring that resampling only happens during training phase\n"
   ]
  },
  {
   "cell_type": "code",
   "execution_count": 9,
   "metadata": {},
   "outputs": [
    {
     "data": {
      "image/png": "[encoded data removed]",
      "text/plain": [
       "<Figure size 432x432 with 2 Axes>"
      ]
     },
     "metadata": {
      "needs_background": "light"
     },
     "output_type": "display_data"
    }
   ],
   "source": [
    "model_SMOTE = ImbPipeline(steps=[\n",
    "    ('preprocessor', preprocessor),\n",
    "    ('smote', SMOTE(random_state=42)),\n",
    "    ('classifier', LogisticRegression(random_state=42))\n",
    "])\n",
    "\n",
    "# train model_SMOTE\n",
    "model_SMOTE.fit(X_train, y_train.values.ravel())  # ensures y_train is in the correct format\n",
    "\n",
    "# Predict on the validation set\n",
    "y_val_pred = model_SMOTE.predict(X_val)\n",
    "y_val_pred_prob = model_SMOTE.predict_proba(X_val)[:, 1] # probabilities for ROC AUC\n",
    "\n",
    "plot_confusion_matrix(y_true=y_val, y_pred=y_val_pred, model_name='Logistic Regression with SMOTE')"
   ]
  },
  {
   "cell_type": "code",
   "execution_count": 10,
   "metadata": {},
   "outputs": [
    {
     "data": {
      "text/html": [
       "<div>\n",
       "<style scoped>\n",
       "    .dataframe tbody tr th:only-of-type {\n",
       "        vertical-align: middle;\n",
       "    }\n",
       "\n",
       "    .dataframe tbody tr th {\n",
       "        vertical-align: top;\n",
       "    }\n",
       "\n",
       "    .dataframe thead th {\n",
       "        text-align: right;\n",
       "    }\n",
       "</style>\n",
       "<table border=\"1\" class=\"dataframe\">\n",
       "  <thead>\n",
       "    <tr style=\"text-align: right;\">\n",
       "      <th></th>\n",
       "      <th>Recall</th>\n",
       "      <th>Precision</th>\n",
       "      <th>F1 Score</th>\n",
       "      <th>Accuracy</th>\n",
       "      <th>ROC AUC</th>\n",
       "      <th>PR AUC</th>\n",
       "    </tr>\n",
       "  </thead>\n",
       "  <tbody>\n",
       "    <tr>\n",
       "      <th>Logistic Regression with SMOTE</th>\n",
       "      <td>0.788601</td>\n",
       "      <td>0.034201</td>\n",
       "      <td>0.065558</td>\n",
       "      <td>0.882886</td>\n",
       "      <td>0.919856</td>\n",
       "      <td>0.146274</td>\n",
       "    </tr>\n",
       "  </tbody>\n",
       "</table>\n",
       "</div>"
      ],
      "text/plain": [
       "                                  Recall  Precision  F1 Score  Accuracy  \\\n",
       "Logistic Regression with SMOTE  0.788601   0.034201  0.065558  0.882886   \n",
       "\n",
       "                                 ROC AUC    PR AUC  \n",
       "Logistic Regression with SMOTE  0.919856  0.146274  "
      ]
     },
     "execution_count": 10,
     "metadata": {},
     "output_type": "execute_result"
    }
   ],
   "source": [
    "model_SMOTE_results = evaluate_model(y_true=y_val,\n",
    "                             y_pred=y_val_pred, \n",
    "                             y_pred_prob=y_val_pred_prob,\n",
    "                             model_name='Logistic Regression with SMOTE')\n",
    "model_SMOTE_results"
   ]
  },
  {
   "cell_type": "code",
   "execution_count": 11,
   "metadata": {},
   "outputs": [
    {
     "data": {
      "text/html": [
       "<div>\n",
       "<style scoped>\n",
       "    .dataframe tbody tr th:only-of-type {\n",
       "        vertical-align: middle;\n",
       "    }\n",
       "\n",
       "    .dataframe tbody tr th {\n",
       "        vertical-align: top;\n",
       "    }\n",
       "\n",
       "    .dataframe thead th {\n",
       "        text-align: right;\n",
       "    }\n",
       "</style>\n",
       "<table border=\"1\" class=\"dataframe\">\n",
       "  <thead>\n",
       "    <tr style=\"text-align: right;\">\n",
       "      <th></th>\n",
       "      <th>Recall</th>\n",
       "      <th>Precision</th>\n",
       "      <th>F1 Score</th>\n",
       "      <th>Accuracy</th>\n",
       "      <th>ROC AUC</th>\n",
       "      <th>PR AUC</th>\n",
       "    </tr>\n",
       "  </thead>\n",
       "  <tbody>\n",
       "    <tr>\n",
       "      <th>Logistic Regression Baseline</th>\n",
       "      <td>0.025907</td>\n",
       "      <td>0.316456</td>\n",
       "      <td>0.047893</td>\n",
       "      <td>0.994634</td>\n",
       "      <td>0.824493</td>\n",
       "      <td>0.246040</td>\n",
       "    </tr>\n",
       "    <tr>\n",
       "      <th>Logistic Regression with SMOTE</th>\n",
       "      <td>0.788601</td>\n",
       "      <td>0.034201</td>\n",
       "      <td>0.065558</td>\n",
       "      <td>0.882886</td>\n",
       "      <td>0.919856</td>\n",
       "      <td>0.146274</td>\n",
       "    </tr>\n",
       "  </tbody>\n",
       "</table>\n",
       "</div>"
      ],
      "text/plain": [
       "                                  Recall  Precision  F1 Score  Accuracy  \\\n",
       "Logistic Regression Baseline    0.025907   0.316456  0.047893  0.994634   \n",
       "Logistic Regression with SMOTE  0.788601   0.034201  0.065558  0.882886   \n",
       "\n",
       "                                 ROC AUC    PR AUC  \n",
       "Logistic Regression Baseline    0.824493  0.246040  \n",
       "Logistic Regression with SMOTE  0.919856  0.146274  "
      ]
     },
     "execution_count": 11,
     "metadata": {},
     "output_type": "execute_result"
    }
   ],
   "source": [
    "results_df = pd.concat([base_model_results, model_SMOTE_results],axis=0)\n",
    "results_df"
   ]
  },
  {
   "cell_type": "markdown",
   "metadata": {},
   "source": [
    "Much Higher Recall (78.86%): The model now catches a significantly higher proportion of fraud cases.\n",
    "\n",
    "Low Precision (3.42%): A large number of false positives, as many legitimate transactions are incorrectly flagged as fraud.\n",
    "\n",
    "Low F1 Score (6.56%): Despite the high recall, the F1 is still low due to very low precision.\n",
    "\n",
    "Lower Accuracy (88.29%): Reflects the increase in false positives.\n",
    "\n",
    "Higher ROC AUC (91.99%): Indicates better overall performance in distinguishing classes.\n",
    "\n",
    "Lower PR AUC (14.63%): Reflects the precision-recall trade-off; higher recall but much lower precision.\n",
    "\n",
    "**Analysis**:\n",
    "\n",
    "The introduction of SMOTE has significantly improved the model's ability to detect fraud (as seen in the increased recall), which is crucial in fraud detection. However, this has come at the cost of a large number of false positives (lower precision).\n",
    "\n",
    "The high number of false positives has reduced the overall accuracy and impacted the F1 score.\n",
    "The improvement in ROC AUC suggests better discrimination between classes, but the drop in PR AUC indicates issues with precision-recall balance, which is more critical in imbalanced datasets."
   ]
  },
  {
   "cell_type": "markdown",
   "metadata": {},
   "source": [
    "#### 3. Addressing Class Imbalance - SMOTE + Tomek Links (SMOTETomek)\n",
    "\n",
    "Combination of SMOTE and Tomek Links. While SMOTE helps to oversample the minority class, Tomek Links helps to undersample the majority class by removing Tomek links (pairs of nearly identical instances but of opposite classes).\n"
   ]
  },
  {
   "cell_type": "code",
   "execution_count": 12,
   "metadata": {},
   "outputs": [],
   "source": [
    "model_SMOTETomek = ImbPipeline([\n",
    "    ('preprocessor', preprocessor),  \n",
    "    ('smotetomek', SMOTETomek(random_state=42)),\n",
    "    ('classifier', LogisticRegression(random_state=42))\n",
    "])\n",
    "\n",
    "# train SMOTETomek model\n",
    "model_SMOTETomek.fit(X_train, y_train)\n",
    "\n",
    "# Predict on the validation set\n",
    "y_val_pred = model_SMOTETomek.predict(X_val)\n",
    "y_val_pred_prob = model_SMOTETomek.predict_proba(X_val)[:, 1]\n",
    "\n",
    "\n",
    "plot_confusion_matrix(y_val, y_val_pred, 'Logistic Regression with SMOTETomek')"
   ]
  },
  {
   "cell_type": "code",
   "execution_count": null,
   "metadata": {},
   "outputs": [],
   "source": [
    "model_SMOTETomek_results = evaluate_model(y_val, \n",
    "                                          y_val_pred, \n",
    "                                          y_val_pred_prob, \n",
    "                                          'Logistic Regression with SMOTETomek')\n",
    "model_SMOTETomek_results"
   ]
  },
  {
   "cell_type": "code",
   "execution_count": null,
   "metadata": {},
   "outputs": [],
   "source": [
    "results_df = pd.concat([results_df, model_SMOTETomek_results],axis=0)\n",
    "results_df"
   ]
  },
  {
   "cell_type": "markdown",
   "metadata": {},
   "source": [
    "#### 3. Threshold Tuning \n",
    "default threshold for LR = 0.5"
   ]
  },
  {
   "cell_type": "markdown",
   "metadata": {},
   "source": [
    "a. For Baseline Model"
   ]
  },
  {
   "cell_type": "code",
   "execution_count": null,
   "metadata": {},
   "outputs": [
    {
     "data": {
      "text/html": [
       "<div>\n",
       "<style scoped>\n",
       "    .dataframe tbody tr th:only-of-type {\n",
       "        vertical-align: middle;\n",
       "    }\n",
       "\n",
       "    .dataframe tbody tr th {\n",
       "        vertical-align: top;\n",
       "    }\n",
       "\n",
       "    .dataframe thead th {\n",
       "        text-align: right;\n",
       "    }\n",
       "</style>\n",
       "<table border=\"1\" class=\"dataframe\">\n",
       "  <thead>\n",
       "    <tr style=\"text-align: right;\">\n",
       "      <th></th>\n",
       "      <th>Recall</th>\n",
       "      <th>Precision</th>\n",
       "      <th>F1 Score</th>\n",
       "      <th>Accuracy</th>\n",
       "      <th>ROC AUC</th>\n",
       "      <th>PR AUC</th>\n",
       "    </tr>\n",
       "  </thead>\n",
       "  <tbody>\n",
       "    <tr>\n",
       "      <th>Logistic Regression Baseline after Tuning Threshold</th>\n",
       "      <td>0.360622</td>\n",
       "      <td>0.576159</td>\n",
       "      <td>0.443595</td>\n",
       "      <td>0.995287</td>\n",
       "      <td>0.824493</td>\n",
       "      <td>0.24604</td>\n",
       "    </tr>\n",
       "  </tbody>\n",
       "</table>\n",
       "</div>"
      ],
      "text/plain": [
       "                                                      Recall  Precision  \\\n",
       "Logistic Regression Baseline after Tuning Thres...  0.360622   0.576159   \n",
       "\n",
       "                                                    F1 Score  Accuracy  \\\n",
       "Logistic Regression Baseline after Tuning Thres...  0.443595  0.995287   \n",
       "\n",
       "                                                     ROC AUC   PR AUC  \n",
       "Logistic Regression Baseline after Tuning Thres...  0.824493  0.24604  "
      ]
     },
     "execution_count": 88,
     "metadata": {},
     "output_type": "execute_result"
    }
   ],
   "source": [
    "y_val_pred_prob_baseline = base_model.predict_proba(X_val)[:, 1]\n",
    "\n",
    "precision, recall, thresholds = precision_recall_curve(y_val, y_val_pred_prob_baseline)\n",
    "\n",
    "f1_scores_baseline = 2 * (precision * recall) / (precision + recall)\n",
    "f1_scores_baseline = np.nan_to_num(f1_scores_baseline) # handles division by zero\n",
    "\n",
    "best_f1_idx = np.argmax(f1_scores_baseline) # index of highest f1 score\n",
    "best_threshold = thresholds[best_f1_idx]\n",
    "best_f1_score = f1_scores_baseline[best_f1_idx]\n",
    "\n",
    "y_val_pred_adjusted_baseline = (y_val_pred_prob_baseline >= best_threshold).astype(int) # final predictions using the selected threshold\n",
    "\n",
    "base_model_threshold_tuned = evaluate_model(y_val, y_val_pred_adjusted_baseline, y_val_pred_prob_baseline, 'Logistic Regression Baseline after Tuning Threshold')\n",
    "base_model_threshold_tuned"
   ]
  },
  {
   "cell_type": "code",
   "execution_count": null,
   "metadata": {},
   "outputs": [
    {
     "data": {
      "image/png": "[encoded data removed]",
      "text/plain": [
       "<Figure size 576x432 with 1 Axes>"
      ]
     },
     "metadata": {
      "needs_background": "light"
     },
     "output_type": "display_data"
    },
    {
     "name": "stdout",
     "output_type": "stream",
     "text": [
      "Best Threshold: 0.09031713185058289\n",
      "Best F1 Score: 0.4435946462715106\n"
     ]
    },
    {
     "data": {
      "image/png": "[encoded data removed]",
      "text/plain": [
       "<Figure size 432x432 with 2 Axes>"
      ]
     },
     "metadata": {
      "needs_background": "light"
     },
     "output_type": "display_data"
    }
   ],
   "source": [
    "# Precision-Recall curve\n",
    "plt.figure(figsize=(8, 6))\n",
    "plt.plot(recall, precision, label='Precision-Recall Curve')\n",
    "plt.xlabel('Recall')\n",
    "plt.ylabel('Precision')\n",
    "plt.title('Precision-Recall Curve')\n",
    "plt.legend(loc=\"lower left\")\n",
    "plt.show()\n",
    "\n",
    "print(f\"Best Threshold: {best_threshold}\")\n",
    "print(f\"Best F1 Score: {best_f1_score}\")\n",
    "\n",
    "plot_confusion_matrix(y_val, y_val_pred_adjusted_baseline, 'Logistic Regression Baseline after Tuning Threshold')\n"
   ]
  },
  {
   "cell_type": "code",
   "execution_count": null,
   "metadata": {},
   "outputs": [
    {
     "data": {
      "text/html": [
       "<div>\n",
       "<style scoped>\n",
       "    .dataframe tbody tr th:only-of-type {\n",
       "        vertical-align: middle;\n",
       "    }\n",
       "\n",
       "    .dataframe tbody tr th {\n",
       "        vertical-align: top;\n",
       "    }\n",
       "\n",
       "    .dataframe thead th {\n",
       "        text-align: right;\n",
       "    }\n",
       "</style>\n",
       "<table border=\"1\" class=\"dataframe\">\n",
       "  <thead>\n",
       "    <tr style=\"text-align: right;\">\n",
       "      <th></th>\n",
       "      <th>Recall</th>\n",
       "      <th>Precision</th>\n",
       "      <th>F1 Score</th>\n",
       "      <th>Accuracy</th>\n",
       "      <th>ROC AUC</th>\n",
       "      <th>PR AUC</th>\n",
       "    </tr>\n",
       "  </thead>\n",
       "  <tbody>\n",
       "    <tr>\n",
       "      <th>Logistic Regression Baseline</th>\n",
       "      <td>0.025907</td>\n",
       "      <td>0.316456</td>\n",
       "      <td>0.047893</td>\n",
       "      <td>0.994634</td>\n",
       "      <td>0.824493</td>\n",
       "      <td>0.246040</td>\n",
       "    </tr>\n",
       "    <tr>\n",
       "      <th>Logistic Regression with SMOTE</th>\n",
       "      <td>0.788601</td>\n",
       "      <td>0.034201</td>\n",
       "      <td>0.065558</td>\n",
       "      <td>0.882886</td>\n",
       "      <td>0.919856</td>\n",
       "      <td>0.146274</td>\n",
       "    </tr>\n",
       "    <tr>\n",
       "      <th>Logistic Regression Baseline after Tuning Threshold</th>\n",
       "      <td>0.360622</td>\n",
       "      <td>0.576159</td>\n",
       "      <td>0.443595</td>\n",
       "      <td>0.995287</td>\n",
       "      <td>0.824493</td>\n",
       "      <td>0.246040</td>\n",
       "    </tr>\n",
       "  </tbody>\n",
       "</table>\n",
       "</div>"
      ],
      "text/plain": [
       "                                                      Recall  Precision  \\\n",
       "Logistic Regression Baseline                        0.025907   0.316456   \n",
       "Logistic Regression with SMOTE                      0.788601   0.034201   \n",
       "Logistic Regression Baseline after Tuning Thres...  0.360622   0.576159   \n",
       "\n",
       "                                                    F1 Score  Accuracy  \\\n",
       "Logistic Regression Baseline                        0.047893  0.994634   \n",
       "Logistic Regression with SMOTE                      0.065558  0.882886   \n",
       "Logistic Regression Baseline after Tuning Thres...  0.443595  0.995287   \n",
       "\n",
       "                                                     ROC AUC    PR AUC  \n",
       "Logistic Regression Baseline                        0.824493  0.246040  \n",
       "Logistic Regression with SMOTE                      0.919856  0.146274  \n",
       "Logistic Regression Baseline after Tuning Thres...  0.824493  0.246040  "
      ]
     },
     "execution_count": 93,
     "metadata": {},
     "output_type": "execute_result"
    }
   ],
   "source": [
    "results_df = pd.concat([results_df, base_model_threshold_tuned],axis=0)\n",
    "results_df"
   ]
  },
  {
   "cell_type": "markdown",
   "metadata": {},
   "source": [
    "b. For SMOTE model"
   ]
  },
  {
   "cell_type": "code",
   "execution_count": null,
   "metadata": {},
   "outputs": [
    {
     "data": {
      "text/html": [
       "<div>\n",
       "<style scoped>\n",
       "    .dataframe tbody tr th:only-of-type {\n",
       "        vertical-align: middle;\n",
       "    }\n",
       "\n",
       "    .dataframe tbody tr th {\n",
       "        vertical-align: top;\n",
       "    }\n",
       "\n",
       "    .dataframe thead th {\n",
       "        text-align: right;\n",
       "    }\n",
       "</style>\n",
       "<table border=\"1\" class=\"dataframe\">\n",
       "  <thead>\n",
       "    <tr style=\"text-align: right;\">\n",
       "      <th></th>\n",
       "      <th>Recall</th>\n",
       "      <th>Precision</th>\n",
       "      <th>F1 Score</th>\n",
       "      <th>Accuracy</th>\n",
       "      <th>ROC AUC</th>\n",
       "      <th>PR AUC</th>\n",
       "    </tr>\n",
       "  </thead>\n",
       "  <tbody>\n",
       "    <tr>\n",
       "      <th>Logistic Regression with SMOTE after Tuning Threshold</th>\n",
       "      <td>0.497409</td>\n",
       "      <td>0.226202</td>\n",
       "      <td>0.310982</td>\n",
       "      <td>0.988518</td>\n",
       "      <td>0.919856</td>\n",
       "      <td>0.146274</td>\n",
       "    </tr>\n",
       "  </tbody>\n",
       "</table>\n",
       "</div>"
      ],
      "text/plain": [
       "                                                      Recall  Precision  \\\n",
       "Logistic Regression with SMOTE after Tuning Thr...  0.497409   0.226202   \n",
       "\n",
       "                                                    F1 Score  Accuracy  \\\n",
       "Logistic Regression with SMOTE after Tuning Thr...  0.310982  0.988518   \n",
       "\n",
       "                                                     ROC AUC    PR AUC  \n",
       "Logistic Regression with SMOTE after Tuning Thr...  0.919856  0.146274  "
      ]
     },
     "execution_count": 92,
     "metadata": {},
     "output_type": "execute_result"
    }
   ],
   "source": [
    "y_val_pred_prob_smote = model_SMOTE.predict_proba(X_val)[:, 1]\n",
    "\n",
    "precision, recall, thresholds = precision_recall_curve(y_val, y_val_pred_prob_smote)\n",
    "\n",
    "f1_scores_smote = 2 * (precision * recall) / (precision + recall)\n",
    "f1_scores_smote = np.nan_to_num(f1_scores_smote) # handles division by zero\n",
    "\n",
    "best_f1_idx = np.argmax(f1_scores_smote) # index of highest f1 score\n",
    "best_threshold = thresholds[best_f1_idx]\n",
    "best_f1_score = f1_scores_smote[best_f1_idx]\n",
    "\n",
    "y_val_pred_adjusted_smote = (y_val_pred_prob_smote >= best_threshold).astype(int) # final predictions using the selected threshold\n",
    "\n",
    "smote_model_threshold_tuned = evaluate_model(y_val, y_val_pred_adjusted_smote, y_val_pred_prob_smote, 'Logistic Regression with SMOTE after Tuning Threshold')\n",
    "smote_model_threshold_tuned"
   ]
  },
  {
   "cell_type": "code",
   "execution_count": null,
   "metadata": {},
   "outputs": [
    {
     "data": {
      "image/png": "[encoded data removed]",
      "text/plain": [
       "<Figure size 576x432 with 1 Axes>"
      ]
     },
     "metadata": {
      "needs_background": "light"
     },
     "output_type": "display_data"
    },
    {
     "name": "stdout",
     "output_type": "stream",
     "text": [
      "Best Threshold: 0.9340309054129825\n",
      "Best F1 Score: 0.3109815354713314\n"
     ]
    },
    {
     "data": {
      "image/png": "[encoded data removed]",
      "text/plain": [
       "<Figure size 432x432 with 2 Axes>"
      ]
     },
     "metadata": {
      "needs_background": "light"
     },
     "output_type": "display_data"
    }
   ],
   "source": [
    "# Precision-Recall curve\n",
    "plt.figure(figsize=(8, 6))\n",
    "plt.plot(recall, precision, label='Precision-Recall Curve')\n",
    "plt.xlabel('Recall')\n",
    "plt.ylabel('Precision')\n",
    "plt.title('Precision-Recall Curve')\n",
    "plt.legend(loc=\"lower left\")\n",
    "plt.show()\n",
    "\n",
    "print(f\"Best Threshold: {best_threshold}\")\n",
    "print(f\"Best F1 Score: {best_f1_score}\")\n",
    "\n",
    "plot_confusion_matrix(y_val, y_val_pred_adjusted_smote, 'Logistic Regression with SMOTE after Tuning Threshold')\n"
   ]
  },
  {
   "cell_type": "markdown",
   "metadata": {},
   "source": [
    "update results dataframe"
   ]
  },
  {
   "cell_type": "code",
   "execution_count": null,
   "metadata": {},
   "outputs": [
    {
     "data": {
      "text/html": [
       "<div>\n",
       "<style scoped>\n",
       "    .dataframe tbody tr th:only-of-type {\n",
       "        vertical-align: middle;\n",
       "    }\n",
       "\n",
       "    .dataframe tbody tr th {\n",
       "        vertical-align: top;\n",
       "    }\n",
       "\n",
       "    .dataframe thead th {\n",
       "        text-align: right;\n",
       "    }\n",
       "</style>\n",
       "<table border=\"1\" class=\"dataframe\">\n",
       "  <thead>\n",
       "    <tr style=\"text-align: right;\">\n",
       "      <th></th>\n",
       "      <th>Recall</th>\n",
       "      <th>Precision</th>\n",
       "      <th>F1 Score</th>\n",
       "      <th>Accuracy</th>\n",
       "      <th>ROC AUC</th>\n",
       "      <th>PR AUC</th>\n",
       "    </tr>\n",
       "  </thead>\n",
       "  <tbody>\n",
       "    <tr>\n",
       "      <th>Logistic Regression Baseline</th>\n",
       "      <td>0.025907</td>\n",
       "      <td>0.316456</td>\n",
       "      <td>0.047893</td>\n",
       "      <td>0.994634</td>\n",
       "      <td>0.824493</td>\n",
       "      <td>0.246040</td>\n",
       "    </tr>\n",
       "    <tr>\n",
       "      <th>Logistic Regression with SMOTE</th>\n",
       "      <td>0.788601</td>\n",
       "      <td>0.034201</td>\n",
       "      <td>0.065558</td>\n",
       "      <td>0.882886</td>\n",
       "      <td>0.919856</td>\n",
       "      <td>0.146274</td>\n",
       "    </tr>\n",
       "    <tr>\n",
       "      <th>Logistic Regression Baseline after Tuning Threshold</th>\n",
       "      <td>0.360622</td>\n",
       "      <td>0.576159</td>\n",
       "      <td>0.443595</td>\n",
       "      <td>0.995287</td>\n",
       "      <td>0.824493</td>\n",
       "      <td>0.246040</td>\n",
       "    </tr>\n",
       "    <tr>\n",
       "      <th>Logistic Regression with SMOTE after Tuning Threshold</th>\n",
       "      <td>0.497409</td>\n",
       "      <td>0.226202</td>\n",
       "      <td>0.310982</td>\n",
       "      <td>0.988518</td>\n",
       "      <td>0.919856</td>\n",
       "      <td>0.146274</td>\n",
       "    </tr>\n",
       "  </tbody>\n",
       "</table>\n",
       "</div>"
      ],
      "text/plain": [
       "                                                      Recall  Precision  \\\n",
       "Logistic Regression Baseline                        0.025907   0.316456   \n",
       "Logistic Regression with SMOTE                      0.788601   0.034201   \n",
       "Logistic Regression Baseline after Tuning Thres...  0.360622   0.576159   \n",
       "Logistic Regression with SMOTE after Tuning Thr...  0.497409   0.226202   \n",
       "\n",
       "                                                    F1 Score  Accuracy  \\\n",
       "Logistic Regression Baseline                        0.047893  0.994634   \n",
       "Logistic Regression with SMOTE                      0.065558  0.882886   \n",
       "Logistic Regression Baseline after Tuning Thres...  0.443595  0.995287   \n",
       "Logistic Regression with SMOTE after Tuning Thr...  0.310982  0.988518   \n",
       "\n",
       "                                                     ROC AUC    PR AUC  \n",
       "Logistic Regression Baseline                        0.824493  0.246040  \n",
       "Logistic Regression with SMOTE                      0.919856  0.146274  \n",
       "Logistic Regression Baseline after Tuning Thres...  0.824493  0.246040  \n",
       "Logistic Regression with SMOTE after Tuning Thr...  0.919856  0.146274  "
      ]
     },
     "execution_count": 94,
     "metadata": {},
     "output_type": "execute_result"
    }
   ],
   "source": [
    "results_df = pd.concat([results_df, smote_model_threshold_tuned],axis=0)\n",
    "results_df"
   ]
  },
  {
   "cell_type": "code",
   "execution_count": null,
   "metadata": {},
   "outputs": [],
   "source": []
  }
 ],
 "metadata": {
  "kernelspec": {
   "display_name": "Python 3",
   "language": "python",
   "name": "python3"
  },
  "language_info": {
   "codemirror_mode": {
    "name": "ipython",
    "version": 3
   },
   "file_extension": ".py",
   "mimetype": "text/x-python",
   "name": "python",
   "nbconvert_exporter": "python",
   "pygments_lexer": "ipython3",
   "version": "3.8.9"
  }
 },
 "nbformat": 4,
 "nbformat_minor": 2
}
