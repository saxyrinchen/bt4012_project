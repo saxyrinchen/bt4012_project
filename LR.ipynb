{
 "cells": [
  {
   "cell_type": "markdown",
   "metadata": {},
   "source": [
    "#### Necessary Libraries"
   ]
  },
  {
   "cell_type": "code",
   "execution_count": 66,
   "metadata": {},
   "outputs": [],
   "source": [
    "import warnings\n",
    "warnings.filterwarnings(\"ignore\")\n",
    "\n",
    "import pandas as pd\n",
    "import numpy as np\n",
    "import matplotlib.pyplot as plt\n",
    "import matplotlib.cm as cm\n",
    "from random import seed,sample\n",
    "import datetime as dt\n",
    "from datetime import datetime\n",
    "import seaborn as sns\n",
    "\n",
    "import scipy.stats as stats\n",
    "\n",
    "from sklearn.model_selection import train_test_split, RandomizedSearchCV\n",
    "\n",
    "# pipeline\n",
    "from sklearn.pipeline import Pipeline\n",
    "from sklearn.impute import SimpleImputer\n",
    "\n",
    "# feature scaling & OHE\n",
    "from sklearn.compose import ColumnTransformer\n",
    "from sklearn.preprocessing import StandardScaler, OneHotEncoder, MinMaxScaler # data encoders\n",
    "\n",
    "# moodels \n",
    "from sklearn.linear_model import LogisticRegression\n",
    "# evaluation metrics\n",
    "from sklearn.metrics import accuracy_score, precision_score, recall_score, f1_score, roc_curve, auc, roc_auc_score, confusion_matrix, classification_report, average_precision_score, precision_recall_curve\n",
    "\n",
    "# resampling techniques for imbalanced data\n",
    "from imblearn.under_sampling import RandomUnderSampler\n",
    "from imblearn.over_sampling import SMOTE, RandomOverSampler #\n",
    "from imblearn.pipeline import Pipeline as ImbPipeline\n",
    "from imblearn.combine import SMOTETomek\n",
    "\n",
    "# formatting \n",
    "%matplotlib inline\n",
    "pd.set_option('display.max_columns', 500)"
   ]
  },
  {
   "cell_type": "markdown",
   "metadata": {},
   "source": [
    "#### Reading Data \n",
    "- Training Datasets: X_train, y_train\n",
    "- Validation Datasets: X_val, y_val\n",
    "\n",
    "*Note: they are in a folder one level higher than current folder*"
   ]
  },
  {
   "cell_type": "code",
   "execution_count": 67,
   "metadata": {},
   "outputs": [],
   "source": [
    "X_train = pd.read_csv('../X_train.csv')\n",
    "X_val = pd.read_csv('../X_val.csv')\n",
    "y_train = pd.read_csv('../y_train.csv')\n",
    "y_val = pd.read_csv('../y_val.csv')\n",
    "\n",
    "# test set only for one-time assessment of final model\n",
    "X_test = pd.read_csv('../X_test.csv')\n",
    "y_test = pd.read_csv('../y_test.csv')"
   ]
  },
  {
   "cell_type": "code",
   "execution_count": 68,
   "metadata": {},
   "outputs": [
    {
     "data": {
      "text/html": [
       "<div>\n",
       "<style scoped>\n",
       "    .dataframe tbody tr th:only-of-type {\n",
       "        vertical-align: middle;\n",
       "    }\n",
       "\n",
       "    .dataframe tbody tr th {\n",
       "        vertical-align: top;\n",
       "    }\n",
       "\n",
       "    .dataframe thead th {\n",
       "        text-align: right;\n",
       "    }\n",
       "</style>\n",
       "<table border=\"1\" class=\"dataframe\">\n",
       "  <thead>\n",
       "    <tr style=\"text-align: right;\">\n",
       "      <th></th>\n",
       "      <th>hour_of_day</th>\n",
       "      <th>day_of_week</th>\n",
       "      <th>category</th>\n",
       "      <th>gender</th>\n",
       "      <th>age_group</th>\n",
       "      <th>state</th>\n",
       "      <th>job_category</th>\n",
       "      <th>distance</th>\n",
       "      <th>amount(usd)</th>\n",
       "    </tr>\n",
       "  </thead>\n",
       "  <tbody>\n",
       "    <tr>\n",
       "      <th>0</th>\n",
       "      <td>15</td>\n",
       "      <td>Monday</td>\n",
       "      <td>kids_pets</td>\n",
       "      <td>F</td>\n",
       "      <td>21-40</td>\n",
       "      <td>NY</td>\n",
       "      <td>C2</td>\n",
       "      <td>52.770575</td>\n",
       "      <td>75.72</td>\n",
       "    </tr>\n",
       "    <tr>\n",
       "      <th>1</th>\n",
       "      <td>10</td>\n",
       "      <td>Tuesday</td>\n",
       "      <td>gas_transport</td>\n",
       "      <td>F</td>\n",
       "      <td>41-60</td>\n",
       "      <td>CA</td>\n",
       "      <td>C2</td>\n",
       "      <td>68.181551</td>\n",
       "      <td>79.74</td>\n",
       "    </tr>\n",
       "    <tr>\n",
       "      <th>2</th>\n",
       "      <td>20</td>\n",
       "      <td>Monday</td>\n",
       "      <td>home</td>\n",
       "      <td>M</td>\n",
       "      <td>41-60</td>\n",
       "      <td>MT</td>\n",
       "      <td>C4</td>\n",
       "      <td>66.904380</td>\n",
       "      <td>74.92</td>\n",
       "    </tr>\n",
       "    <tr>\n",
       "      <th>3</th>\n",
       "      <td>0</td>\n",
       "      <td>Saturday</td>\n",
       "      <td>gas_transport</td>\n",
       "      <td>F</td>\n",
       "      <td>0-20</td>\n",
       "      <td>IL</td>\n",
       "      <td>C2</td>\n",
       "      <td>65.195819</td>\n",
       "      <td>44.30</td>\n",
       "    </tr>\n",
       "    <tr>\n",
       "      <th>4</th>\n",
       "      <td>18</td>\n",
       "      <td>Saturday</td>\n",
       "      <td>home</td>\n",
       "      <td>M</td>\n",
       "      <td>41-60</td>\n",
       "      <td>MD</td>\n",
       "      <td>C2</td>\n",
       "      <td>71.833218</td>\n",
       "      <td>28.02</td>\n",
       "    </tr>\n",
       "  </tbody>\n",
       "</table>\n",
       "</div>"
      ],
      "text/plain": [
       "   hour_of_day day_of_week       category gender age_group state job_category  \\\n",
       "0           15      Monday      kids_pets      F     21-40    NY           C2   \n",
       "1           10     Tuesday  gas_transport      F     41-60    CA           C2   \n",
       "2           20      Monday           home      M     41-60    MT           C4   \n",
       "3            0    Saturday  gas_transport      F      0-20    IL           C2   \n",
       "4           18    Saturday           home      M     41-60    MD           C2   \n",
       "\n",
       "    distance  amount(usd)  \n",
       "0  52.770575        75.72  \n",
       "1  68.181551        79.74  \n",
       "2  66.904380        74.92  \n",
       "3  65.195819        44.30  \n",
       "4  71.833218        28.02  "
      ]
     },
     "execution_count": 68,
     "metadata": {},
     "output_type": "execute_result"
    }
   ],
   "source": [
    "X_train.head()"
   ]
  },
  {
   "cell_type": "code",
   "execution_count": 69,
   "metadata": {},
   "outputs": [
    {
     "name": "stdout",
     "output_type": "stream",
     "text": [
      "X_train's Shape: (1481915, 9)\n",
      "X_val's Shape: (185239, 9)\n",
      "X_test's Shape: (185240, 9)\n"
     ]
    }
   ],
   "source": [
    "print(\"X_train's Shape:\",X_train.shape)\n",
    "print(\"X_val's Shape:\",X_val.shape)\n",
    "print(\"X_test's Shape:\",X_test.shape)"
   ]
  },
  {
   "cell_type": "markdown",
   "metadata": {},
   "source": [
    "#### Local Preprocessing\n",
    "\n",
    "Creating a **Pipeline*** for the following preprocessing steps:\n",
    "- Feature Scaling for Numerical Features\n",
    "- One-Hot Encoding for Categorical Features\n",
    "\n",
    "****Pipeline()** helps to streamline processes especially since we are refining our models using different techniques like under/oversampling, hyperparameter tuning, etc.*"
   ]
  },
  {
   "cell_type": "code",
   "execution_count": 70,
   "metadata": {},
   "outputs": [],
   "source": [
    "# numerical features - StandardScaler()\n",
    "numerical_cols = ['hour_of_day', 'distance', 'amount(usd)']\n",
    "numeric_transformer = Pipeline(steps=[\n",
    "    ('imputer', SimpleImputer(strategy='median')),\n",
    "    ('scaler', StandardScaler())])\n",
    "\n",
    "\n",
    "# categorical features - OneHotEncoder()\n",
    "categorical_cols = ['day_of_week', 'category', 'gender','age_group', 'state', 'job_category']\n",
    "categorical_transformer = Pipeline(steps=[\n",
    "    ('imputer', SimpleImputer(strategy='constant', fill_value='missing')),\n",
    "    ('onehot', OneHotEncoder(handle_unknown='ignore'))])\n",
    "\n",
    "# combining preprocessing pipelines for numeric and categorical features\n",
    "preprocessor = ColumnTransformer(\n",
    "    transformers=[\n",
    "        ('num', numeric_transformer, numerical_cols),\n",
    "        ('cat', categorical_transformer, categorical_cols)])"
   ]
  },
  {
   "cell_type": "markdown",
   "metadata": {},
   "source": [
    "#### Helper Functions for Evaluating Model Performance \n",
    "a. Evaluate Model using Recall, Precision, F1, Accuracy, ROC AUC, PR AUC\n",
    "\n",
    "b. Confusion Matrix showing TP,FP,TN,FN"
   ]
  },
  {
   "cell_type": "code",
   "execution_count": 71,
   "metadata": {},
   "outputs": [],
   "source": [
    "def evaluate_model(y_true, y_pred, y_pred_prob, model_name):\n",
    "    metrics = {\n",
    "        'Precision':precision_score(y_true, y_pred),\n",
    "        'Recall':recall_score(y_true, y_pred),\n",
    "        'F1 Score':f1_score(y_true, y_pred),\n",
    "        'PR AUC': average_precision_score(y_true, y_pred_prob), # precision-recall AUC\n",
    "        'ROC AUC': roc_auc_score(y_true, y_pred_prob)\n",
    "}\n",
    "\n",
    "    metrics_df = pd.DataFrame([metrics], index =[model_name])\n",
    "    return metrics_df\n",
    "\n",
    "def plot_confusion_matrix(y_true, y_pred, model_name):\n",
    "    cm = confusion_matrix(y_true, y_pred)\n",
    "    fig, ax = plt.subplots(figsize=(6, 6))\n",
    "    sns.heatmap(cm, annot=True, fmt='d', cmap='Blues', ax=ax)\n",
    "    ax.set_xlabel('Predicted labels')\n",
    "    ax.set_ylabel('True labels')\n",
    "    ax.set_title(model_name)\n",
    "    plt.show()"
   ]
  },
  {
   "cell_type": "markdown",
   "metadata": {},
   "source": [
    "#### 1. Baseline Model for Logistic Regression"
   ]
  },
  {
   "cell_type": "code",
   "execution_count": 72,
   "metadata": {},
   "outputs": [
    {
     "data": {
      "image/png": "[encoded data removed]",
      "text/plain": [
       "<Figure size 432x432 with 2 Axes>"
      ]
     },
     "metadata": {
      "needs_background": "light"
     },
     "output_type": "display_data"
    }
   ],
   "source": [
    "base_model = Pipeline(steps=[\n",
    "    ('preprocessor', preprocessor),\n",
    "    ('classifier', LogisticRegression(random_state=42))\n",
    "])\n",
    "\n",
    "base_model.fit(X_train, y_train)\n",
    "\n",
    "y_val_pred = base_model.predict(X_val)\n",
    "y_val_pred_prob = base_model.predict_proba(X_val)[:, 1] # probabilities for ROC AUC\n",
    "\n",
    "plot_confusion_matrix(y_true=y_val, y_pred=y_val_pred, model_name='Logistic Regression Baseline')"
   ]
  },
  {
   "cell_type": "code",
   "execution_count": 73,
   "metadata": {},
   "outputs": [
    {
     "data": {
      "text/html": [
       "<div>\n",
       "<style scoped>\n",
       "    .dataframe tbody tr th:only-of-type {\n",
       "        vertical-align: middle;\n",
       "    }\n",
       "\n",
       "    .dataframe tbody tr th {\n",
       "        vertical-align: top;\n",
       "    }\n",
       "\n",
       "    .dataframe thead th {\n",
       "        text-align: right;\n",
       "    }\n",
       "</style>\n",
       "<table border=\"1\" class=\"dataframe\">\n",
       "  <thead>\n",
       "    <tr style=\"text-align: right;\">\n",
       "      <th></th>\n",
       "      <th>Precision</th>\n",
       "      <th>Recall</th>\n",
       "      <th>F1 Score</th>\n",
       "      <th>PR AUC</th>\n",
       "      <th>ROC AUC</th>\n",
       "    </tr>\n",
       "  </thead>\n",
       "  <tbody>\n",
       "    <tr>\n",
       "      <th>Logistic Regression Baseline</th>\n",
       "      <td>0.057971</td>\n",
       "      <td>0.004145</td>\n",
       "      <td>0.007737</td>\n",
       "      <td>0.229586</td>\n",
       "      <td>0.816154</td>\n",
       "    </tr>\n",
       "  </tbody>\n",
       "</table>\n",
       "</div>"
      ],
      "text/plain": [
       "                              Precision    Recall  F1 Score    PR AUC  \\\n",
       "Logistic Regression Baseline   0.057971  0.004145  0.007737  0.229586   \n",
       "\n",
       "                               ROC AUC  \n",
       "Logistic Regression Baseline  0.816154  "
      ]
     },
     "execution_count": 73,
     "metadata": {},
     "output_type": "execute_result"
    }
   ],
   "source": [
    "base_model_results = evaluate_model(y_true=y_val,\n",
    "                                    y_pred=y_val_pred, \n",
    "                                    y_pred_prob=y_val_pred_prob,\n",
    "                                    model_name='Logistic Regression Baseline')\n",
    "base_model_results"
   ]
  },
  {
   "cell_type": "markdown",
   "metadata": {},
   "source": [
    "Insights"
   ]
  },
  {
   "cell_type": "markdown",
   "metadata": {},
   "source": [
    "#### 2. Addressing Class Imbalance \n",
    "**a. Synthetic Minority Over-sampling Technique (SMOTE)**\n",
    "\n",
    "Since our dataset exhibits significant class imbalance (i.e. non-fraudulent >> fraudulent transactions), this can lead to a model being biased towards the majority class, often resulting in poor detection of the minority class (i.e. fraudulent transactions). \n",
    "\n",
    "Unlike random oversampling, SMOTE generates synthetic samples rather than simply duplicating existing ones. This approach helps in creating a more diverse and representative sample of the minority class, potentially leading to better generalization Thereby aiding the model in learning patterns specific to fraudulent transactions. Leading to higher recall/sensitivity, making the model more capable of detecting actual fraud cases.\n",
    "\n",
    "ImbPipeline allows inclusion of resampling step within pipeline, ensuring that resampling only happens during training phase\n"
   ]
  },
  {
   "cell_type": "code",
   "execution_count": 74,
   "metadata": {},
   "outputs": [
    {
     "data": {
      "text/html": [
       "<style>#sk-container-id-6 {color: black;background-color: white;}#sk-container-id-6 pre{padding: 0;}#sk-container-id-6 div.sk-toggleable {background-color: white;}#sk-container-id-6 label.sk-toggleable__label {cursor: pointer;display: block;width: 100%;margin-bottom: 0;padding: 0.3em;box-sizing: border-box;text-align: center;}#sk-container-id-6 label.sk-toggleable__label-arrow:before {content: \"▸\";float: left;margin-right: 0.25em;color: #696969;}#sk-container-id-6 label.sk-toggleable__label-arrow:hover:before {color: black;}#sk-container-id-6 div.sk-estimator:hover label.sk-toggleable__label-arrow:before {color: black;}#sk-container-id-6 div.sk-toggleable__content {max-height: 0;max-width: 0;overflow: hidden;text-align: left;background-color: #f0f8ff;}#sk-container-id-6 div.sk-toggleable__content pre {margin: 0.2em;color: black;border-radius: 0.25em;background-color: #f0f8ff;}#sk-container-id-6 input.sk-toggleable__control:checked~div.sk-toggleable__content {max-height: 200px;max-width: 100%;overflow: auto;}#sk-container-id-6 input.sk-toggleable__control:checked~label.sk-toggleable__label-arrow:before {content: \"▾\";}#sk-container-id-6 div.sk-estimator input.sk-toggleable__control:checked~label.sk-toggleable__label {background-color: #d4ebff;}#sk-container-id-6 div.sk-label input.sk-toggleable__control:checked~label.sk-toggleable__label {background-color: #d4ebff;}#sk-container-id-6 input.sk-hidden--visually {border: 0;clip: rect(1px 1px 1px 1px);clip: rect(1px, 1px, 1px, 1px);height: 1px;margin: -1px;overflow: hidden;padding: 0;position: absolute;width: 1px;}#sk-container-id-6 div.sk-estimator {font-family: monospace;background-color: #f0f8ff;border: 1px dotted black;border-radius: 0.25em;box-sizing: border-box;margin-bottom: 0.5em;}#sk-container-id-6 div.sk-estimator:hover {background-color: #d4ebff;}#sk-container-id-6 div.sk-parallel-item::after {content: \"\";width: 100%;border-bottom: 1px solid gray;flex-grow: 1;}#sk-container-id-6 div.sk-label:hover label.sk-toggleable__label {background-color: #d4ebff;}#sk-container-id-6 div.sk-serial::before {content: \"\";position: absolute;border-left: 1px solid gray;box-sizing: border-box;top: 0;bottom: 0;left: 50%;z-index: 0;}#sk-container-id-6 div.sk-serial {display: flex;flex-direction: column;align-items: center;background-color: white;padding-right: 0.2em;padding-left: 0.2em;position: relative;}#sk-container-id-6 div.sk-item {position: relative;z-index: 1;}#sk-container-id-6 div.sk-parallel {display: flex;align-items: stretch;justify-content: center;background-color: white;position: relative;}#sk-container-id-6 div.sk-item::before, #sk-container-id-6 div.sk-parallel-item::before {content: \"\";position: absolute;border-left: 1px solid gray;box-sizing: border-box;top: 0;bottom: 0;left: 50%;z-index: -1;}#sk-container-id-6 div.sk-parallel-item {display: flex;flex-direction: column;z-index: 1;position: relative;background-color: white;}#sk-container-id-6 div.sk-parallel-item:first-child::after {align-self: flex-end;width: 50%;}#sk-container-id-6 div.sk-parallel-item:last-child::after {align-self: flex-start;width: 50%;}#sk-container-id-6 div.sk-parallel-item:only-child::after {width: 0;}#sk-container-id-6 div.sk-dashed-wrapped {border: 1px dashed gray;margin: 0 0.4em 0.5em 0.4em;box-sizing: border-box;padding-bottom: 0.4em;background-color: white;}#sk-container-id-6 div.sk-label label {font-family: monospace;font-weight: bold;display: inline-block;line-height: 1.2em;}#sk-container-id-6 div.sk-label-container {text-align: center;}#sk-container-id-6 div.sk-container {/* jupyter's `normalize.less` sets `[hidden] { display: none; }` but bootstrap.min.css set `[hidden] { display: none !important; }` so we also need the `!important` here to be able to override the default hidden behavior on the sphinx rendered scikit-learn.org. See: https://github.com/scikit-learn/scikit-learn/issues/21755 */display: inline-block !important;position: relative;}#sk-container-id-6 div.sk-text-repr-fallback {display: none;}</style><div id=\"sk-container-id-6\" class=\"sk-top-container\"><div class=\"sk-text-repr-fallback\"><pre>Pipeline(steps=[(&#x27;preprocessor&#x27;,\n",
       "                 ColumnTransformer(transformers=[(&#x27;num&#x27;,\n",
       "                                                  Pipeline(steps=[(&#x27;imputer&#x27;,\n",
       "                                                                   SimpleImputer(strategy=&#x27;median&#x27;)),\n",
       "                                                                  (&#x27;scaler&#x27;,\n",
       "                                                                   StandardScaler())]),\n",
       "                                                  [&#x27;hour_of_day&#x27;, &#x27;distance&#x27;,\n",
       "                                                   &#x27;amount(usd)&#x27;]),\n",
       "                                                 (&#x27;cat&#x27;,\n",
       "                                                  Pipeline(steps=[(&#x27;imputer&#x27;,\n",
       "                                                                   SimpleImputer(fill_value=&#x27;missing&#x27;,\n",
       "                                                                                 strategy=&#x27;constant&#x27;)),\n",
       "                                                                  (&#x27;onehot&#x27;,\n",
       "                                                                   OneHotEncoder(handle_unknown=&#x27;ignore&#x27;))]),\n",
       "                                                  [&#x27;day_of_week&#x27;, &#x27;category&#x27;,\n",
       "                                                   &#x27;gender&#x27;, &#x27;age_group&#x27;,\n",
       "                                                   &#x27;state&#x27;,\n",
       "                                                   &#x27;job_category&#x27;])])),\n",
       "                (&#x27;smote&#x27;, SMOTE(random_state=42)),\n",
       "                (&#x27;classifier&#x27;, LogisticRegression(random_state=42))])</pre><b>In a Jupyter environment, please rerun this cell to show the HTML representation or trust the notebook. <br />On GitHub, the HTML representation is unable to render, please try loading this page with nbviewer.org.</b></div><div class=\"sk-container\" hidden><div class=\"sk-item sk-dashed-wrapped\"><div class=\"sk-label-container\"><div class=\"sk-label sk-toggleable\"><input class=\"sk-toggleable__control sk-hidden--visually\" id=\"sk-estimator-id-50\" type=\"checkbox\" ><label for=\"sk-estimator-id-50\" class=\"sk-toggleable__label sk-toggleable__label-arrow\">Pipeline</label><div class=\"sk-toggleable__content\"><pre>Pipeline(steps=[(&#x27;preprocessor&#x27;,\n",
       "                 ColumnTransformer(transformers=[(&#x27;num&#x27;,\n",
       "                                                  Pipeline(steps=[(&#x27;imputer&#x27;,\n",
       "                                                                   SimpleImputer(strategy=&#x27;median&#x27;)),\n",
       "                                                                  (&#x27;scaler&#x27;,\n",
       "                                                                   StandardScaler())]),\n",
       "                                                  [&#x27;hour_of_day&#x27;, &#x27;distance&#x27;,\n",
       "                                                   &#x27;amount(usd)&#x27;]),\n",
       "                                                 (&#x27;cat&#x27;,\n",
       "                                                  Pipeline(steps=[(&#x27;imputer&#x27;,\n",
       "                                                                   SimpleImputer(fill_value=&#x27;missing&#x27;,\n",
       "                                                                                 strategy=&#x27;constant&#x27;)),\n",
       "                                                                  (&#x27;onehot&#x27;,\n",
       "                                                                   OneHotEncoder(handle_unknown=&#x27;ignore&#x27;))]),\n",
       "                                                  [&#x27;day_of_week&#x27;, &#x27;category&#x27;,\n",
       "                                                   &#x27;gender&#x27;, &#x27;age_group&#x27;,\n",
       "                                                   &#x27;state&#x27;,\n",
       "                                                   &#x27;job_category&#x27;])])),\n",
       "                (&#x27;smote&#x27;, SMOTE(random_state=42)),\n",
       "                (&#x27;classifier&#x27;, LogisticRegression(random_state=42))])</pre></div></div></div><div class=\"sk-serial\"><div class=\"sk-item sk-dashed-wrapped\"><div class=\"sk-label-container\"><div class=\"sk-label sk-toggleable\"><input class=\"sk-toggleable__control sk-hidden--visually\" id=\"sk-estimator-id-51\" type=\"checkbox\" ><label for=\"sk-estimator-id-51\" class=\"sk-toggleable__label sk-toggleable__label-arrow\">preprocessor: ColumnTransformer</label><div class=\"sk-toggleable__content\"><pre>ColumnTransformer(transformers=[(&#x27;num&#x27;,\n",
       "                                 Pipeline(steps=[(&#x27;imputer&#x27;,\n",
       "                                                  SimpleImputer(strategy=&#x27;median&#x27;)),\n",
       "                                                 (&#x27;scaler&#x27;, StandardScaler())]),\n",
       "                                 [&#x27;hour_of_day&#x27;, &#x27;distance&#x27;, &#x27;amount(usd)&#x27;]),\n",
       "                                (&#x27;cat&#x27;,\n",
       "                                 Pipeline(steps=[(&#x27;imputer&#x27;,\n",
       "                                                  SimpleImputer(fill_value=&#x27;missing&#x27;,\n",
       "                                                                strategy=&#x27;constant&#x27;)),\n",
       "                                                 (&#x27;onehot&#x27;,\n",
       "                                                  OneHotEncoder(handle_unknown=&#x27;ignore&#x27;))]),\n",
       "                                 [&#x27;day_of_week&#x27;, &#x27;category&#x27;, &#x27;gender&#x27;,\n",
       "                                  &#x27;age_group&#x27;, &#x27;state&#x27;, &#x27;job_category&#x27;])])</pre></div></div></div><div class=\"sk-parallel\"><div class=\"sk-parallel-item\"><div class=\"sk-item\"><div class=\"sk-label-container\"><div class=\"sk-label sk-toggleable\"><input class=\"sk-toggleable__control sk-hidden--visually\" id=\"sk-estimator-id-52\" type=\"checkbox\" ><label for=\"sk-estimator-id-52\" class=\"sk-toggleable__label sk-toggleable__label-arrow\">num</label><div class=\"sk-toggleable__content\"><pre>[&#x27;hour_of_day&#x27;, &#x27;distance&#x27;, &#x27;amount(usd)&#x27;]</pre></div></div></div><div class=\"sk-serial\"><div class=\"sk-item\"><div class=\"sk-serial\"><div class=\"sk-item\"><div class=\"sk-estimator sk-toggleable\"><input class=\"sk-toggleable__control sk-hidden--visually\" id=\"sk-estimator-id-53\" type=\"checkbox\" ><label for=\"sk-estimator-id-53\" class=\"sk-toggleable__label sk-toggleable__label-arrow\">SimpleImputer</label><div class=\"sk-toggleable__content\"><pre>SimpleImputer(strategy=&#x27;median&#x27;)</pre></div></div></div><div class=\"sk-item\"><div class=\"sk-estimator sk-toggleable\"><input class=\"sk-toggleable__control sk-hidden--visually\" id=\"sk-estimator-id-54\" type=\"checkbox\" ><label for=\"sk-estimator-id-54\" class=\"sk-toggleable__label sk-toggleable__label-arrow\">StandardScaler</label><div class=\"sk-toggleable__content\"><pre>StandardScaler()</pre></div></div></div></div></div></div></div></div><div class=\"sk-parallel-item\"><div class=\"sk-item\"><div class=\"sk-label-container\"><div class=\"sk-label sk-toggleable\"><input class=\"sk-toggleable__control sk-hidden--visually\" id=\"sk-estimator-id-55\" type=\"checkbox\" ><label for=\"sk-estimator-id-55\" class=\"sk-toggleable__label sk-toggleable__label-arrow\">cat</label><div class=\"sk-toggleable__content\"><pre>[&#x27;day_of_week&#x27;, &#x27;category&#x27;, &#x27;gender&#x27;, &#x27;age_group&#x27;, &#x27;state&#x27;, &#x27;job_category&#x27;]</pre></div></div></div><div class=\"sk-serial\"><div class=\"sk-item\"><div class=\"sk-serial\"><div class=\"sk-item\"><div class=\"sk-estimator sk-toggleable\"><input class=\"sk-toggleable__control sk-hidden--visually\" id=\"sk-estimator-id-56\" type=\"checkbox\" ><label for=\"sk-estimator-id-56\" class=\"sk-toggleable__label sk-toggleable__label-arrow\">SimpleImputer</label><div class=\"sk-toggleable__content\"><pre>SimpleImputer(fill_value=&#x27;missing&#x27;, strategy=&#x27;constant&#x27;)</pre></div></div></div><div class=\"sk-item\"><div class=\"sk-estimator sk-toggleable\"><input class=\"sk-toggleable__control sk-hidden--visually\" id=\"sk-estimator-id-57\" type=\"checkbox\" ><label for=\"sk-estimator-id-57\" class=\"sk-toggleable__label sk-toggleable__label-arrow\">OneHotEncoder</label><div class=\"sk-toggleable__content\"><pre>OneHotEncoder(handle_unknown=&#x27;ignore&#x27;)</pre></div></div></div></div></div></div></div></div></div></div><div class=\"sk-item\"><div class=\"sk-estimator sk-toggleable\"><input class=\"sk-toggleable__control sk-hidden--visually\" id=\"sk-estimator-id-58\" type=\"checkbox\" ><label for=\"sk-estimator-id-58\" class=\"sk-toggleable__label sk-toggleable__label-arrow\">SMOTE</label><div class=\"sk-toggleable__content\"><pre>SMOTE(random_state=42)</pre></div></div></div><div class=\"sk-item\"><div class=\"sk-estimator sk-toggleable\"><input class=\"sk-toggleable__control sk-hidden--visually\" id=\"sk-estimator-id-59\" type=\"checkbox\" ><label for=\"sk-estimator-id-59\" class=\"sk-toggleable__label sk-toggleable__label-arrow\">LogisticRegression</label><div class=\"sk-toggleable__content\"><pre>LogisticRegression(random_state=42)</pre></div></div></div></div></div></div></div>"
      ],
      "text/plain": [
       "Pipeline(steps=[('preprocessor',\n",
       "                 ColumnTransformer(transformers=[('num',\n",
       "                                                  Pipeline(steps=[('imputer',\n",
       "                                                                   SimpleImputer(strategy='median')),\n",
       "                                                                  ('scaler',\n",
       "                                                                   StandardScaler())]),\n",
       "                                                  ['hour_of_day', 'distance',\n",
       "                                                   'amount(usd)']),\n",
       "                                                 ('cat',\n",
       "                                                  Pipeline(steps=[('imputer',\n",
       "                                                                   SimpleImputer(fill_value='missing',\n",
       "                                                                                 strategy='constant')),\n",
       "                                                                  ('onehot',\n",
       "                                                                   OneHotEncoder(handle_unknown='ignore'))]),\n",
       "                                                  ['day_of_week', 'category',\n",
       "                                                   'gender', 'age_group',\n",
       "                                                   'state',\n",
       "                                                   'job_category'])])),\n",
       "                ('smote', SMOTE(random_state=42)),\n",
       "                ('classifier', LogisticRegression(random_state=42))])"
      ]
     },
     "execution_count": 74,
     "metadata": {},
     "output_type": "execute_result"
    }
   ],
   "source": [
    "model_SMOTE = ImbPipeline(steps=[\n",
    "    ('preprocessor', preprocessor),\n",
    "    ('smote', SMOTE(random_state=42)),\n",
    "    ('classifier', LogisticRegression(random_state=42))\n",
    "])\n",
    "\n",
    "# train model_SMOTE\n",
    "model_SMOTE.fit(X_train, y_train.values.ravel())  # ensures y_train is in the correct format"
   ]
  },
  {
   "cell_type": "code",
   "execution_count": 75,
   "metadata": {},
   "outputs": [
    {
     "data": {
      "image/png": "[encoded data removed]",
      "text/plain": [
       "<Figure size 432x432 with 2 Axes>"
      ]
     },
     "metadata": {
      "needs_background": "light"
     },
     "output_type": "display_data"
    }
   ],
   "source": [
    "# Predict on the validation set\n",
    "y_val_pred = model_SMOTE.predict(X_val)\n",
    "y_val_pred_prob = model_SMOTE.predict_proba(X_val)[:, 1] # probabilities for ROC AUC\n",
    "\n",
    "plot_confusion_matrix(y_true=y_val, y_pred=y_val_pred, model_name='Logistic Regression with SMOTE')"
   ]
  },
  {
   "cell_type": "code",
   "execution_count": 76,
   "metadata": {},
   "outputs": [
    {
     "data": {
      "text/html": [
       "<div>\n",
       "<style scoped>\n",
       "    .dataframe tbody tr th:only-of-type {\n",
       "        vertical-align: middle;\n",
       "    }\n",
       "\n",
       "    .dataframe tbody tr th {\n",
       "        vertical-align: top;\n",
       "    }\n",
       "\n",
       "    .dataframe thead th {\n",
       "        text-align: right;\n",
       "    }\n",
       "</style>\n",
       "<table border=\"1\" class=\"dataframe\">\n",
       "  <thead>\n",
       "    <tr style=\"text-align: right;\">\n",
       "      <th></th>\n",
       "      <th>Precision</th>\n",
       "      <th>Recall</th>\n",
       "      <th>F1 Score</th>\n",
       "      <th>PR AUC</th>\n",
       "      <th>ROC AUC</th>\n",
       "    </tr>\n",
       "  </thead>\n",
       "  <tbody>\n",
       "    <tr>\n",
       "      <th>Logistic Regression with SMOTE</th>\n",
       "      <td>0.030848</td>\n",
       "      <td>0.753368</td>\n",
       "      <td>0.05927</td>\n",
       "      <td>0.149548</td>\n",
       "      <td>0.912696</td>\n",
       "    </tr>\n",
       "  </tbody>\n",
       "</table>\n",
       "</div>"
      ],
      "text/plain": [
       "                                Precision    Recall  F1 Score    PR AUC  \\\n",
       "Logistic Regression with SMOTE   0.030848  0.753368   0.05927  0.149548   \n",
       "\n",
       "                                 ROC AUC  \n",
       "Logistic Regression with SMOTE  0.912696  "
      ]
     },
     "execution_count": 76,
     "metadata": {},
     "output_type": "execute_result"
    }
   ],
   "source": [
    "model_SMOTE_results = evaluate_model(y_true=y_val,\n",
    "                             y_pred=y_val_pred, \n",
    "                             y_pred_prob=y_val_pred_prob,\n",
    "                             model_name='Logistic Regression with SMOTE')\n",
    "model_SMOTE_results"
   ]
  },
  {
   "cell_type": "code",
   "execution_count": 77,
   "metadata": {},
   "outputs": [
    {
     "data": {
      "text/html": [
       "<div>\n",
       "<style scoped>\n",
       "    .dataframe tbody tr th:only-of-type {\n",
       "        vertical-align: middle;\n",
       "    }\n",
       "\n",
       "    .dataframe tbody tr th {\n",
       "        vertical-align: top;\n",
       "    }\n",
       "\n",
       "    .dataframe thead th {\n",
       "        text-align: right;\n",
       "    }\n",
       "</style>\n",
       "<table border=\"1\" class=\"dataframe\">\n",
       "  <thead>\n",
       "    <tr style=\"text-align: right;\">\n",
       "      <th></th>\n",
       "      <th>Precision</th>\n",
       "      <th>Recall</th>\n",
       "      <th>F1 Score</th>\n",
       "      <th>PR AUC</th>\n",
       "      <th>ROC AUC</th>\n",
       "    </tr>\n",
       "  </thead>\n",
       "  <tbody>\n",
       "    <tr>\n",
       "      <th>Logistic Regression Baseline</th>\n",
       "      <td>0.057971</td>\n",
       "      <td>0.004145</td>\n",
       "      <td>0.007737</td>\n",
       "      <td>0.229586</td>\n",
       "      <td>0.816154</td>\n",
       "    </tr>\n",
       "    <tr>\n",
       "      <th>Logistic Regression with SMOTE</th>\n",
       "      <td>0.030848</td>\n",
       "      <td>0.753368</td>\n",
       "      <td>0.059270</td>\n",
       "      <td>0.149548</td>\n",
       "      <td>0.912696</td>\n",
       "    </tr>\n",
       "  </tbody>\n",
       "</table>\n",
       "</div>"
      ],
      "text/plain": [
       "                                Precision    Recall  F1 Score    PR AUC  \\\n",
       "Logistic Regression Baseline     0.057971  0.004145  0.007737  0.229586   \n",
       "Logistic Regression with SMOTE   0.030848  0.753368  0.059270  0.149548   \n",
       "\n",
       "                                 ROC AUC  \n",
       "Logistic Regression Baseline    0.816154  \n",
       "Logistic Regression with SMOTE  0.912696  "
      ]
     },
     "execution_count": 77,
     "metadata": {},
     "output_type": "execute_result"
    }
   ],
   "source": [
    "results_df = pd.concat([base_model_results, model_SMOTE_results],axis=0)\n",
    "results_df"
   ]
  },
  {
   "cell_type": "markdown",
   "metadata": {},
   "source": [
    "**b. Random Undersampling**\n"
   ]
  },
  {
   "cell_type": "code",
   "execution_count": 78,
   "metadata": {},
   "outputs": [
    {
     "data": {
      "text/html": [
       "<style>#sk-container-id-7 {color: black;background-color: white;}#sk-container-id-7 pre{padding: 0;}#sk-container-id-7 div.sk-toggleable {background-color: white;}#sk-container-id-7 label.sk-toggleable__label {cursor: pointer;display: block;width: 100%;margin-bottom: 0;padding: 0.3em;box-sizing: border-box;text-align: center;}#sk-container-id-7 label.sk-toggleable__label-arrow:before {content: \"▸\";float: left;margin-right: 0.25em;color: #696969;}#sk-container-id-7 label.sk-toggleable__label-arrow:hover:before {color: black;}#sk-container-id-7 div.sk-estimator:hover label.sk-toggleable__label-arrow:before {color: black;}#sk-container-id-7 div.sk-toggleable__content {max-height: 0;max-width: 0;overflow: hidden;text-align: left;background-color: #f0f8ff;}#sk-container-id-7 div.sk-toggleable__content pre {margin: 0.2em;color: black;border-radius: 0.25em;background-color: #f0f8ff;}#sk-container-id-7 input.sk-toggleable__control:checked~div.sk-toggleable__content {max-height: 200px;max-width: 100%;overflow: auto;}#sk-container-id-7 input.sk-toggleable__control:checked~label.sk-toggleable__label-arrow:before {content: \"▾\";}#sk-container-id-7 div.sk-estimator input.sk-toggleable__control:checked~label.sk-toggleable__label {background-color: #d4ebff;}#sk-container-id-7 div.sk-label input.sk-toggleable__control:checked~label.sk-toggleable__label {background-color: #d4ebff;}#sk-container-id-7 input.sk-hidden--visually {border: 0;clip: rect(1px 1px 1px 1px);clip: rect(1px, 1px, 1px, 1px);height: 1px;margin: -1px;overflow: hidden;padding: 0;position: absolute;width: 1px;}#sk-container-id-7 div.sk-estimator {font-family: monospace;background-color: #f0f8ff;border: 1px dotted black;border-radius: 0.25em;box-sizing: border-box;margin-bottom: 0.5em;}#sk-container-id-7 div.sk-estimator:hover {background-color: #d4ebff;}#sk-container-id-7 div.sk-parallel-item::after {content: \"\";width: 100%;border-bottom: 1px solid gray;flex-grow: 1;}#sk-container-id-7 div.sk-label:hover label.sk-toggleable__label {background-color: #d4ebff;}#sk-container-id-7 div.sk-serial::before {content: \"\";position: absolute;border-left: 1px solid gray;box-sizing: border-box;top: 0;bottom: 0;left: 50%;z-index: 0;}#sk-container-id-7 div.sk-serial {display: flex;flex-direction: column;align-items: center;background-color: white;padding-right: 0.2em;padding-left: 0.2em;position: relative;}#sk-container-id-7 div.sk-item {position: relative;z-index: 1;}#sk-container-id-7 div.sk-parallel {display: flex;align-items: stretch;justify-content: center;background-color: white;position: relative;}#sk-container-id-7 div.sk-item::before, #sk-container-id-7 div.sk-parallel-item::before {content: \"\";position: absolute;border-left: 1px solid gray;box-sizing: border-box;top: 0;bottom: 0;left: 50%;z-index: -1;}#sk-container-id-7 div.sk-parallel-item {display: flex;flex-direction: column;z-index: 1;position: relative;background-color: white;}#sk-container-id-7 div.sk-parallel-item:first-child::after {align-self: flex-end;width: 50%;}#sk-container-id-7 div.sk-parallel-item:last-child::after {align-self: flex-start;width: 50%;}#sk-container-id-7 div.sk-parallel-item:only-child::after {width: 0;}#sk-container-id-7 div.sk-dashed-wrapped {border: 1px dashed gray;margin: 0 0.4em 0.5em 0.4em;box-sizing: border-box;padding-bottom: 0.4em;background-color: white;}#sk-container-id-7 div.sk-label label {font-family: monospace;font-weight: bold;display: inline-block;line-height: 1.2em;}#sk-container-id-7 div.sk-label-container {text-align: center;}#sk-container-id-7 div.sk-container {/* jupyter's `normalize.less` sets `[hidden] { display: none; }` but bootstrap.min.css set `[hidden] { display: none !important; }` so we also need the `!important` here to be able to override the default hidden behavior on the sphinx rendered scikit-learn.org. See: https://github.com/scikit-learn/scikit-learn/issues/21755 */display: inline-block !important;position: relative;}#sk-container-id-7 div.sk-text-repr-fallback {display: none;}</style><div id=\"sk-container-id-7\" class=\"sk-top-container\"><div class=\"sk-text-repr-fallback\"><pre>Pipeline(steps=[(&#x27;preprocessor&#x27;,\n",
       "                 ColumnTransformer(transformers=[(&#x27;num&#x27;,\n",
       "                                                  Pipeline(steps=[(&#x27;imputer&#x27;,\n",
       "                                                                   SimpleImputer(strategy=&#x27;median&#x27;)),\n",
       "                                                                  (&#x27;scaler&#x27;,\n",
       "                                                                   StandardScaler())]),\n",
       "                                                  [&#x27;hour_of_day&#x27;, &#x27;distance&#x27;,\n",
       "                                                   &#x27;amount(usd)&#x27;]),\n",
       "                                                 (&#x27;cat&#x27;,\n",
       "                                                  Pipeline(steps=[(&#x27;imputer&#x27;,\n",
       "                                                                   SimpleImputer(fill_value=&#x27;missing&#x27;,\n",
       "                                                                                 strategy=&#x27;constant&#x27;)),\n",
       "                                                                  (&#x27;onehot&#x27;,\n",
       "                                                                   OneHotEncoder(handle_unknown=&#x27;ignore&#x27;))]),\n",
       "                                                  [&#x27;day_of_week&#x27;, &#x27;category&#x27;,\n",
       "                                                   &#x27;gender&#x27;, &#x27;age_group&#x27;,\n",
       "                                                   &#x27;state&#x27;,\n",
       "                                                   &#x27;job_category&#x27;])])),\n",
       "                (&#x27;undersample&#x27;, RandomUnderSampler(random_state=42)),\n",
       "                (&#x27;classifier&#x27;, LogisticRegression(random_state=42))])</pre><b>In a Jupyter environment, please rerun this cell to show the HTML representation or trust the notebook. <br />On GitHub, the HTML representation is unable to render, please try loading this page with nbviewer.org.</b></div><div class=\"sk-container\" hidden><div class=\"sk-item sk-dashed-wrapped\"><div class=\"sk-label-container\"><div class=\"sk-label sk-toggleable\"><input class=\"sk-toggleable__control sk-hidden--visually\" id=\"sk-estimator-id-60\" type=\"checkbox\" ><label for=\"sk-estimator-id-60\" class=\"sk-toggleable__label sk-toggleable__label-arrow\">Pipeline</label><div class=\"sk-toggleable__content\"><pre>Pipeline(steps=[(&#x27;preprocessor&#x27;,\n",
       "                 ColumnTransformer(transformers=[(&#x27;num&#x27;,\n",
       "                                                  Pipeline(steps=[(&#x27;imputer&#x27;,\n",
       "                                                                   SimpleImputer(strategy=&#x27;median&#x27;)),\n",
       "                                                                  (&#x27;scaler&#x27;,\n",
       "                                                                   StandardScaler())]),\n",
       "                                                  [&#x27;hour_of_day&#x27;, &#x27;distance&#x27;,\n",
       "                                                   &#x27;amount(usd)&#x27;]),\n",
       "                                                 (&#x27;cat&#x27;,\n",
       "                                                  Pipeline(steps=[(&#x27;imputer&#x27;,\n",
       "                                                                   SimpleImputer(fill_value=&#x27;missing&#x27;,\n",
       "                                                                                 strategy=&#x27;constant&#x27;)),\n",
       "                                                                  (&#x27;onehot&#x27;,\n",
       "                                                                   OneHotEncoder(handle_unknown=&#x27;ignore&#x27;))]),\n",
       "                                                  [&#x27;day_of_week&#x27;, &#x27;category&#x27;,\n",
       "                                                   &#x27;gender&#x27;, &#x27;age_group&#x27;,\n",
       "                                                   &#x27;state&#x27;,\n",
       "                                                   &#x27;job_category&#x27;])])),\n",
       "                (&#x27;undersample&#x27;, RandomUnderSampler(random_state=42)),\n",
       "                (&#x27;classifier&#x27;, LogisticRegression(random_state=42))])</pre></div></div></div><div class=\"sk-serial\"><div class=\"sk-item sk-dashed-wrapped\"><div class=\"sk-label-container\"><div class=\"sk-label sk-toggleable\"><input class=\"sk-toggleable__control sk-hidden--visually\" id=\"sk-estimator-id-61\" type=\"checkbox\" ><label for=\"sk-estimator-id-61\" class=\"sk-toggleable__label sk-toggleable__label-arrow\">preprocessor: ColumnTransformer</label><div class=\"sk-toggleable__content\"><pre>ColumnTransformer(transformers=[(&#x27;num&#x27;,\n",
       "                                 Pipeline(steps=[(&#x27;imputer&#x27;,\n",
       "                                                  SimpleImputer(strategy=&#x27;median&#x27;)),\n",
       "                                                 (&#x27;scaler&#x27;, StandardScaler())]),\n",
       "                                 [&#x27;hour_of_day&#x27;, &#x27;distance&#x27;, &#x27;amount(usd)&#x27;]),\n",
       "                                (&#x27;cat&#x27;,\n",
       "                                 Pipeline(steps=[(&#x27;imputer&#x27;,\n",
       "                                                  SimpleImputer(fill_value=&#x27;missing&#x27;,\n",
       "                                                                strategy=&#x27;constant&#x27;)),\n",
       "                                                 (&#x27;onehot&#x27;,\n",
       "                                                  OneHotEncoder(handle_unknown=&#x27;ignore&#x27;))]),\n",
       "                                 [&#x27;day_of_week&#x27;, &#x27;category&#x27;, &#x27;gender&#x27;,\n",
       "                                  &#x27;age_group&#x27;, &#x27;state&#x27;, &#x27;job_category&#x27;])])</pre></div></div></div><div class=\"sk-parallel\"><div class=\"sk-parallel-item\"><div class=\"sk-item\"><div class=\"sk-label-container\"><div class=\"sk-label sk-toggleable\"><input class=\"sk-toggleable__control sk-hidden--visually\" id=\"sk-estimator-id-62\" type=\"checkbox\" ><label for=\"sk-estimator-id-62\" class=\"sk-toggleable__label sk-toggleable__label-arrow\">num</label><div class=\"sk-toggleable__content\"><pre>[&#x27;hour_of_day&#x27;, &#x27;distance&#x27;, &#x27;amount(usd)&#x27;]</pre></div></div></div><div class=\"sk-serial\"><div class=\"sk-item\"><div class=\"sk-serial\"><div class=\"sk-item\"><div class=\"sk-estimator sk-toggleable\"><input class=\"sk-toggleable__control sk-hidden--visually\" id=\"sk-estimator-id-63\" type=\"checkbox\" ><label for=\"sk-estimator-id-63\" class=\"sk-toggleable__label sk-toggleable__label-arrow\">SimpleImputer</label><div class=\"sk-toggleable__content\"><pre>SimpleImputer(strategy=&#x27;median&#x27;)</pre></div></div></div><div class=\"sk-item\"><div class=\"sk-estimator sk-toggleable\"><input class=\"sk-toggleable__control sk-hidden--visually\" id=\"sk-estimator-id-64\" type=\"checkbox\" ><label for=\"sk-estimator-id-64\" class=\"sk-toggleable__label sk-toggleable__label-arrow\">StandardScaler</label><div class=\"sk-toggleable__content\"><pre>StandardScaler()</pre></div></div></div></div></div></div></div></div><div class=\"sk-parallel-item\"><div class=\"sk-item\"><div class=\"sk-label-container\"><div class=\"sk-label sk-toggleable\"><input class=\"sk-toggleable__control sk-hidden--visually\" id=\"sk-estimator-id-65\" type=\"checkbox\" ><label for=\"sk-estimator-id-65\" class=\"sk-toggleable__label sk-toggleable__label-arrow\">cat</label><div class=\"sk-toggleable__content\"><pre>[&#x27;day_of_week&#x27;, &#x27;category&#x27;, &#x27;gender&#x27;, &#x27;age_group&#x27;, &#x27;state&#x27;, &#x27;job_category&#x27;]</pre></div></div></div><div class=\"sk-serial\"><div class=\"sk-item\"><div class=\"sk-serial\"><div class=\"sk-item\"><div class=\"sk-estimator sk-toggleable\"><input class=\"sk-toggleable__control sk-hidden--visually\" id=\"sk-estimator-id-66\" type=\"checkbox\" ><label for=\"sk-estimator-id-66\" class=\"sk-toggleable__label sk-toggleable__label-arrow\">SimpleImputer</label><div class=\"sk-toggleable__content\"><pre>SimpleImputer(fill_value=&#x27;missing&#x27;, strategy=&#x27;constant&#x27;)</pre></div></div></div><div class=\"sk-item\"><div class=\"sk-estimator sk-toggleable\"><input class=\"sk-toggleable__control sk-hidden--visually\" id=\"sk-estimator-id-67\" type=\"checkbox\" ><label for=\"sk-estimator-id-67\" class=\"sk-toggleable__label sk-toggleable__label-arrow\">OneHotEncoder</label><div class=\"sk-toggleable__content\"><pre>OneHotEncoder(handle_unknown=&#x27;ignore&#x27;)</pre></div></div></div></div></div></div></div></div></div></div><div class=\"sk-item\"><div class=\"sk-estimator sk-toggleable\"><input class=\"sk-toggleable__control sk-hidden--visually\" id=\"sk-estimator-id-68\" type=\"checkbox\" ><label for=\"sk-estimator-id-68\" class=\"sk-toggleable__label sk-toggleable__label-arrow\">RandomUnderSampler</label><div class=\"sk-toggleable__content\"><pre>RandomUnderSampler(random_state=42)</pre></div></div></div><div class=\"sk-item\"><div class=\"sk-estimator sk-toggleable\"><input class=\"sk-toggleable__control sk-hidden--visually\" id=\"sk-estimator-id-69\" type=\"checkbox\" ><label for=\"sk-estimator-id-69\" class=\"sk-toggleable__label sk-toggleable__label-arrow\">LogisticRegression</label><div class=\"sk-toggleable__content\"><pre>LogisticRegression(random_state=42)</pre></div></div></div></div></div></div></div>"
      ],
      "text/plain": [
       "Pipeline(steps=[('preprocessor',\n",
       "                 ColumnTransformer(transformers=[('num',\n",
       "                                                  Pipeline(steps=[('imputer',\n",
       "                                                                   SimpleImputer(strategy='median')),\n",
       "                                                                  ('scaler',\n",
       "                                                                   StandardScaler())]),\n",
       "                                                  ['hour_of_day', 'distance',\n",
       "                                                   'amount(usd)']),\n",
       "                                                 ('cat',\n",
       "                                                  Pipeline(steps=[('imputer',\n",
       "                                                                   SimpleImputer(fill_value='missing',\n",
       "                                                                                 strategy='constant')),\n",
       "                                                                  ('onehot',\n",
       "                                                                   OneHotEncoder(handle_unknown='ignore'))]),\n",
       "                                                  ['day_of_week', 'category',\n",
       "                                                   'gender', 'age_group',\n",
       "                                                   'state',\n",
       "                                                   'job_category'])])),\n",
       "                ('undersample', RandomUnderSampler(random_state=42)),\n",
       "                ('classifier', LogisticRegression(random_state=42))])"
      ]
     },
     "execution_count": 78,
     "metadata": {},
     "output_type": "execute_result"
    }
   ],
   "source": [
    "model_RUS = ImbPipeline(steps=[\n",
    "    ('preprocessor', preprocessor),\n",
    "    ('undersample', RandomUnderSampler(random_state=42)),\n",
    "    ('classifier', LogisticRegression(random_state=42))\n",
    "])\n",
    "\n",
    "# train model_RUS\n",
    "model_RUS.fit(X_train, y_train.values.ravel())  # ensures y_train is in the correct format"
   ]
  },
  {
   "cell_type": "code",
   "execution_count": 79,
   "metadata": {},
   "outputs": [
    {
     "data": {
      "image/png": "[encoded data removed]",
      "text/plain": [
       "<Figure size 432x432 with 2 Axes>"
      ]
     },
     "metadata": {
      "needs_background": "light"
     },
     "output_type": "display_data"
    }
   ],
   "source": [
    "# Predict on the validation set\n",
    "y_val_pred = model_RUS.predict(X_val)\n",
    "y_val_pred_prob = model_RUS.predict_proba(X_val)[:, 1] # probabilities for ROC AUC\n",
    "\n",
    "plot_confusion_matrix(y_true=y_val, y_pred=y_val_pred, model_name='Logistic Regression with Random Undersampling')"
   ]
  },
  {
   "cell_type": "code",
   "execution_count": 80,
   "metadata": {},
   "outputs": [
    {
     "data": {
      "text/html": [
       "<div>\n",
       "<style scoped>\n",
       "    .dataframe tbody tr th:only-of-type {\n",
       "        vertical-align: middle;\n",
       "    }\n",
       "\n",
       "    .dataframe tbody tr th {\n",
       "        vertical-align: top;\n",
       "    }\n",
       "\n",
       "    .dataframe thead th {\n",
       "        text-align: right;\n",
       "    }\n",
       "</style>\n",
       "<table border=\"1\" class=\"dataframe\">\n",
       "  <thead>\n",
       "    <tr style=\"text-align: right;\">\n",
       "      <th></th>\n",
       "      <th>Precision</th>\n",
       "      <th>Recall</th>\n",
       "      <th>F1 Score</th>\n",
       "      <th>PR AUC</th>\n",
       "      <th>ROC AUC</th>\n",
       "    </tr>\n",
       "  </thead>\n",
       "  <tbody>\n",
       "    <tr>\n",
       "      <th>Logistic Regression with Random Undersampling</th>\n",
       "      <td>0.031275</td>\n",
       "      <td>0.758549</td>\n",
       "      <td>0.060074</td>\n",
       "      <td>0.148303</td>\n",
       "      <td>0.912725</td>\n",
       "    </tr>\n",
       "  </tbody>\n",
       "</table>\n",
       "</div>"
      ],
      "text/plain": [
       "                                               Precision    Recall  F1 Score  \\\n",
       "Logistic Regression with Random Undersampling   0.031275  0.758549  0.060074   \n",
       "\n",
       "                                                 PR AUC   ROC AUC  \n",
       "Logistic Regression with Random Undersampling  0.148303  0.912725  "
      ]
     },
     "execution_count": 80,
     "metadata": {},
     "output_type": "execute_result"
    }
   ],
   "source": [
    "model_RUS_results = evaluate_model(y_true=y_val,\n",
    "                             y_pred=y_val_pred, \n",
    "                             y_pred_prob=y_val_pred_prob,\n",
    "                             model_name='Logistic Regression with Random Undersampling')\n",
    "model_RUS_results"
   ]
  },
  {
   "cell_type": "code",
   "execution_count": 81,
   "metadata": {},
   "outputs": [
    {
     "data": {
      "text/html": [
       "<div>\n",
       "<style scoped>\n",
       "    .dataframe tbody tr th:only-of-type {\n",
       "        vertical-align: middle;\n",
       "    }\n",
       "\n",
       "    .dataframe tbody tr th {\n",
       "        vertical-align: top;\n",
       "    }\n",
       "\n",
       "    .dataframe thead th {\n",
       "        text-align: right;\n",
       "    }\n",
       "</style>\n",
       "<table border=\"1\" class=\"dataframe\">\n",
       "  <thead>\n",
       "    <tr style=\"text-align: right;\">\n",
       "      <th></th>\n",
       "      <th>Precision</th>\n",
       "      <th>Recall</th>\n",
       "      <th>F1 Score</th>\n",
       "      <th>PR AUC</th>\n",
       "      <th>ROC AUC</th>\n",
       "    </tr>\n",
       "  </thead>\n",
       "  <tbody>\n",
       "    <tr>\n",
       "      <th>Logistic Regression Baseline</th>\n",
       "      <td>0.057971</td>\n",
       "      <td>0.004145</td>\n",
       "      <td>0.007737</td>\n",
       "      <td>0.229586</td>\n",
       "      <td>0.816154</td>\n",
       "    </tr>\n",
       "    <tr>\n",
       "      <th>Logistic Regression with SMOTE</th>\n",
       "      <td>0.030848</td>\n",
       "      <td>0.753368</td>\n",
       "      <td>0.059270</td>\n",
       "      <td>0.149548</td>\n",
       "      <td>0.912696</td>\n",
       "    </tr>\n",
       "    <tr>\n",
       "      <th>Logistic Regression with Random Undersampling</th>\n",
       "      <td>0.031275</td>\n",
       "      <td>0.758549</td>\n",
       "      <td>0.060074</td>\n",
       "      <td>0.148303</td>\n",
       "      <td>0.912725</td>\n",
       "    </tr>\n",
       "  </tbody>\n",
       "</table>\n",
       "</div>"
      ],
      "text/plain": [
       "                                               Precision    Recall  F1 Score  \\\n",
       "Logistic Regression Baseline                    0.057971  0.004145  0.007737   \n",
       "Logistic Regression with SMOTE                  0.030848  0.753368  0.059270   \n",
       "Logistic Regression with Random Undersampling   0.031275  0.758549  0.060074   \n",
       "\n",
       "                                                 PR AUC   ROC AUC  \n",
       "Logistic Regression Baseline                   0.229586  0.816154  \n",
       "Logistic Regression with SMOTE                 0.149548  0.912696  \n",
       "Logistic Regression with Random Undersampling  0.148303  0.912725  "
      ]
     },
     "execution_count": 81,
     "metadata": {},
     "output_type": "execute_result"
    }
   ],
   "source": [
    "results_df = pd.concat([results_df, model_RUS_results],axis=0)\n",
    "results_df"
   ]
  },
  {
   "cell_type": "markdown",
   "metadata": {},
   "source": [
    "**c. Random Oversampling**"
   ]
  },
  {
   "cell_type": "code",
   "execution_count": 82,
   "metadata": {},
   "outputs": [
    {
     "data": {
      "image/png": "[encoded data removed]",
      "text/plain": [
       "<Figure size 432x432 with 2 Axes>"
      ]
     },
     "metadata": {
      "needs_background": "light"
     },
     "output_type": "display_data"
    }
   ],
   "source": [
    "model_ROS = ImbPipeline(steps=[\n",
    "    ('preprocessor', preprocessor),\n",
    "    ('undersample', RandomOverSampler(random_state=42)),\n",
    "    ('classifier', LogisticRegression(random_state=42))\n",
    "])\n",
    "\n",
    "# train model_ROS\n",
    "model_ROS.fit(X_train, y_train.values.ravel())  # ensures y_train is in the correct format\n",
    "\n",
    "# Predict on the validation set\n",
    "y_val_pred = model_ROS.predict(X_val)\n",
    "y_val_pred_prob = model_ROS.predict_proba(X_val)[:, 1] # probabilities for ROC AUC\n",
    "\n",
    "plot_confusion_matrix(y_true=y_val, y_pred=y_val_pred, model_name='Logistic Regression with Random Oversampling')"
   ]
  },
  {
   "cell_type": "code",
   "execution_count": 83,
   "metadata": {},
   "outputs": [
    {
     "data": {
      "text/html": [
       "<div>\n",
       "<style scoped>\n",
       "    .dataframe tbody tr th:only-of-type {\n",
       "        vertical-align: middle;\n",
       "    }\n",
       "\n",
       "    .dataframe tbody tr th {\n",
       "        vertical-align: top;\n",
       "    }\n",
       "\n",
       "    .dataframe thead th {\n",
       "        text-align: right;\n",
       "    }\n",
       "</style>\n",
       "<table border=\"1\" class=\"dataframe\">\n",
       "  <thead>\n",
       "    <tr style=\"text-align: right;\">\n",
       "      <th></th>\n",
       "      <th>Precision</th>\n",
       "      <th>Recall</th>\n",
       "      <th>F1 Score</th>\n",
       "      <th>PR AUC</th>\n",
       "      <th>ROC AUC</th>\n",
       "    </tr>\n",
       "  </thead>\n",
       "  <tbody>\n",
       "    <tr>\n",
       "      <th>Logistic Regression with Random Oversampling</th>\n",
       "      <td>0.032579</td>\n",
       "      <td>0.756477</td>\n",
       "      <td>0.062468</td>\n",
       "      <td>0.150238</td>\n",
       "      <td>0.912446</td>\n",
       "    </tr>\n",
       "  </tbody>\n",
       "</table>\n",
       "</div>"
      ],
      "text/plain": [
       "                                              Precision    Recall  F1 Score  \\\n",
       "Logistic Regression with Random Oversampling   0.032579  0.756477  0.062468   \n",
       "\n",
       "                                                PR AUC   ROC AUC  \n",
       "Logistic Regression with Random Oversampling  0.150238  0.912446  "
      ]
     },
     "execution_count": 83,
     "metadata": {},
     "output_type": "execute_result"
    }
   ],
   "source": [
    "model_ROS_results = evaluate_model(y_true=y_val,\n",
    "                             y_pred=y_val_pred, \n",
    "                             y_pred_prob=y_val_pred_prob,\n",
    "                             model_name='Logistic Regression with Random Oversampling')\n",
    "model_ROS_results"
   ]
  },
  {
   "cell_type": "code",
   "execution_count": 84,
   "metadata": {},
   "outputs": [
    {
     "data": {
      "text/html": [
       "<div>\n",
       "<style scoped>\n",
       "    .dataframe tbody tr th:only-of-type {\n",
       "        vertical-align: middle;\n",
       "    }\n",
       "\n",
       "    .dataframe tbody tr th {\n",
       "        vertical-align: top;\n",
       "    }\n",
       "\n",
       "    .dataframe thead th {\n",
       "        text-align: right;\n",
       "    }\n",
       "</style>\n",
       "<table border=\"1\" class=\"dataframe\">\n",
       "  <thead>\n",
       "    <tr style=\"text-align: right;\">\n",
       "      <th></th>\n",
       "      <th>Precision</th>\n",
       "      <th>Recall</th>\n",
       "      <th>F1 Score</th>\n",
       "      <th>PR AUC</th>\n",
       "      <th>ROC AUC</th>\n",
       "    </tr>\n",
       "  </thead>\n",
       "  <tbody>\n",
       "    <tr>\n",
       "      <th>Logistic Regression Baseline</th>\n",
       "      <td>0.057971</td>\n",
       "      <td>0.004145</td>\n",
       "      <td>0.007737</td>\n",
       "      <td>0.229586</td>\n",
       "      <td>0.816154</td>\n",
       "    </tr>\n",
       "    <tr>\n",
       "      <th>Logistic Regression with SMOTE</th>\n",
       "      <td>0.030848</td>\n",
       "      <td>0.753368</td>\n",
       "      <td>0.059270</td>\n",
       "      <td>0.149548</td>\n",
       "      <td>0.912696</td>\n",
       "    </tr>\n",
       "    <tr>\n",
       "      <th>Logistic Regression with Random Undersampling</th>\n",
       "      <td>0.031275</td>\n",
       "      <td>0.758549</td>\n",
       "      <td>0.060074</td>\n",
       "      <td>0.148303</td>\n",
       "      <td>0.912725</td>\n",
       "    </tr>\n",
       "    <tr>\n",
       "      <th>Logistic Regression with Random Oversampling</th>\n",
       "      <td>0.032579</td>\n",
       "      <td>0.756477</td>\n",
       "      <td>0.062468</td>\n",
       "      <td>0.150238</td>\n",
       "      <td>0.912446</td>\n",
       "    </tr>\n",
       "  </tbody>\n",
       "</table>\n",
       "</div>"
      ],
      "text/plain": [
       "                                               Precision    Recall  F1 Score  \\\n",
       "Logistic Regression Baseline                    0.057971  0.004145  0.007737   \n",
       "Logistic Regression with SMOTE                  0.030848  0.753368  0.059270   \n",
       "Logistic Regression with Random Undersampling   0.031275  0.758549  0.060074   \n",
       "Logistic Regression with Random Oversampling    0.032579  0.756477  0.062468   \n",
       "\n",
       "                                                 PR AUC   ROC AUC  \n",
       "Logistic Regression Baseline                   0.229586  0.816154  \n",
       "Logistic Regression with SMOTE                 0.149548  0.912696  \n",
       "Logistic Regression with Random Undersampling  0.148303  0.912725  \n",
       "Logistic Regression with Random Oversampling   0.150238  0.912446  "
      ]
     },
     "execution_count": 84,
     "metadata": {},
     "output_type": "execute_result"
    }
   ],
   "source": [
    "results_df = pd.concat([results_df, model_ROS_results],axis=0)\n",
    "results_df"
   ]
  },
  {
   "cell_type": "markdown",
   "metadata": {},
   "source": [
    "## 3. Threshold Tuning\n",
    "default threshold for LR = 0.5"
   ]
  },
  {
   "cell_type": "markdown",
   "metadata": {},
   "source": [
    "a. For Baseline Model"
   ]
  },
  {
   "cell_type": "code",
   "execution_count": 85,
   "metadata": {},
   "outputs": [
    {
     "data": {
      "text/html": [
       "<div>\n",
       "<style scoped>\n",
       "    .dataframe tbody tr th:only-of-type {\n",
       "        vertical-align: middle;\n",
       "    }\n",
       "\n",
       "    .dataframe tbody tr th {\n",
       "        vertical-align: top;\n",
       "    }\n",
       "\n",
       "    .dataframe thead th {\n",
       "        text-align: right;\n",
       "    }\n",
       "</style>\n",
       "<table border=\"1\" class=\"dataframe\">\n",
       "  <thead>\n",
       "    <tr style=\"text-align: right;\">\n",
       "      <th></th>\n",
       "      <th>Precision</th>\n",
       "      <th>Recall</th>\n",
       "      <th>F1 Score</th>\n",
       "      <th>PR AUC</th>\n",
       "      <th>ROC AUC</th>\n",
       "    </tr>\n",
       "  </thead>\n",
       "  <tbody>\n",
       "    <tr>\n",
       "      <th>Logistic Regression Baseline after Tuning Threshold</th>\n",
       "      <td>0.535191</td>\n",
       "      <td>0.378238</td>\n",
       "      <td>0.44323</td>\n",
       "      <td>0.229586</td>\n",
       "      <td>0.816154</td>\n",
       "    </tr>\n",
       "  </tbody>\n",
       "</table>\n",
       "</div>"
      ],
      "text/plain": [
       "                                                    Precision    Recall  \\\n",
       "Logistic Regression Baseline after Tuning Thres...   0.535191  0.378238   \n",
       "\n",
       "                                                    F1 Score    PR AUC  \\\n",
       "Logistic Regression Baseline after Tuning Thres...   0.44323  0.229586   \n",
       "\n",
       "                                                     ROC AUC  \n",
       "Logistic Regression Baseline after Tuning Thres...  0.816154  "
      ]
     },
     "execution_count": 85,
     "metadata": {},
     "output_type": "execute_result"
    }
   ],
   "source": [
    "y_val_pred_prob_baseline = base_model.predict_proba(X_val)[:, 1]\n",
    "\n",
    "precision, recall, thresholds = precision_recall_curve(y_val, y_val_pred_prob_baseline)\n",
    "\n",
    "f1_scores_baseline = 2 * (precision * recall) / (precision + recall)\n",
    "f1_scores_baseline = np.nan_to_num(f1_scores_baseline) # handles division by zero\n",
    "\n",
    "best_f1_idx = np.argmax(f1_scores_baseline) # index of highest f1 score\n",
    "best_threshold = thresholds[best_f1_idx]\n",
    "best_f1_score = f1_scores_baseline[best_f1_idx]\n",
    "\n",
    "y_val_pred_adjusted_baseline = (y_val_pred_prob_baseline >= best_threshold).astype(int) # final predictions using the selected threshold\n",
    "\n",
    "base_model_threshold_tuned = evaluate_model(y_val, y_val_pred_adjusted_baseline, y_val_pred_prob_baseline, 'Logistic Regression Baseline after Tuning Threshold')\n",
    "base_model_threshold_tuned"
   ]
  },
  {
   "cell_type": "code",
   "execution_count": 86,
   "metadata": {},
   "outputs": [
    {
     "data": {
      "image/png": "[encoded data removed]",
      "text/plain": [
       "<Figure size 576x432 with 1 Axes>"
      ]
     },
     "metadata": {
      "needs_background": "light"
     },
     "output_type": "display_data"
    },
    {
     "name": "stdout",
     "output_type": "stream",
     "text": [
      "Best Threshold: 0.07070673271326297\n",
      "Best F1 Score: 0.4432301153612629\n"
     ]
    },
    {
     "data": {
      "image/png": "[encoded data removed]",
      "text/plain": [
       "<Figure size 432x432 with 2 Axes>"
      ]
     },
     "metadata": {
      "needs_background": "light"
     },
     "output_type": "display_data"
    }
   ],
   "source": [
    "# Precision-Recall curve\n",
    "plt.figure(figsize=(8, 6))\n",
    "plt.plot(recall, precision, label='Precision-Recall Curve')\n",
    "plt.xlabel('Recall')\n",
    "plt.ylabel('Precision')\n",
    "plt.title('Precision-Recall Curve')\n",
    "plt.legend(loc=\"lower left\")\n",
    "plt.show()\n",
    "\n",
    "print(f\"Best Threshold: {best_threshold}\")\n",
    "print(f\"Best F1 Score: {best_f1_score}\")\n",
    "\n",
    "plot_confusion_matrix(y_val, y_val_pred_adjusted_baseline, 'Logistic Regression Baseline after Tuning Threshold')\n"
   ]
  },
  {
   "cell_type": "code",
   "execution_count": 87,
   "metadata": {},
   "outputs": [
    {
     "data": {
      "text/html": [
       "<div>\n",
       "<style scoped>\n",
       "    .dataframe tbody tr th:only-of-type {\n",
       "        vertical-align: middle;\n",
       "    }\n",
       "\n",
       "    .dataframe tbody tr th {\n",
       "        vertical-align: top;\n",
       "    }\n",
       "\n",
       "    .dataframe thead th {\n",
       "        text-align: right;\n",
       "    }\n",
       "</style>\n",
       "<table border=\"1\" class=\"dataframe\">\n",
       "  <thead>\n",
       "    <tr style=\"text-align: right;\">\n",
       "      <th></th>\n",
       "      <th>Precision</th>\n",
       "      <th>Recall</th>\n",
       "      <th>F1 Score</th>\n",
       "      <th>PR AUC</th>\n",
       "      <th>ROC AUC</th>\n",
       "    </tr>\n",
       "  </thead>\n",
       "  <tbody>\n",
       "    <tr>\n",
       "      <th>Logistic Regression Baseline</th>\n",
       "      <td>0.057971</td>\n",
       "      <td>0.004145</td>\n",
       "      <td>0.007737</td>\n",
       "      <td>0.229586</td>\n",
       "      <td>0.816154</td>\n",
       "    </tr>\n",
       "    <tr>\n",
       "      <th>Logistic Regression with SMOTE</th>\n",
       "      <td>0.030848</td>\n",
       "      <td>0.753368</td>\n",
       "      <td>0.059270</td>\n",
       "      <td>0.149548</td>\n",
       "      <td>0.912696</td>\n",
       "    </tr>\n",
       "    <tr>\n",
       "      <th>Logistic Regression with Random Undersampling</th>\n",
       "      <td>0.031275</td>\n",
       "      <td>0.758549</td>\n",
       "      <td>0.060074</td>\n",
       "      <td>0.148303</td>\n",
       "      <td>0.912725</td>\n",
       "    </tr>\n",
       "    <tr>\n",
       "      <th>Logistic Regression with Random Oversampling</th>\n",
       "      <td>0.032579</td>\n",
       "      <td>0.756477</td>\n",
       "      <td>0.062468</td>\n",
       "      <td>0.150238</td>\n",
       "      <td>0.912446</td>\n",
       "    </tr>\n",
       "    <tr>\n",
       "      <th>Logistic Regression Baseline after Tuning Threshold</th>\n",
       "      <td>0.535191</td>\n",
       "      <td>0.378238</td>\n",
       "      <td>0.443230</td>\n",
       "      <td>0.229586</td>\n",
       "      <td>0.816154</td>\n",
       "    </tr>\n",
       "  </tbody>\n",
       "</table>\n",
       "</div>"
      ],
      "text/plain": [
       "                                                    Precision    Recall  \\\n",
       "Logistic Regression Baseline                         0.057971  0.004145   \n",
       "Logistic Regression with SMOTE                       0.030848  0.753368   \n",
       "Logistic Regression with Random Undersampling        0.031275  0.758549   \n",
       "Logistic Regression with Random Oversampling         0.032579  0.756477   \n",
       "Logistic Regression Baseline after Tuning Thres...   0.535191  0.378238   \n",
       "\n",
       "                                                    F1 Score    PR AUC  \\\n",
       "Logistic Regression Baseline                        0.007737  0.229586   \n",
       "Logistic Regression with SMOTE                      0.059270  0.149548   \n",
       "Logistic Regression with Random Undersampling       0.060074  0.148303   \n",
       "Logistic Regression with Random Oversampling        0.062468  0.150238   \n",
       "Logistic Regression Baseline after Tuning Thres...  0.443230  0.229586   \n",
       "\n",
       "                                                     ROC AUC  \n",
       "Logistic Regression Baseline                        0.816154  \n",
       "Logistic Regression with SMOTE                      0.912696  \n",
       "Logistic Regression with Random Undersampling       0.912725  \n",
       "Logistic Regression with Random Oversampling        0.912446  \n",
       "Logistic Regression Baseline after Tuning Thres...  0.816154  "
      ]
     },
     "execution_count": 87,
     "metadata": {},
     "output_type": "execute_result"
    }
   ],
   "source": [
    "results_df = pd.concat([results_df, base_model_threshold_tuned],axis=0)\n",
    "results_df"
   ]
  },
  {
   "cell_type": "markdown",
   "metadata": {},
   "source": [
    "b. For SMOTE model"
   ]
  },
  {
   "cell_type": "code",
   "execution_count": 88,
   "metadata": {},
   "outputs": [
    {
     "data": {
      "text/html": [
       "<div>\n",
       "<style scoped>\n",
       "    .dataframe tbody tr th:only-of-type {\n",
       "        vertical-align: middle;\n",
       "    }\n",
       "\n",
       "    .dataframe tbody tr th {\n",
       "        vertical-align: top;\n",
       "    }\n",
       "\n",
       "    .dataframe thead th {\n",
       "        text-align: right;\n",
       "    }\n",
       "</style>\n",
       "<table border=\"1\" class=\"dataframe\">\n",
       "  <thead>\n",
       "    <tr style=\"text-align: right;\">\n",
       "      <th></th>\n",
       "      <th>Precision</th>\n",
       "      <th>Recall</th>\n",
       "      <th>F1 Score</th>\n",
       "      <th>PR AUC</th>\n",
       "      <th>ROC AUC</th>\n",
       "    </tr>\n",
       "  </thead>\n",
       "  <tbody>\n",
       "    <tr>\n",
       "      <th>Logistic Regression with SMOTE after Tuning Threshold</th>\n",
       "      <td>0.218282</td>\n",
       "      <td>0.618653</td>\n",
       "      <td>0.322703</td>\n",
       "      <td>0.149548</td>\n",
       "      <td>0.912696</td>\n",
       "    </tr>\n",
       "  </tbody>\n",
       "</table>\n",
       "</div>"
      ],
      "text/plain": [
       "                                                    Precision    Recall  \\\n",
       "Logistic Regression with SMOTE after Tuning Thr...   0.218282  0.618653   \n",
       "\n",
       "                                                    F1 Score    PR AUC  \\\n",
       "Logistic Regression with SMOTE after Tuning Thr...  0.322703  0.149548   \n",
       "\n",
       "                                                     ROC AUC  \n",
       "Logistic Regression with SMOTE after Tuning Thr...  0.912696  "
      ]
     },
     "execution_count": 88,
     "metadata": {},
     "output_type": "execute_result"
    }
   ],
   "source": [
    "y_val_pred_prob_smote = model_SMOTE.predict_proba(X_val)[:, 1]\n",
    "\n",
    "precision, recall, thresholds = precision_recall_curve(y_val, y_val_pred_prob_smote)\n",
    "\n",
    "f1_scores_smote = 2 * (precision * recall) / (precision + recall)\n",
    "f1_scores_smote = np.nan_to_num(f1_scores_smote) # handles division by zero\n",
    "\n",
    "best_f1_idx = np.argmax(f1_scores_smote) # index of highest f1 score\n",
    "best_threshold = thresholds[best_f1_idx]\n",
    "best_f1_score = f1_scores_smote[best_f1_idx]\n",
    "\n",
    "y_val_pred_adjusted_smote = (y_val_pred_prob_smote >= best_threshold).astype(int) # final predictions using the selected threshold\n",
    "\n",
    "smote_model_threshold_tuned = evaluate_model(y_val, y_val_pred_adjusted_smote, y_val_pred_prob_smote, 'Logistic Regression with SMOTE after Tuning Threshold')\n",
    "smote_model_threshold_tuned"
   ]
  },
  {
   "cell_type": "code",
   "execution_count": 89,
   "metadata": {},
   "outputs": [
    {
     "data": {
      "image/png": "[encoded data removed]",
      "text/plain": [
       "<Figure size 576x432 with 1 Axes>"
      ]
     },
     "metadata": {
      "needs_background": "light"
     },
     "output_type": "display_data"
    },
    {
     "name": "stdout",
     "output_type": "stream",
     "text": [
      "Best Threshold: 0.8271038461636743\n",
      "Best F1 Score: 0.3227027027027027\n"
     ]
    },
    {
     "data": {
      "image/png": "[encoded data removed]",
      "text/plain": [
       "<Figure size 432x432 with 2 Axes>"
      ]
     },
     "metadata": {
      "needs_background": "light"
     },
     "output_type": "display_data"
    }
   ],
   "source": [
    "# Precision-Recall curve\n",
    "plt.figure(figsize=(8, 6))\n",
    "plt.plot(recall, precision, label='Precision-Recall Curve')\n",
    "plt.xlabel('Recall')\n",
    "plt.ylabel('Precision')\n",
    "plt.title('Precision-Recall Curve')\n",
    "plt.legend(loc=\"lower left\")\n",
    "plt.show()\n",
    "\n",
    "print(f\"Best Threshold: {best_threshold}\")\n",
    "print(f\"Best F1 Score: {best_f1_score}\")\n",
    "\n",
    "plot_confusion_matrix(y_val, y_val_pred_adjusted_smote, 'Logistic Regression with SMOTE after Tuning Threshold')\n"
   ]
  },
  {
   "cell_type": "code",
   "execution_count": 90,
   "metadata": {},
   "outputs": [
    {
     "data": {
      "text/html": [
       "<div>\n",
       "<style scoped>\n",
       "    .dataframe tbody tr th:only-of-type {\n",
       "        vertical-align: middle;\n",
       "    }\n",
       "\n",
       "    .dataframe tbody tr th {\n",
       "        vertical-align: top;\n",
       "    }\n",
       "\n",
       "    .dataframe thead th {\n",
       "        text-align: right;\n",
       "    }\n",
       "</style>\n",
       "<table border=\"1\" class=\"dataframe\">\n",
       "  <thead>\n",
       "    <tr style=\"text-align: right;\">\n",
       "      <th></th>\n",
       "      <th>Precision</th>\n",
       "      <th>Recall</th>\n",
       "      <th>F1 Score</th>\n",
       "      <th>PR AUC</th>\n",
       "      <th>ROC AUC</th>\n",
       "    </tr>\n",
       "  </thead>\n",
       "  <tbody>\n",
       "    <tr>\n",
       "      <th>Logistic Regression Baseline</th>\n",
       "      <td>0.057971</td>\n",
       "      <td>0.004145</td>\n",
       "      <td>0.007737</td>\n",
       "      <td>0.229586</td>\n",
       "      <td>0.816154</td>\n",
       "    </tr>\n",
       "    <tr>\n",
       "      <th>Logistic Regression with SMOTE</th>\n",
       "      <td>0.030848</td>\n",
       "      <td>0.753368</td>\n",
       "      <td>0.059270</td>\n",
       "      <td>0.149548</td>\n",
       "      <td>0.912696</td>\n",
       "    </tr>\n",
       "    <tr>\n",
       "      <th>Logistic Regression with Random Undersampling</th>\n",
       "      <td>0.031275</td>\n",
       "      <td>0.758549</td>\n",
       "      <td>0.060074</td>\n",
       "      <td>0.148303</td>\n",
       "      <td>0.912725</td>\n",
       "    </tr>\n",
       "    <tr>\n",
       "      <th>Logistic Regression with Random Oversampling</th>\n",
       "      <td>0.032579</td>\n",
       "      <td>0.756477</td>\n",
       "      <td>0.062468</td>\n",
       "      <td>0.150238</td>\n",
       "      <td>0.912446</td>\n",
       "    </tr>\n",
       "    <tr>\n",
       "      <th>Logistic Regression Baseline after Tuning Threshold</th>\n",
       "      <td>0.535191</td>\n",
       "      <td>0.378238</td>\n",
       "      <td>0.443230</td>\n",
       "      <td>0.229586</td>\n",
       "      <td>0.816154</td>\n",
       "    </tr>\n",
       "    <tr>\n",
       "      <th>Logistic Regression with SMOTE after Tuning Threshold</th>\n",
       "      <td>0.218282</td>\n",
       "      <td>0.618653</td>\n",
       "      <td>0.322703</td>\n",
       "      <td>0.149548</td>\n",
       "      <td>0.912696</td>\n",
       "    </tr>\n",
       "  </tbody>\n",
       "</table>\n",
       "</div>"
      ],
      "text/plain": [
       "                                                    Precision    Recall  \\\n",
       "Logistic Regression Baseline                         0.057971  0.004145   \n",
       "Logistic Regression with SMOTE                       0.030848  0.753368   \n",
       "Logistic Regression with Random Undersampling        0.031275  0.758549   \n",
       "Logistic Regression with Random Oversampling         0.032579  0.756477   \n",
       "Logistic Regression Baseline after Tuning Thres...   0.535191  0.378238   \n",
       "Logistic Regression with SMOTE after Tuning Thr...   0.218282  0.618653   \n",
       "\n",
       "                                                    F1 Score    PR AUC  \\\n",
       "Logistic Regression Baseline                        0.007737  0.229586   \n",
       "Logistic Regression with SMOTE                      0.059270  0.149548   \n",
       "Logistic Regression with Random Undersampling       0.060074  0.148303   \n",
       "Logistic Regression with Random Oversampling        0.062468  0.150238   \n",
       "Logistic Regression Baseline after Tuning Thres...  0.443230  0.229586   \n",
       "Logistic Regression with SMOTE after Tuning Thr...  0.322703  0.149548   \n",
       "\n",
       "                                                     ROC AUC  \n",
       "Logistic Regression Baseline                        0.816154  \n",
       "Logistic Regression with SMOTE                      0.912696  \n",
       "Logistic Regression with Random Undersampling       0.912725  \n",
       "Logistic Regression with Random Oversampling        0.912446  \n",
       "Logistic Regression Baseline after Tuning Thres...  0.816154  \n",
       "Logistic Regression with SMOTE after Tuning Thr...  0.912696  "
      ]
     },
     "execution_count": 90,
     "metadata": {},
     "output_type": "execute_result"
    }
   ],
   "source": [
    "results_df = pd.concat([results_df, smote_model_threshold_tuned],axis=0)\n",
    "results_df"
   ]
  },
  {
   "cell_type": "markdown",
   "metadata": {},
   "source": [
    "c. For Random Undersampling Model"
   ]
  },
  {
   "cell_type": "code",
   "execution_count": 91,
   "metadata": {},
   "outputs": [
    {
     "data": {
      "text/html": [
       "<div>\n",
       "<style scoped>\n",
       "    .dataframe tbody tr th:only-of-type {\n",
       "        vertical-align: middle;\n",
       "    }\n",
       "\n",
       "    .dataframe tbody tr th {\n",
       "        vertical-align: top;\n",
       "    }\n",
       "\n",
       "    .dataframe thead th {\n",
       "        text-align: right;\n",
       "    }\n",
       "</style>\n",
       "<table border=\"1\" class=\"dataframe\">\n",
       "  <thead>\n",
       "    <tr style=\"text-align: right;\">\n",
       "      <th></th>\n",
       "      <th>Precision</th>\n",
       "      <th>Recall</th>\n",
       "      <th>F1 Score</th>\n",
       "      <th>PR AUC</th>\n",
       "      <th>ROC AUC</th>\n",
       "    </tr>\n",
       "  </thead>\n",
       "  <tbody>\n",
       "    <tr>\n",
       "      <th>Logistic Regression with Random Undersampling after Tuning Threshold</th>\n",
       "      <td>0.209396</td>\n",
       "      <td>0.646632</td>\n",
       "      <td>0.31635</td>\n",
       "      <td>0.148303</td>\n",
       "      <td>0.912725</td>\n",
       "    </tr>\n",
       "  </tbody>\n",
       "</table>\n",
       "</div>"
      ],
      "text/plain": [
       "                                                    Precision    Recall  \\\n",
       "Logistic Regression with Random Undersampling a...   0.209396  0.646632   \n",
       "\n",
       "                                                    F1 Score    PR AUC  \\\n",
       "Logistic Regression with Random Undersampling a...   0.31635  0.148303   \n",
       "\n",
       "                                                     ROC AUC  \n",
       "Logistic Regression with Random Undersampling a...  0.912725  "
      ]
     },
     "execution_count": 91,
     "metadata": {},
     "output_type": "execute_result"
    }
   ],
   "source": [
    "y_val_pred_prob_rus = model_RUS.predict_proba(X_val)[:, 1]\n",
    "\n",
    "precision, recall, thresholds = precision_recall_curve(y_val, y_val_pred_prob_rus)\n",
    "\n",
    "f1_scores_rus = 2 * (precision * recall) / (precision + recall)\n",
    "f1_scores_rus = np.nan_to_num(f1_scores_rus) # handles division by zero\n",
    "\n",
    "best_f1_idx = np.argmax(f1_scores_rus) # index of highest f1 score\n",
    "best_threshold = thresholds[best_f1_idx]\n",
    "best_f1_score = f1_scores_rus[best_f1_idx]\n",
    "\n",
    "y_val_pred_adjusted_rus = (y_val_pred_prob_rus >= best_threshold).astype(int) # final predictions using the selected threshold\n",
    "\n",
    "rus_model_threshold_tuned = evaluate_model(y_val, y_val_pred_adjusted_rus, y_val_pred_prob_rus, 'Logistic Regression with Random Undersampling after Tuning Threshold')\n",
    "rus_model_threshold_tuned"
   ]
  },
  {
   "cell_type": "markdown",
   "metadata": {},
   "source": [
    "d. For Random Oversampling Model"
   ]
  },
  {
   "cell_type": "code",
   "execution_count": 92,
   "metadata": {},
   "outputs": [
    {
     "data": {
      "text/html": [
       "<div>\n",
       "<style scoped>\n",
       "    .dataframe tbody tr th:only-of-type {\n",
       "        vertical-align: middle;\n",
       "    }\n",
       "\n",
       "    .dataframe tbody tr th {\n",
       "        vertical-align: top;\n",
       "    }\n",
       "\n",
       "    .dataframe thead th {\n",
       "        text-align: right;\n",
       "    }\n",
       "</style>\n",
       "<table border=\"1\" class=\"dataframe\">\n",
       "  <thead>\n",
       "    <tr style=\"text-align: right;\">\n",
       "      <th></th>\n",
       "      <th>Precision</th>\n",
       "      <th>Recall</th>\n",
       "      <th>F1 Score</th>\n",
       "      <th>PR AUC</th>\n",
       "      <th>ROC AUC</th>\n",
       "    </tr>\n",
       "  </thead>\n",
       "  <tbody>\n",
       "    <tr>\n",
       "      <th>Logistic Regression with Random Oversamlping after Tuning Threshold</th>\n",
       "      <td>0.211024</td>\n",
       "      <td>0.670466</td>\n",
       "      <td>0.321012</td>\n",
       "      <td>0.150238</td>\n",
       "      <td>0.912446</td>\n",
       "    </tr>\n",
       "  </tbody>\n",
       "</table>\n",
       "</div>"
      ],
      "text/plain": [
       "                                                    Precision    Recall  \\\n",
       "Logistic Regression with Random Oversamlping af...   0.211024  0.670466   \n",
       "\n",
       "                                                    F1 Score    PR AUC  \\\n",
       "Logistic Regression with Random Oversamlping af...  0.321012  0.150238   \n",
       "\n",
       "                                                     ROC AUC  \n",
       "Logistic Regression with Random Oversamlping af...  0.912446  "
      ]
     },
     "execution_count": 92,
     "metadata": {},
     "output_type": "execute_result"
    }
   ],
   "source": [
    "y_val_pred_prob_ros = model_ROS.predict_proba(X_val)[:, 1]\n",
    "\n",
    "precision, recall, thresholds = precision_recall_curve(y_val, y_val_pred_prob_ros)\n",
    " \n",
    "f1_scores_ros = 2 * (precision * recall) / (precision + recall)\n",
    "f1_scores_ros = np.nan_to_num(f1_scores_ros) # handles division by zero\n",
    "\n",
    "best_f1_idx = np.argmax(f1_scores_ros) # index of highest f1 score\n",
    "best_threshold = thresholds[best_f1_idx]\n",
    "best_f1_score = f1_scores_ros[best_f1_idx]\n",
    "\n",
    "y_val_pred_adjusted_ros = (y_val_pred_prob_ros >= best_threshold).astype(int) # final predictions using the selected threshold\n",
    "\n",
    "ros_model_threshold_tuned = evaluate_model(y_val, y_val_pred_adjusted_ros, y_val_pred_prob_ros, 'Logistic Regression with Random Oversamlping after Tuning Threshold')\n",
    "ros_model_threshold_tuned"
   ]
  },
  {
   "cell_type": "code",
   "execution_count": 93,
   "metadata": {},
   "outputs": [
    {
     "data": {
      "text/plain": [
       "0.7906691000391646"
      ]
     },
     "execution_count": 93,
     "metadata": {},
     "output_type": "execute_result"
    }
   ],
   "source": [
    "best_threshold"
   ]
  },
  {
   "cell_type": "code",
   "execution_count": 94,
   "metadata": {},
   "outputs": [
    {
     "data": {
      "text/html": [
       "<div>\n",
       "<style scoped>\n",
       "    .dataframe tbody tr th:only-of-type {\n",
       "        vertical-align: middle;\n",
       "    }\n",
       "\n",
       "    .dataframe tbody tr th {\n",
       "        vertical-align: top;\n",
       "    }\n",
       "\n",
       "    .dataframe thead th {\n",
       "        text-align: right;\n",
       "    }\n",
       "</style>\n",
       "<table border=\"1\" class=\"dataframe\">\n",
       "  <thead>\n",
       "    <tr style=\"text-align: right;\">\n",
       "      <th></th>\n",
       "      <th>Precision</th>\n",
       "      <th>Recall</th>\n",
       "      <th>F1 Score</th>\n",
       "      <th>PR AUC</th>\n",
       "      <th>ROC AUC</th>\n",
       "    </tr>\n",
       "  </thead>\n",
       "  <tbody>\n",
       "    <tr>\n",
       "      <th>Logistic Regression Baseline</th>\n",
       "      <td>0.057971</td>\n",
       "      <td>0.004145</td>\n",
       "      <td>0.007737</td>\n",
       "      <td>0.229586</td>\n",
       "      <td>0.816154</td>\n",
       "    </tr>\n",
       "    <tr>\n",
       "      <th>Logistic Regression with SMOTE</th>\n",
       "      <td>0.030848</td>\n",
       "      <td>0.753368</td>\n",
       "      <td>0.059270</td>\n",
       "      <td>0.149548</td>\n",
       "      <td>0.912696</td>\n",
       "    </tr>\n",
       "    <tr>\n",
       "      <th>Logistic Regression with Random Undersampling</th>\n",
       "      <td>0.031275</td>\n",
       "      <td>0.758549</td>\n",
       "      <td>0.060074</td>\n",
       "      <td>0.148303</td>\n",
       "      <td>0.912725</td>\n",
       "    </tr>\n",
       "    <tr>\n",
       "      <th>Logistic Regression with Random Oversampling</th>\n",
       "      <td>0.032579</td>\n",
       "      <td>0.756477</td>\n",
       "      <td>0.062468</td>\n",
       "      <td>0.150238</td>\n",
       "      <td>0.912446</td>\n",
       "    </tr>\n",
       "    <tr>\n",
       "      <th>Logistic Regression Baseline after Tuning Threshold</th>\n",
       "      <td>0.535191</td>\n",
       "      <td>0.378238</td>\n",
       "      <td>0.443230</td>\n",
       "      <td>0.229586</td>\n",
       "      <td>0.816154</td>\n",
       "    </tr>\n",
       "    <tr>\n",
       "      <th>Logistic Regression with SMOTE after Tuning Threshold</th>\n",
       "      <td>0.218282</td>\n",
       "      <td>0.618653</td>\n",
       "      <td>0.322703</td>\n",
       "      <td>0.149548</td>\n",
       "      <td>0.912696</td>\n",
       "    </tr>\n",
       "    <tr>\n",
       "      <th>Logistic Regression with Random Undersampling after Tuning Threshold</th>\n",
       "      <td>0.209396</td>\n",
       "      <td>0.646632</td>\n",
       "      <td>0.316350</td>\n",
       "      <td>0.148303</td>\n",
       "      <td>0.912725</td>\n",
       "    </tr>\n",
       "    <tr>\n",
       "      <th>Logistic Regression with Random Oversamlping after Tuning Threshold</th>\n",
       "      <td>0.211024</td>\n",
       "      <td>0.670466</td>\n",
       "      <td>0.321012</td>\n",
       "      <td>0.150238</td>\n",
       "      <td>0.912446</td>\n",
       "    </tr>\n",
       "  </tbody>\n",
       "</table>\n",
       "</div>"
      ],
      "text/plain": [
       "                                                    Precision    Recall  \\\n",
       "Logistic Regression Baseline                         0.057971  0.004145   \n",
       "Logistic Regression with SMOTE                       0.030848  0.753368   \n",
       "Logistic Regression with Random Undersampling        0.031275  0.758549   \n",
       "Logistic Regression with Random Oversampling         0.032579  0.756477   \n",
       "Logistic Regression Baseline after Tuning Thres...   0.535191  0.378238   \n",
       "Logistic Regression with SMOTE after Tuning Thr...   0.218282  0.618653   \n",
       "Logistic Regression with Random Undersampling a...   0.209396  0.646632   \n",
       "Logistic Regression with Random Oversamlping af...   0.211024  0.670466   \n",
       "\n",
       "                                                    F1 Score    PR AUC  \\\n",
       "Logistic Regression Baseline                        0.007737  0.229586   \n",
       "Logistic Regression with SMOTE                      0.059270  0.149548   \n",
       "Logistic Regression with Random Undersampling       0.060074  0.148303   \n",
       "Logistic Regression with Random Oversampling        0.062468  0.150238   \n",
       "Logistic Regression Baseline after Tuning Thres...  0.443230  0.229586   \n",
       "Logistic Regression with SMOTE after Tuning Thr...  0.322703  0.149548   \n",
       "Logistic Regression with Random Undersampling a...  0.316350  0.148303   \n",
       "Logistic Regression with Random Oversamlping af...  0.321012  0.150238   \n",
       "\n",
       "                                                     ROC AUC  \n",
       "Logistic Regression Baseline                        0.816154  \n",
       "Logistic Regression with SMOTE                      0.912696  \n",
       "Logistic Regression with Random Undersampling       0.912725  \n",
       "Logistic Regression with Random Oversampling        0.912446  \n",
       "Logistic Regression Baseline after Tuning Thres...  0.816154  \n",
       "Logistic Regression with SMOTE after Tuning Thr...  0.912696  \n",
       "Logistic Regression with Random Undersampling a...  0.912725  \n",
       "Logistic Regression with Random Oversamlping af...  0.912446  "
      ]
     },
     "execution_count": 94,
     "metadata": {},
     "output_type": "execute_result"
    }
   ],
   "source": [
    "results_df = pd.concat([results_df, rus_model_threshold_tuned],axis=0)\n",
    "results_df = pd.concat([results_df, ros_model_threshold_tuned],axis=0)\n",
    "results_df"
   ]
  },
  {
   "cell_type": "markdown",
   "metadata": {},
   "source": [
    "## One-Time Assessment of Best LR Model on Testing Set\n",
    "To understand model performance on unseen data."
   ]
  },
  {
   "cell_type": "code",
   "execution_count": 95,
   "metadata": {},
   "outputs": [
    {
     "data": {
      "text/html": [
       "<style>#sk-container-id-8 {color: black;background-color: white;}#sk-container-id-8 pre{padding: 0;}#sk-container-id-8 div.sk-toggleable {background-color: white;}#sk-container-id-8 label.sk-toggleable__label {cursor: pointer;display: block;width: 100%;margin-bottom: 0;padding: 0.3em;box-sizing: border-box;text-align: center;}#sk-container-id-8 label.sk-toggleable__label-arrow:before {content: \"▸\";float: left;margin-right: 0.25em;color: #696969;}#sk-container-id-8 label.sk-toggleable__label-arrow:hover:before {color: black;}#sk-container-id-8 div.sk-estimator:hover label.sk-toggleable__label-arrow:before {color: black;}#sk-container-id-8 div.sk-toggleable__content {max-height: 0;max-width: 0;overflow: hidden;text-align: left;background-color: #f0f8ff;}#sk-container-id-8 div.sk-toggleable__content pre {margin: 0.2em;color: black;border-radius: 0.25em;background-color: #f0f8ff;}#sk-container-id-8 input.sk-toggleable__control:checked~div.sk-toggleable__content {max-height: 200px;max-width: 100%;overflow: auto;}#sk-container-id-8 input.sk-toggleable__control:checked~label.sk-toggleable__label-arrow:before {content: \"▾\";}#sk-container-id-8 div.sk-estimator input.sk-toggleable__control:checked~label.sk-toggleable__label {background-color: #d4ebff;}#sk-container-id-8 div.sk-label input.sk-toggleable__control:checked~label.sk-toggleable__label {background-color: #d4ebff;}#sk-container-id-8 input.sk-hidden--visually {border: 0;clip: rect(1px 1px 1px 1px);clip: rect(1px, 1px, 1px, 1px);height: 1px;margin: -1px;overflow: hidden;padding: 0;position: absolute;width: 1px;}#sk-container-id-8 div.sk-estimator {font-family: monospace;background-color: #f0f8ff;border: 1px dotted black;border-radius: 0.25em;box-sizing: border-box;margin-bottom: 0.5em;}#sk-container-id-8 div.sk-estimator:hover {background-color: #d4ebff;}#sk-container-id-8 div.sk-parallel-item::after {content: \"\";width: 100%;border-bottom: 1px solid gray;flex-grow: 1;}#sk-container-id-8 div.sk-label:hover label.sk-toggleable__label {background-color: #d4ebff;}#sk-container-id-8 div.sk-serial::before {content: \"\";position: absolute;border-left: 1px solid gray;box-sizing: border-box;top: 0;bottom: 0;left: 50%;z-index: 0;}#sk-container-id-8 div.sk-serial {display: flex;flex-direction: column;align-items: center;background-color: white;padding-right: 0.2em;padding-left: 0.2em;position: relative;}#sk-container-id-8 div.sk-item {position: relative;z-index: 1;}#sk-container-id-8 div.sk-parallel {display: flex;align-items: stretch;justify-content: center;background-color: white;position: relative;}#sk-container-id-8 div.sk-item::before, #sk-container-id-8 div.sk-parallel-item::before {content: \"\";position: absolute;border-left: 1px solid gray;box-sizing: border-box;top: 0;bottom: 0;left: 50%;z-index: -1;}#sk-container-id-8 div.sk-parallel-item {display: flex;flex-direction: column;z-index: 1;position: relative;background-color: white;}#sk-container-id-8 div.sk-parallel-item:first-child::after {align-self: flex-end;width: 50%;}#sk-container-id-8 div.sk-parallel-item:last-child::after {align-self: flex-start;width: 50%;}#sk-container-id-8 div.sk-parallel-item:only-child::after {width: 0;}#sk-container-id-8 div.sk-dashed-wrapped {border: 1px dashed gray;margin: 0 0.4em 0.5em 0.4em;box-sizing: border-box;padding-bottom: 0.4em;background-color: white;}#sk-container-id-8 div.sk-label label {font-family: monospace;font-weight: bold;display: inline-block;line-height: 1.2em;}#sk-container-id-8 div.sk-label-container {text-align: center;}#sk-container-id-8 div.sk-container {/* jupyter's `normalize.less` sets `[hidden] { display: none; }` but bootstrap.min.css set `[hidden] { display: none !important; }` so we also need the `!important` here to be able to override the default hidden behavior on the sphinx rendered scikit-learn.org. See: https://github.com/scikit-learn/scikit-learn/issues/21755 */display: inline-block !important;position: relative;}#sk-container-id-8 div.sk-text-repr-fallback {display: none;}</style><div id=\"sk-container-id-8\" class=\"sk-top-container\"><div class=\"sk-text-repr-fallback\"><pre>Pipeline(steps=[(&#x27;preprocessor&#x27;,\n",
       "                 ColumnTransformer(transformers=[(&#x27;num&#x27;,\n",
       "                                                  Pipeline(steps=[(&#x27;imputer&#x27;,\n",
       "                                                                   SimpleImputer(strategy=&#x27;median&#x27;)),\n",
       "                                                                  (&#x27;scaler&#x27;,\n",
       "                                                                   StandardScaler())]),\n",
       "                                                  [&#x27;hour_of_day&#x27;, &#x27;distance&#x27;,\n",
       "                                                   &#x27;amount(usd)&#x27;]),\n",
       "                                                 (&#x27;cat&#x27;,\n",
       "                                                  Pipeline(steps=[(&#x27;imputer&#x27;,\n",
       "                                                                   SimpleImputer(fill_value=&#x27;missing&#x27;,\n",
       "                                                                                 strategy=&#x27;constant&#x27;)),\n",
       "                                                                  (&#x27;onehot&#x27;,\n",
       "                                                                   OneHotEncoder(handle_unknown=&#x27;ignore&#x27;))]),\n",
       "                                                  [&#x27;day_of_week&#x27;, &#x27;category&#x27;,\n",
       "                                                   &#x27;gender&#x27;, &#x27;age_group&#x27;,\n",
       "                                                   &#x27;state&#x27;,\n",
       "                                                   &#x27;job_category&#x27;])])),\n",
       "                (&#x27;classifier&#x27;, LogisticRegression(random_state=42))])</pre><b>In a Jupyter environment, please rerun this cell to show the HTML representation or trust the notebook. <br />On GitHub, the HTML representation is unable to render, please try loading this page with nbviewer.org.</b></div><div class=\"sk-container\" hidden><div class=\"sk-item sk-dashed-wrapped\"><div class=\"sk-label-container\"><div class=\"sk-label sk-toggleable\"><input class=\"sk-toggleable__control sk-hidden--visually\" id=\"sk-estimator-id-70\" type=\"checkbox\" ><label for=\"sk-estimator-id-70\" class=\"sk-toggleable__label sk-toggleable__label-arrow\">Pipeline</label><div class=\"sk-toggleable__content\"><pre>Pipeline(steps=[(&#x27;preprocessor&#x27;,\n",
       "                 ColumnTransformer(transformers=[(&#x27;num&#x27;,\n",
       "                                                  Pipeline(steps=[(&#x27;imputer&#x27;,\n",
       "                                                                   SimpleImputer(strategy=&#x27;median&#x27;)),\n",
       "                                                                  (&#x27;scaler&#x27;,\n",
       "                                                                   StandardScaler())]),\n",
       "                                                  [&#x27;hour_of_day&#x27;, &#x27;distance&#x27;,\n",
       "                                                   &#x27;amount(usd)&#x27;]),\n",
       "                                                 (&#x27;cat&#x27;,\n",
       "                                                  Pipeline(steps=[(&#x27;imputer&#x27;,\n",
       "                                                                   SimpleImputer(fill_value=&#x27;missing&#x27;,\n",
       "                                                                                 strategy=&#x27;constant&#x27;)),\n",
       "                                                                  (&#x27;onehot&#x27;,\n",
       "                                                                   OneHotEncoder(handle_unknown=&#x27;ignore&#x27;))]),\n",
       "                                                  [&#x27;day_of_week&#x27;, &#x27;category&#x27;,\n",
       "                                                   &#x27;gender&#x27;, &#x27;age_group&#x27;,\n",
       "                                                   &#x27;state&#x27;,\n",
       "                                                   &#x27;job_category&#x27;])])),\n",
       "                (&#x27;classifier&#x27;, LogisticRegression(random_state=42))])</pre></div></div></div><div class=\"sk-serial\"><div class=\"sk-item sk-dashed-wrapped\"><div class=\"sk-label-container\"><div class=\"sk-label sk-toggleable\"><input class=\"sk-toggleable__control sk-hidden--visually\" id=\"sk-estimator-id-71\" type=\"checkbox\" ><label for=\"sk-estimator-id-71\" class=\"sk-toggleable__label sk-toggleable__label-arrow\">preprocessor: ColumnTransformer</label><div class=\"sk-toggleable__content\"><pre>ColumnTransformer(transformers=[(&#x27;num&#x27;,\n",
       "                                 Pipeline(steps=[(&#x27;imputer&#x27;,\n",
       "                                                  SimpleImputer(strategy=&#x27;median&#x27;)),\n",
       "                                                 (&#x27;scaler&#x27;, StandardScaler())]),\n",
       "                                 [&#x27;hour_of_day&#x27;, &#x27;distance&#x27;, &#x27;amount(usd)&#x27;]),\n",
       "                                (&#x27;cat&#x27;,\n",
       "                                 Pipeline(steps=[(&#x27;imputer&#x27;,\n",
       "                                                  SimpleImputer(fill_value=&#x27;missing&#x27;,\n",
       "                                                                strategy=&#x27;constant&#x27;)),\n",
       "                                                 (&#x27;onehot&#x27;,\n",
       "                                                  OneHotEncoder(handle_unknown=&#x27;ignore&#x27;))]),\n",
       "                                 [&#x27;day_of_week&#x27;, &#x27;category&#x27;, &#x27;gender&#x27;,\n",
       "                                  &#x27;age_group&#x27;, &#x27;state&#x27;, &#x27;job_category&#x27;])])</pre></div></div></div><div class=\"sk-parallel\"><div class=\"sk-parallel-item\"><div class=\"sk-item\"><div class=\"sk-label-container\"><div class=\"sk-label sk-toggleable\"><input class=\"sk-toggleable__control sk-hidden--visually\" id=\"sk-estimator-id-72\" type=\"checkbox\" ><label for=\"sk-estimator-id-72\" class=\"sk-toggleable__label sk-toggleable__label-arrow\">num</label><div class=\"sk-toggleable__content\"><pre>[&#x27;hour_of_day&#x27;, &#x27;distance&#x27;, &#x27;amount(usd)&#x27;]</pre></div></div></div><div class=\"sk-serial\"><div class=\"sk-item\"><div class=\"sk-serial\"><div class=\"sk-item\"><div class=\"sk-estimator sk-toggleable\"><input class=\"sk-toggleable__control sk-hidden--visually\" id=\"sk-estimator-id-73\" type=\"checkbox\" ><label for=\"sk-estimator-id-73\" class=\"sk-toggleable__label sk-toggleable__label-arrow\">SimpleImputer</label><div class=\"sk-toggleable__content\"><pre>SimpleImputer(strategy=&#x27;median&#x27;)</pre></div></div></div><div class=\"sk-item\"><div class=\"sk-estimator sk-toggleable\"><input class=\"sk-toggleable__control sk-hidden--visually\" id=\"sk-estimator-id-74\" type=\"checkbox\" ><label for=\"sk-estimator-id-74\" class=\"sk-toggleable__label sk-toggleable__label-arrow\">StandardScaler</label><div class=\"sk-toggleable__content\"><pre>StandardScaler()</pre></div></div></div></div></div></div></div></div><div class=\"sk-parallel-item\"><div class=\"sk-item\"><div class=\"sk-label-container\"><div class=\"sk-label sk-toggleable\"><input class=\"sk-toggleable__control sk-hidden--visually\" id=\"sk-estimator-id-75\" type=\"checkbox\" ><label for=\"sk-estimator-id-75\" class=\"sk-toggleable__label sk-toggleable__label-arrow\">cat</label><div class=\"sk-toggleable__content\"><pre>[&#x27;day_of_week&#x27;, &#x27;category&#x27;, &#x27;gender&#x27;, &#x27;age_group&#x27;, &#x27;state&#x27;, &#x27;job_category&#x27;]</pre></div></div></div><div class=\"sk-serial\"><div class=\"sk-item\"><div class=\"sk-serial\"><div class=\"sk-item\"><div class=\"sk-estimator sk-toggleable\"><input class=\"sk-toggleable__control sk-hidden--visually\" id=\"sk-estimator-id-76\" type=\"checkbox\" ><label for=\"sk-estimator-id-76\" class=\"sk-toggleable__label sk-toggleable__label-arrow\">SimpleImputer</label><div class=\"sk-toggleable__content\"><pre>SimpleImputer(fill_value=&#x27;missing&#x27;, strategy=&#x27;constant&#x27;)</pre></div></div></div><div class=\"sk-item\"><div class=\"sk-estimator sk-toggleable\"><input class=\"sk-toggleable__control sk-hidden--visually\" id=\"sk-estimator-id-77\" type=\"checkbox\" ><label for=\"sk-estimator-id-77\" class=\"sk-toggleable__label sk-toggleable__label-arrow\">OneHotEncoder</label><div class=\"sk-toggleable__content\"><pre>OneHotEncoder(handle_unknown=&#x27;ignore&#x27;)</pre></div></div></div></div></div></div></div></div></div></div><div class=\"sk-item\"><div class=\"sk-estimator sk-toggleable\"><input class=\"sk-toggleable__control sk-hidden--visually\" id=\"sk-estimator-id-78\" type=\"checkbox\" ><label for=\"sk-estimator-id-78\" class=\"sk-toggleable__label sk-toggleable__label-arrow\">LogisticRegression</label><div class=\"sk-toggleable__content\"><pre>LogisticRegression(random_state=42)</pre></div></div></div></div></div></div></div>"
      ],
      "text/plain": [
       "Pipeline(steps=[('preprocessor',\n",
       "                 ColumnTransformer(transformers=[('num',\n",
       "                                                  Pipeline(steps=[('imputer',\n",
       "                                                                   SimpleImputer(strategy='median')),\n",
       "                                                                  ('scaler',\n",
       "                                                                   StandardScaler())]),\n",
       "                                                  ['hour_of_day', 'distance',\n",
       "                                                   'amount(usd)']),\n",
       "                                                 ('cat',\n",
       "                                                  Pipeline(steps=[('imputer',\n",
       "                                                                   SimpleImputer(fill_value='missing',\n",
       "                                                                                 strategy='constant')),\n",
       "                                                                  ('onehot',\n",
       "                                                                   OneHotEncoder(handle_unknown='ignore'))]),\n",
       "                                                  ['day_of_week', 'category',\n",
       "                                                   'gender', 'age_group',\n",
       "                                                   'state',\n",
       "                                                   'job_category'])])),\n",
       "                ('classifier', LogisticRegression(random_state=42))])"
      ]
     },
     "execution_count": 95,
     "metadata": {},
     "output_type": "execute_result"
    }
   ],
   "source": [
    "best_lr_model = Pipeline(steps=[\n",
    "    ('preprocessor', preprocessor),\n",
    "    ('classifier', LogisticRegression(random_state=42))\n",
    "])\n",
    "\n",
    "best_lr_model.fit(X_train, y_train)"
   ]
  },
  {
   "cell_type": "markdown",
   "metadata": {},
   "source": [
    "Evaluate on Testing Set"
   ]
  },
  {
   "cell_type": "code",
   "execution_count": 96,
   "metadata": {},
   "outputs": [],
   "source": [
    "y_test_pred = best_lr_model.predict(X_test)\n",
    "y_test_pred_prob = best_lr_model.predict_proba(X_test)[:, 1] # probabilities for ROC AUC"
   ]
  },
  {
   "cell_type": "code",
   "execution_count": 97,
   "metadata": {},
   "outputs": [],
   "source": [
    "best_threshold = 0.7906691000391646\n",
    "y_test_pred_adjusted = (y_test_pred_prob >= best_threshold).astype(int)"
   ]
  },
  {
   "cell_type": "code",
   "execution_count": 98,
   "metadata": {},
   "outputs": [
    {
     "data": {
      "text/html": [
       "<div>\n",
       "<style scoped>\n",
       "    .dataframe tbody tr th:only-of-type {\n",
       "        vertical-align: middle;\n",
       "    }\n",
       "\n",
       "    .dataframe tbody tr th {\n",
       "        vertical-align: top;\n",
       "    }\n",
       "\n",
       "    .dataframe thead th {\n",
       "        text-align: right;\n",
       "    }\n",
       "</style>\n",
       "<table border=\"1\" class=\"dataframe\">\n",
       "  <thead>\n",
       "    <tr style=\"text-align: right;\">\n",
       "      <th></th>\n",
       "      <th>Precision</th>\n",
       "      <th>Recall</th>\n",
       "      <th>F1 Score</th>\n",
       "      <th>PR AUC</th>\n",
       "      <th>ROC AUC</th>\n",
       "    </tr>\n",
       "  </thead>\n",
       "  <tbody>\n",
       "    <tr>\n",
       "      <th>Best LR Model (Base Model with Threshold Tuned)</th>\n",
       "      <td>0.0</td>\n",
       "      <td>0.0</td>\n",
       "      <td>0.0</td>\n",
       "      <td>0.243331</td>\n",
       "      <td>0.825866</td>\n",
       "    </tr>\n",
       "  </tbody>\n",
       "</table>\n",
       "</div>"
      ],
      "text/plain": [
       "                                                 Precision  Recall  F1 Score  \\\n",
       "Best LR Model (Base Model with Threshold Tuned)        0.0     0.0       0.0   \n",
       "\n",
       "                                                   PR AUC   ROC AUC  \n",
       "Best LR Model (Base Model with Threshold Tuned)  0.243331  0.825866  "
      ]
     },
     "execution_count": 98,
     "metadata": {},
     "output_type": "execute_result"
    }
   ],
   "source": [
    "# evaluation metrics for the best model\n",
    "best_lr_model_results = evaluate_model(y_true=y_test,\n",
    "                                        y_pred=y_test_pred_adjusted, \n",
    "                                        y_pred_prob=y_test_pred_prob,\n",
    "                                        model_name='Best LR Model (Base Model with Threshold Tuned)')\n",
    "best_lr_model_results"
   ]
  },
  {
   "cell_type": "code",
   "execution_count": null,
   "metadata": {},
   "outputs": [],
   "source": []
  }
 ],
 "metadata": {
  "kernelspec": {
   "display_name": "Python 3",
   "language": "python",
   "name": "python3"
  },
  "language_info": {
   "codemirror_mode": {
    "name": "ipython",
    "version": 3
   },
   "file_extension": ".py",
   "mimetype": "text/x-python",
   "name": "python",
   "nbconvert_exporter": "python",
   "pygments_lexer": "ipython3",
   "version": "3.8.9"
  }
 },
 "nbformat": 4,
 "nbformat_minor": 2
}
